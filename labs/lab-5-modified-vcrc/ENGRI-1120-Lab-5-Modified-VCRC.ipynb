{
 "cells": [
  {
   "cell_type": "markdown",
   "id": "78d31b35-8bec-4fd5-9ca6-44fe0c81d1f2",
   "metadata": {},
   "source": [
    "## ENGRI 1120 Discussion 5: Modified Vapor Compression Refrigeration Cycle (mVCRC)"
   ]
  },
  {
   "cell_type": "markdown",
   "id": "d9ddc175-6d3c-42ac-ae21-66097e133dc7",
   "metadata": {},
   "source": [
    "<img src=\"figs/Fig-ModVCRC-Work-Recycle-F20.png\" style=\"width:50%\">"
   ]
  },
  {
   "cell_type": "markdown",
   "id": "728cfb7d-8df1-4881-b8d8-e45d0e7a1232",
   "metadata": {},
   "source": [
    "The vapor compression refrigeration cycle (VCRC) is a four-step open process to cool systems. The teaching team proposed modifying the original cycle in which the throttle valve is replaced by a turbine that can supply work to the compression step. In the modified cycle, $\\mathcal{P}_{ij}$ connects operating point $\\mathcal{O}_{i}$ to $\\mathcal{O}_{j}$:\n",
    "\n",
    "* Path $\\mathcal{P}_{12}$: _isobaric_ heating in an evaporator from $\\mathcal{O}_{1}$ to $\\mathcal{O}_{2}$\n",
    "* Path $\\mathcal{P}_{23}$: _adiabatic_ compression in a compressor from $\\mathcal{O}_{2}$ to $\\mathcal{O}_{3}$\n",
    "* Path $\\mathcal{P}_{34}$: _isobaric_ cooling in a condenser from $\\mathcal{O}_{3}$ to $\\mathcal{O}_{4}$\n",
    "* Path $\\mathcal{P}_{41}$: _adiabatic_ expansion in a turbine from $\\mathcal{O}_{4}$ to $\\mathcal{O}_{1}$"
   ]
  },
  {
   "cell_type": "markdown",
   "id": "e576cc80-cb94-4385-a290-620dede6f56e",
   "metadata": {},
   "source": [
    "__Assume__: (i) the cycle operates at steady-state; (ii) the working fluid R134A has a mass flow rate of $\\dot{m}$ = 0.167 kg s$^{-1}$; (iii) the turbine efficiency is $\\eta_{T}$ = 75\\%; (iv) compressor efficiency is $\\eta_{C}$ = 81\\%; (v) neglect changes in the kinetic and potential energy in the system and streams."
   ]
  },
  {
   "cell_type": "code",
   "execution_count": 4,
   "id": "d12f2294-0d51-4155-b82a-18de30cf4d74",
   "metadata": {},
   "outputs": [
    {
     "name": "stderr",
     "output_type": "stream",
     "text": [
      "\u001b[32m\u001b[1m  Activating\u001b[22m\u001b[39m project at `~/Documents/GitHub/ENGRI-1120-IntroToChemE-Example-Notebooks/labs/lab-5-modified-vcrc`\n",
      "\u001b[32m\u001b[1m  No Changes\u001b[22m\u001b[39m to `~/Documents/GitHub/ENGRI-1120-IntroToChemE-Example-Notebooks/labs/lab-5-modified-vcrc/Project.toml`\n",
      "\u001b[32m\u001b[1m  No Changes\u001b[22m\u001b[39m to `~/Documents/GitHub/ENGRI-1120-IntroToChemE-Example-Notebooks/labs/lab-5-modified-vcrc/Manifest.toml`\n"
     ]
    }
   ],
   "source": [
    "import Pkg; Pkg.activate(\".\"); Pkg.resolve(); Pkg.instantiate();"
   ]
  },
  {
   "cell_type": "code",
   "execution_count": 5,
   "id": "84a9c345-e8f8-4132-8bfe-202818348448",
   "metadata": {},
   "outputs": [],
   "source": [
    "using PrettyTables"
   ]
  },
  {
   "cell_type": "markdown",
   "id": "ca1b02bd-f335-4341-8d4b-9e373a26eb13",
   "metadata": {},
   "source": [
    "#### a) Compute the missing state values in the state table. \n",
    "Look up values on the PH-diagram for the particular working fluid in this system (R134A)."
   ]
  },
  {
   "cell_type": "code",
   "execution_count": 30,
   "id": "47759c35-31c1-45f5-90f6-2e8c863b76d9",
   "metadata": {},
   "outputs": [
    {
     "name": "stdout",
     "output_type": "stream",
     "text": [
      "┌────┬────────┬─────────┬───────┬─────────┬──────┐\n",
      "│\u001b[1m Op \u001b[0m│\u001b[1m      T \u001b[0m│\u001b[1m       P \u001b[0m│\u001b[1m     H \u001b[0m│\u001b[1m       S \u001b[0m│\u001b[1m    θ \u001b[0m│\n",
      "│\u001b[90m    \u001b[0m│\u001b[90m      C \u001b[0m│\u001b[90m     kPa \u001b[0m│\u001b[90m kJ/kg \u001b[0m│\u001b[90m kJ/kg-K \u001b[0m│\u001b[90m      \u001b[0m│\n",
      "├────┼────────┼─────────┼───────┼─────────┼──────┤\n",
      "│  1 │  -60.0 │   15.89 │ 261.9 │  1.3347 │ 0.58 │\n",
      "│  2 │  -60.0 │   15.89 │ 361.7 │  1.8024 │  1.0 │\n",
      "│  3 │ 95-100 │ 2117.34 │ 464.8 │  1.8024 │  1.0 │\n",
      "│  4 │   70.0 │ 2117.34 │ 304.8 │  1.3347 │  0.0 │\n",
      "└────┴────────┴─────────┴───────┴─────────┴──────┘\n"
     ]
    }
   ],
   "source": [
    "# build the state table -\n",
    "\n",
    "# initialize -\n",
    "number_of_rows_state_table = 4\n",
    "number_of_cols_state_table = 6\n",
    "state_table_data = Array{Any,2}(undef, number_of_rows_state_table, number_of_cols_state_table)\n",
    "\n",
    "# build the state data array -\n",
    "for i ∈ 1:number_of_rows_state_table\n",
    "    \n",
    "    # the operating point index goes in the first col always -\n",
    "    state_table_data[i,1] = i\n",
    "    \n",
    "    if (i == 1) \n",
    "        \n",
    "        # data for O₁\n",
    "        state_table_data[i,2] = -60.0\n",
    "        state_table_data[i,3] = 15.89\n",
    "        state_table_data[i,4] = 261.9\n",
    "        state_table_data[i,5] = 1.3347\n",
    "        state_table_data[i,6] = 0.58\n",
    "        \n",
    "    elseif (i == 2)\n",
    "        \n",
    "        # data for O₂\n",
    "        state_table_data[i,2] = -60.0\n",
    "        state_table_data[i,3] = 15.89\n",
    "        state_table_data[i,4] = 361.7\n",
    "        state_table_data[i,5] = 1.8024\n",
    "        state_table_data[i,6] = 1.0\n",
    "        \n",
    "    elseif (i == 3) # O₃\n",
    "        \n",
    "        # data for O₃\n",
    "        state_table_data[i,2] = \"95-100\"\n",
    "        state_table_data[i,3] = 2117.34\n",
    "        state_table_data[i,4] = 464.8\n",
    "        state_table_data[i,5] = 1.8024\n",
    "        state_table_data[i,6] = 1.0\n",
    "        \n",
    "    elseif (i == 4) \n",
    "        \n",
    "        # data for O₄\n",
    "        state_table_data[i,2] = 70.0\n",
    "        state_table_data[i,3] = 2117.34\n",
    "        state_table_data[i,4] = 304.8\n",
    "        state_table_data[i,5] = 1.3347\n",
    "        state_table_data[i,6] = 0.0\n",
    "    end\n",
    "end\n",
    "\n",
    "\n",
    "\n",
    "# header row -\n",
    "state_table_header = ([\"Op\", \"T\", \"P\", \"H\", \"S\", \"θ\"], [\"\",\"C\", \"kPa\", \"kJ/kg\", \"kJ/kg-K\", \"\"])\n",
    "\n",
    "# show table -\n",
    "pretty_table(state_table_data; header=state_table_header)"
   ]
  },
  {
   "cell_type": "markdown",
   "id": "3775004e-ecfc-46b5-b942-897689355f1b",
   "metadata": {},
   "source": [
    "#### b) Compute the missing heat and work rate values in the path table.\n",
    "\n",
    "Use the open energy balance around each of the process units to compute the missing values in the path table"
   ]
  },
  {
   "cell_type": "code",
   "execution_count": 43,
   "id": "0a819b15-47da-489f-aaae-b1979f7e765e",
   "metadata": {},
   "outputs": [
    {
     "name": "stdout",
     "output_type": "stream",
     "text": [
      "┌───────┬───────┬───────────────────┬──────────────────────┬────────────────────┬───────────────────────┐\n",
      "│\u001b[1m  path \u001b[0m│\u001b[1m     Q̇ \u001b[0m│\u001b[1m Ẇ-turbine (ideal) \u001b[0m│\u001b[1m Ẇ-compressor (ideal) \u001b[0m│\u001b[1m Ẇ-turbine (actual) \u001b[0m│\u001b[1m Ẇ-compressor (actual) \u001b[0m│\n",
      "│\u001b[90m       \u001b[0m│\u001b[90m  kJ/s \u001b[0m│\u001b[90m              kJ/s \u001b[0m│\u001b[90m                 kJ/s \u001b[0m│\u001b[90m               kJ/s \u001b[0m│\u001b[90m                  kJ/s \u001b[0m│\n",
      "├───────┼───────┼───────────────────┼──────────────────────┼────────────────────┼───────────────────────┤\n",
      "│   P12 │  16.7 │               0.0 │                  0.0 │                0.0 │                   0.0 │\n",
      "│   P23 │   0.0 │              7.16 │                10.04 │               5.37 │                  8.13 │\n",
      "│   P34 │ -26.7 │               0.0 │                  0.0 │                0.0 │                   0.0 │\n",
      "│   P41 │   0.0 │             -7.16 │                  0.0 │              -5.37 │                   0.0 │\n",
      "│ cycle │ -10.0 │               0.0 │                10.04 │                N/A │                   N/A │\n",
      "└───────┴───────┴───────────────────┴──────────────────────┴────────────────────┴───────────────────────┘\n"
     ]
    }
   ],
   "source": [
    "# build the path table -\n",
    "\n",
    "# initialize -\n",
    "number_of_rows_path_table = 5\n",
    "number_of_cols_path_table = 6\n",
    "path_table_data = Array{Any,2}(undef, number_of_rows_path_table, number_of_cols_path_table)\n",
    "\n",
    "for i ∈ 1:number_of_rows_path_table\n",
    "    \n",
    "    if (i == 1)\n",
    "        \n",
    "        path_table_data[i,1] = \"P12\"\n",
    "        path_table_data[i,2] = 16.7\n",
    "        path_table_data[i,3] = 0.0\n",
    "        path_table_data[i,4] = 0.0\n",
    "        path_table_data[i,5] = 0.0\n",
    "        path_table_data[i,6] = 0.0\n",
    "        \n",
    "        \n",
    "    elseif (i == 2)\n",
    "        \n",
    "        path_table_data[i,1] = \"P23\"\n",
    "        path_table_data[i,2] = 0.0\n",
    "        path_table_data[i,3] = 7.16\n",
    "        path_table_data[i,4] = 10.04\n",
    "        path_table_data[i,5] = 5.37\n",
    "        path_table_data[i,6] = 8.13\n",
    "        \n",
    "    elseif (i == 3)\n",
    "        \n",
    "        path_table_data[i,1] = \"P34\"\n",
    "        path_table_data[i,2] = -26.7\n",
    "        path_table_data[i,3] = 0.0\n",
    "        path_table_data[i,4] = 0.0\n",
    "        path_table_data[i,5] = 0.0\n",
    "        path_table_data[i,6] = 0.0\n",
    "        \n",
    "        \n",
    "    elseif (i == 4)\n",
    "        \n",
    "        path_table_data[i,1] = \"P41\"\n",
    "        path_table_data[i,2] = 0.0\n",
    "        path_table_data[i,3] = -7.16\n",
    "        path_table_data[i,4] = 0.0\n",
    "        path_table_data[i,5] = -5.37\n",
    "        path_table_data[i,6] = 0.0\n",
    "        \n",
    "    elseif (i == 5)\n",
    "        \n",
    "        path_table_data[i,1] = \"cycle\"\n",
    "        path_table_data[i,2] = -10.0\n",
    "        path_table_data[i,3] = 0.0\n",
    "        path_table_data[i,4] = 10.04\n",
    "        path_table_data[i,5] = \"N/A\"\n",
    "        path_table_data[i,6] = \"N/A\"\n",
    "        \n",
    "    end\n",
    "end\n",
    "\n",
    "# path table header -\n",
    "path_table_header = ([\"path\",\"Q̇\",\"Ẇ-turbine (ideal)\",\"Ẇ-compressor (ideal)\",\"Ẇ-turbine (actual)\",\"Ẇ-compressor (actual)\"],\n",
    "    [\"\",\"kJ/s\",\"kJ/s\",\"kJ/s\",\"kJ/s\",\"kJ/s\"])\n",
    "\n",
    "# show table -\n",
    "pretty_table(path_table_data; header=path_table_header)"
   ]
  },
  {
   "cell_type": "markdown",
   "id": "b3c80276-758f-4223-a71d-565a406edae7",
   "metadata": {},
   "source": [
    "#### c) Compute the reversible (ideal) coefficient of performance for the modified cycle \n",
    "\n",
    "The coefficient of performance (COP) for the VCRC is given by:\n",
    "\n",
    "$$\\omega = \\frac{\\dot{Q}_{c}}{\\dot{W}_{s,C}}$$\n",
    "\n",
    "where $\\dot{Q}_{c}$ denotes the rate of heat input into the evaporator (units: kJ/s) and $\\dot{W}_{s, C}$ represents the rate of shaft work into the compressor (units: kJ/s)."
   ]
  },
  {
   "cell_type": "code",
   "execution_count": 44,
   "id": "97a62720-414c-4bb5-a8b5-85cb36d63a2a",
   "metadata": {},
   "outputs": [
    {
     "data": {
      "text/plain": [
       "1.6633466135458168"
      ]
     },
     "execution_count": 44,
     "metadata": {},
     "output_type": "execute_result"
    }
   ],
   "source": [
    "Q_c = 16.7\n",
    "W_s_c = 10.04\n",
    "cop = Q_c/W_s_c"
   ]
  },
  {
   "cell_type": "markdown",
   "id": "d368a98d-08fb-47af-8919-dcc5c453a4a7",
   "metadata": {},
   "source": [
    "#### d) Would you expect the ideal coefficient of performance to increase, decrease or stay the same if we did _not_ recycle $\\dot{W}_{s,T}$?"
   ]
  },
  {
   "cell_type": "markdown",
   "id": "8bd499e7-b348-4411-9bb5-2b160b29016c",
   "metadata": {},
   "source": [
    "The ideal coefficient of performance would decrease because if $\\dot{W}_{s,T}$ was not recycled, then more shaft work would need to go into the compressor, increasing the denominator of the coefficient of performance and therefore decreasing its overall value "
   ]
  },
  {
   "cell_type": "code",
   "execution_count": null,
   "id": "02b71041-d97d-4eed-946a-464996b32cbb",
   "metadata": {},
   "outputs": [],
   "source": []
  }
 ],
 "metadata": {
  "kernelspec": {
   "display_name": "Julia 1.8.0",
   "language": "julia",
   "name": "julia-1.8"
  },
  "language_info": {
   "file_extension": ".jl",
   "mimetype": "application/julia",
   "name": "julia",
   "version": "1.8.0"
  }
 },
 "nbformat": 4,
 "nbformat_minor": 5
}
