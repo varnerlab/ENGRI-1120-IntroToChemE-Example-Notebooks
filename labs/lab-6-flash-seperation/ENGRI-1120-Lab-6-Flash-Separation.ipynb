{
 "cells": [
  {
   "cell_type": "markdown",
   "id": "ff7248c7-31ab-4fe7-9f10-bbe956e217fa",
   "metadata": {},
   "source": [
    "# ENGRI 1120 Discussion 6: Flash Separation Calculations"
   ]
  },
  {
   "cell_type": "markdown",
   "id": "c6822ba2-c8b1-436f-b288-6af2f0800b63",
   "metadata": {},
   "source": [
    "<img src=\"figs/Fig-Flash-Sep-Schematic.pdf\" style=\"width:35%\">"
   ]
  },
  {
   "cell_type": "markdown",
   "id": "31434412-56ce-4062-8ef2-1558f2aeda45",
   "metadata": {},
   "source": [
    "### Introduction\n",
    "In a Flash separation process, a multicomponent saturated liquid composed of the species set $\\mathcal{M}$ enters the Flash drum (at some temperature and pressure). Inside the drum the pressure is rapidly decreased leading to [flash vaporization](https://en.wikipedia.org/wiki/Flash_evaporation), and a liquid and vapor streams exit the drum.\n",
    "\n",
    "#### Total and Species mole balance Flash drum\n",
    "There are no chemical reactions occuring in the Flash drum, thus, the number of moles is conserved. The total mole balance around the Flash drum is given by:\n",
    "\n",
    "$$\\dot{F} = \\dot{L} + \\dot{V}$$\n",
    "\n",
    "where $\\dot{F}$ denotes the total mole flow into the unit (units: mol/time), $\\dot{L}$ denotes the total mole flow rate of the liquid stream exiting the unit (units: mol/time), and $\\dot{V}$ represents the total mole flow rate of the vapor stream leaving the unit (units: mol/time). \n",
    "\n",
    "Similarly, we can write a species mole balance around all the species in the species set $\\mathcal{M}$:\n",
    "\n",
    "$$\\dot{F}z_{i} = \\dot{L}x_{i} + \\dot{V}y_{i}\\qquad\\forall{i}\\in\\mathcal{M}$$\n",
    "\n",
    "where $z_{i}$ denotes the mole fraction of component $i$ in the input stream (we use $z$ to avoid confusion with the liquid stream exiting the unit), $x_{i}$ denotes the mole fraction of component $i$ in the liquid stream exiting the unit, and $y_{i}$ represents the mole fraction of component $i$ leaving the unit in the vapor stream. "
   ]
  },
  {
   "cell_type": "markdown",
   "id": "449d1c77-7d49-42a7-b6c4-9cc7059f4024",
   "metadata": {},
   "source": [
    "### Problem\n",
    "The teaching team suggests that a liquid feed stream that contains 64% Cyclohexane(1) and 36% Water(2) can be separated in a Flash Drum operating at P = 67.0 kPa and T = 75$^{\\circ}$C. The saturation pressures of pure components A and B can be modeled using the [Antoine equation](https://en.wikipedia.org/wiki/Antoine_equation): \n",
    "\n",
    "$$\n",
    "\\ln\\left(P_{i}^{sat}\\right) = A_{i} -\\frac{B_{i}}{T+C_{i}}\\qquad{i=1,2}$$\n",
    "\n",
    "where $T$ denotes the temperature in units $^{\\circ}$C and $P_{i}^{sat}$ denotes the saturation pressure in units of kPa for component $i$, and $A_{i},B_{i}$ and $C_{i}$ denote the Antoine parameters for compound $i$.\n",
    "\n",
    "__Assumptions__:\n",
    "1. The flash drum is well-mixed\n",
    "1. The contents of the drum are in vapor-liquid equilibrium, and hence, the vapor and liquid streams that exit the drum are in vapor-liquid equilibrium\n",
    "1. Equilibrium is instantaneous inside the drum\n",
    "1. All phases everywhere are ideal\n",
    "\n",
    "\n",
    "__Calculate__:\n",
    " * The fraction of the input stream that exits the drum as liquid\n",
    " * The fraction of the input stream that exits the drum as vapor\n",
    " * The composition of the liquid ($x_{1}$ and $x_{2}$) and vapor ($y_{1}$ and $y_{2}$) in the exit streams"
   ]
  },
  {
   "cell_type": "markdown",
   "id": "45923c0c-4b5f-40cb-b1b8-28efd0736c57",
   "metadata": {},
   "source": [
    "### Lab setup\n",
    "The code block below installs (and loads) [Julia](https://julialang.org) packages that we use to solve the species mass balance equations."
   ]
  },
  {
   "cell_type": "code",
   "execution_count": 1,
   "id": "a82515c6-9465-4702-9e57-010b812ffbc8",
   "metadata": {},
   "outputs": [
    {
     "name": "stderr",
     "output_type": "stream",
     "text": [
      "\u001b[32m\u001b[1m  Activating\u001b[22m\u001b[39m project at `~/Documents/GitHub/ENGRI-1120-IntroToChemE-Example-Notebooks/labs/lab-6-flash-seperation`\n",
      "\u001b[32m\u001b[1m   Installed\u001b[22m\u001b[39m PooledArrays ──── v1.4.2\n",
      "\u001b[32m\u001b[1m   Installed\u001b[22m\u001b[39m WeakRefStrings ── v1.4.2\n",
      "\u001b[32m\u001b[1m   Installed\u001b[22m\u001b[39m InlineStrings ─── v1.1.4\n",
      "\u001b[32m\u001b[1m   Installed\u001b[22m\u001b[39m SentinelArrays ── v1.3.13\n",
      "\u001b[32m\u001b[1m   Installed\u001b[22m\u001b[39m InvertedIndices ─ v1.1.0\n",
      "\u001b[32m\u001b[1m   Installed\u001b[22m\u001b[39m FilePathsBase ─── v0.9.18\n",
      "\u001b[32m\u001b[1m   Installed\u001b[22m\u001b[39m Compat ────────── v3.46.0\n",
      "\u001b[32m\u001b[1m   Installed\u001b[22m\u001b[39m DataFrames ────── v1.3.4\n",
      "\u001b[32m\u001b[1m   Installed\u001b[22m\u001b[39m CSV ───────────── v0.10.4\n",
      "\u001b[32m\u001b[1m    Updating\u001b[22m\u001b[39m `~/Documents/GitHub/ENGRI-1120-IntroToChemE-Example-Notebooks/labs/lab-6-flash-seperation/Project.toml`\n",
      " \u001b[90m [336ed68f] \u001b[39m\u001b[92m+ CSV v0.10.4\u001b[39m\n",
      " \u001b[90m [a93c6f00] \u001b[39m\u001b[92m+ DataFrames v1.3.4\u001b[39m\n",
      "\u001b[32m\u001b[1m    Updating\u001b[22m\u001b[39m `~/Documents/GitHub/ENGRI-1120-IntroToChemE-Example-Notebooks/labs/lab-6-flash-seperation/Manifest.toml`\n",
      " \u001b[90m [336ed68f] \u001b[39m\u001b[92m+ CSV v0.10.4\u001b[39m\n",
      " \u001b[90m [944b1d66] \u001b[39m\u001b[92m+ CodecZlib v0.7.0\u001b[39m\n",
      "\u001b[33m⌅\u001b[39m\u001b[90m [34da2185] \u001b[39m\u001b[92m+ Compat v3.46.0\u001b[39m\n",
      " \u001b[90m [a8cc5b0e] \u001b[39m\u001b[92m+ Crayons v4.1.1\u001b[39m\n",
      " \u001b[90m [9a962f9c] \u001b[39m\u001b[92m+ DataAPI v1.10.0\u001b[39m\n",
      " \u001b[90m [a93c6f00] \u001b[39m\u001b[92m+ DataFrames v1.3.4\u001b[39m\n",
      " \u001b[90m [864edb3b] \u001b[39m\u001b[92m+ DataStructures v0.18.13\u001b[39m\n",
      " \u001b[90m [e2d170a0] \u001b[39m\u001b[92m+ DataValueInterfaces v1.0.0\u001b[39m\n",
      " \u001b[90m [48062228] \u001b[39m\u001b[92m+ FilePathsBase v0.9.18\u001b[39m\n",
      " \u001b[90m [59287772] \u001b[39m\u001b[92m+ Formatting v0.4.2\u001b[39m\n",
      " \u001b[90m [842dd82b] \u001b[39m\u001b[92m+ InlineStrings v1.1.4\u001b[39m\n",
      " \u001b[90m [41ab1584] \u001b[39m\u001b[92m+ InvertedIndices v1.1.0\u001b[39m\n",
      " \u001b[90m [82899510] \u001b[39m\u001b[92m+ IteratorInterfaceExtensions v1.0.0\u001b[39m\n",
      " \u001b[90m [e1d29d7a] \u001b[39m\u001b[92m+ Missings v1.0.2\u001b[39m\n",
      " \u001b[90m [bac558e1] \u001b[39m\u001b[92m+ OrderedCollections v1.4.1\u001b[39m\n",
      " \u001b[90m [69de0a69] \u001b[39m\u001b[92m+ Parsers v2.3.2\u001b[39m\n",
      " \u001b[90m [2dfb63ee] \u001b[39m\u001b[92m+ PooledArrays v1.4.2\u001b[39m\n",
      " \u001b[90m [08abe8d2] \u001b[39m\u001b[92m+ PrettyTables v1.3.1\u001b[39m\n",
      " \u001b[90m [189a3867] \u001b[39m\u001b[92m+ Reexport v1.2.2\u001b[39m\n",
      " \u001b[90m [91c51154] \u001b[39m\u001b[92m+ SentinelArrays v1.3.13\u001b[39m\n",
      " \u001b[90m [a2af1166] \u001b[39m\u001b[92m+ SortingAlgorithms v1.0.1\u001b[39m\n",
      " \u001b[90m [3783bdb8] \u001b[39m\u001b[92m+ TableTraits v1.0.1\u001b[39m\n",
      " \u001b[90m [bd369af6] \u001b[39m\u001b[92m+ Tables v1.7.0\u001b[39m\n",
      " \u001b[90m [3bb67fe8] \u001b[39m\u001b[92m+ TranscodingStreams v0.9.8\u001b[39m\n",
      " \u001b[90m [ea10d353] \u001b[39m\u001b[92m+ WeakRefStrings v1.4.2\u001b[39m\n",
      " \u001b[90m [0dad84c5] \u001b[39m\u001b[92m+ ArgTools v1.1.1\u001b[39m\n",
      " \u001b[90m [56f22d72] \u001b[39m\u001b[92m+ Artifacts\u001b[39m\n",
      " \u001b[90m [2a0f44e3] \u001b[39m\u001b[92m+ Base64\u001b[39m\n",
      " \u001b[90m [ade2ca70] \u001b[39m\u001b[92m+ Dates\u001b[39m\n",
      " \u001b[90m [8bb1440f] \u001b[39m\u001b[92m+ DelimitedFiles\u001b[39m\n",
      " \u001b[90m [8ba89e20] \u001b[39m\u001b[92m+ Distributed\u001b[39m\n",
      " \u001b[90m [f43a241f] \u001b[39m\u001b[92m+ Downloads v1.6.0\u001b[39m\n",
      " \u001b[90m [7b1f6079] \u001b[39m\u001b[92m+ FileWatching\u001b[39m\n",
      " \u001b[90m [9fa8497b] \u001b[39m\u001b[92m+ Future\u001b[39m\n",
      " \u001b[90m [b77e0a4c] \u001b[39m\u001b[92m+ InteractiveUtils\u001b[39m\n",
      " \u001b[90m [b27032c2] \u001b[39m\u001b[92m+ LibCURL v0.6.3\u001b[39m\n",
      " \u001b[90m [76f85450] \u001b[39m\u001b[92m+ LibGit2\u001b[39m\n",
      " \u001b[90m [8f399da3] \u001b[39m\u001b[92m+ Libdl\u001b[39m\n",
      " \u001b[90m [37e2e46d] \u001b[39m\u001b[92m+ LinearAlgebra\u001b[39m\n",
      " \u001b[90m [56ddb016] \u001b[39m\u001b[92m+ Logging\u001b[39m\n",
      " \u001b[90m [d6f4376e] \u001b[39m\u001b[92m+ Markdown\u001b[39m\n",
      " \u001b[90m [a63ad114] \u001b[39m\u001b[92m+ Mmap\u001b[39m\n",
      " \u001b[90m [ca575930] \u001b[39m\u001b[92m+ NetworkOptions v1.2.0\u001b[39m\n",
      " \u001b[90m [44cfe95a] \u001b[39m\u001b[92m+ Pkg v1.8.0\u001b[39m\n",
      " \u001b[90m [de0858da] \u001b[39m\u001b[92m+ Printf\u001b[39m\n",
      " \u001b[90m [3fa0cd96] \u001b[39m\u001b[92m+ REPL\u001b[39m\n",
      " \u001b[90m [9a3f8284] \u001b[39m\u001b[92m+ Random\u001b[39m\n",
      " \u001b[90m [ea8e919c] \u001b[39m\u001b[92m+ SHA v0.7.0\u001b[39m\n",
      " \u001b[90m [9e88b42a] \u001b[39m\u001b[92m+ Serialization\u001b[39m\n",
      " \u001b[90m [1a1011a3] \u001b[39m\u001b[92m+ SharedArrays\u001b[39m\n",
      " \u001b[90m [6462fe0b] \u001b[39m\u001b[92m+ Sockets\u001b[39m\n",
      " \u001b[90m [2f01184e] \u001b[39m\u001b[92m+ SparseArrays\u001b[39m\n",
      " \u001b[90m [10745b16] \u001b[39m\u001b[92m+ Statistics\u001b[39m\n",
      " \u001b[90m [fa267f1f] \u001b[39m\u001b[92m+ TOML v1.0.0\u001b[39m\n",
      " \u001b[90m [a4e569a6] \u001b[39m\u001b[92m+ Tar v1.10.0\u001b[39m\n",
      " \u001b[90m [8dfed614] \u001b[39m\u001b[92m+ Test\u001b[39m\n",
      " \u001b[90m [cf7118a7] \u001b[39m\u001b[92m+ UUIDs\u001b[39m\n",
      " \u001b[90m [4ec0a83e] \u001b[39m\u001b[92m+ Unicode\u001b[39m\n",
      " \u001b[90m [e66e0078] \u001b[39m\u001b[92m+ CompilerSupportLibraries_jll v0.5.2+0\u001b[39m\n",
      " \u001b[90m [deac9b47] \u001b[39m\u001b[92m+ LibCURL_jll v7.84.0+0\u001b[39m\n",
      " \u001b[90m [29816b5a] \u001b[39m\u001b[92m+ LibSSH2_jll v1.10.2+0\u001b[39m\n",
      " \u001b[90m [c8ffd9c3] \u001b[39m\u001b[92m+ MbedTLS_jll v2.28.0+0\u001b[39m\n",
      " \u001b[90m [14a3606d] \u001b[39m\u001b[92m+ MozillaCACerts_jll v2022.2.1\u001b[39m\n",
      " \u001b[90m [4536629a] \u001b[39m\u001b[92m+ OpenBLAS_jll v0.3.20+0\u001b[39m\n",
      " \u001b[90m [83775a58] \u001b[39m\u001b[92m+ Zlib_jll v1.2.12+3\u001b[39m\n",
      " \u001b[90m [8e850b90] \u001b[39m\u001b[92m+ libblastrampoline_jll v5.1.1+0\u001b[39m\n",
      " \u001b[90m [8e850ede] \u001b[39m\u001b[92m+ nghttp2_jll v1.48.0+0\u001b[39m\n",
      " \u001b[90m [3f19e933] \u001b[39m\u001b[92m+ p7zip_jll v17.4.0+0\u001b[39m\n",
      "\u001b[36m\u001b[1m        Info\u001b[22m\u001b[39m Packages marked with \u001b[33m⌅\u001b[39m have new versions available but cannot be upgraded. To see why use `status --outdated -m`\n",
      "\u001b[32m\u001b[1mPrecompiling\u001b[22m\u001b[39m project...\n",
      "\u001b[32m  ✓ \u001b[39m\u001b[90mInvertedIndices\u001b[39m\n",
      "\u001b[32m  ✓ \u001b[39m\u001b[90mPooledArrays\u001b[39m\n",
      "\u001b[32m  ✓ \u001b[39m\u001b[90mCompat\u001b[39m\n",
      "\u001b[32m  ✓ \u001b[39m\u001b[90mInlineStrings\u001b[39m\n",
      "\u001b[32m  ✓ \u001b[39m\u001b[90mSentinelArrays\u001b[39m\n",
      "\u001b[32m  ✓ \u001b[39m\u001b[90mWeakRefStrings\u001b[39m\n",
      "\u001b[32m  ✓ \u001b[39m\u001b[90mFilePathsBase\u001b[39m\n",
      "\u001b[32m  ✓ \u001b[39m\u001b[90mDataStructures\u001b[39m\n",
      "\u001b[32m  ✓ \u001b[39m\u001b[90mSortingAlgorithms\u001b[39m\n",
      "\u001b[32m  ✓ \u001b[39mCSV\n",
      "\u001b[32m  ✓ \u001b[39mDataFrames\n",
      "  11 dependencies successfully precompiled in 16 seconds. 20 already precompiled.\n"
     ]
    }
   ],
   "source": [
    "import Pkg; Pkg.activate(\".\"); Pkg.resolve(); Pkg.instantiate();"
   ]
  },
  {
   "cell_type": "code",
   "execution_count": 2,
   "id": "118aae65-6480-4e39-9c7d-4b3c319d726e",
   "metadata": {},
   "outputs": [],
   "source": [
    "# Load required packages \n",
    "using LinearAlgebra\n",
    "using CSV\n",
    "using DataFrames\n",
    "\n",
    "# setup paths -\n",
    "const _ROOT = pwd()\n",
    "const _PATH_TO_DATA = joinpath(_ROOT, \"data\");"
   ]
  },
  {
   "cell_type": "markdown",
   "id": "0e0928d9-5a8e-46fb-a1e2-6b4488835a59",
   "metadata": {},
   "source": [
    "#### Load the Lab 6 code library\n",
    "The call to the `include` function loads the `ENGRI-1120-Lab-6-CodeLib.jl` library into the notebook; the library contains functions that we can use during the lab. In particular:\n",
    "\n",
    "#### Types\n",
    "* The `ChemicalCompoundModel` holds information about the chemical compounds in our problem data set. \n",
    "\n",
    "#### Functions\n",
    "* The `build_compound_dictionary` function takes a [DataFrame](https://dataframes.juliadata.org/stable/) and returns a [Dictionary](https://docs.julialang.org/en/v1/base/collections/#Dictionaries) where the `keys` are the compound names and the values are instances of type `ChemicalCompoundModel`.\n",
    "* The `saturation_pressure` function takes a compound name string, the compound dictionary and the temperature `T` in $^{\\circ}C$ and returns $P_{i}^{sat}$ in units of `kPa`."
   ]
  },
  {
   "cell_type": "code",
   "execution_count": 3,
   "id": "7660f51d-042b-4299-9010-7bbafb5e6a47",
   "metadata": {},
   "outputs": [],
   "source": [
    "include(\"ENGRI-1120-Lab-6-CodeLib.jl\");"
   ]
  },
  {
   "cell_type": "code",
   "execution_count": 4,
   "id": "7a69f94c-758c-4651-b7d2-199015f4b5c3",
   "metadata": {},
   "outputs": [],
   "source": [
    "# Build the compound data dictionary -\n",
    "df = CSV.read(joinpath(_PATH_TO_DATA,\"SVNA-8ed-Table-B2.csv\"), DataFrame)\n",
    "compound_data_dictionary = build_compound_dictionary(df);"
   ]
  },
  {
   "cell_type": "code",
   "execution_count": 5,
   "id": "05fa2e74-fa12-481a-a4b2-871440022f92",
   "metadata": {},
   "outputs": [],
   "source": [
    "# select two compounds from the data set -\n",
    "c₁ = \"Cyclohexane\";\n",
    "c₂ = \"Water\";"
   ]
  },
  {
   "cell_type": "code",
   "execution_count": 6,
   "id": "c1fc8a07-58cf-41f0-99bc-2c7106892570",
   "metadata": {},
   "outputs": [],
   "source": [
    "# setup problem constants -\n",
    "T = 75.0;  # units C\n",
    "P = 67.0; # units kPa\n",
    "z₁ = 0.64; # fraction of component 1 in the input"
   ]
  },
  {
   "cell_type": "markdown",
   "id": "a882b1da-42d4-4b0e-919d-442e4e058ffe",
   "metadata": {},
   "source": [
    "### a) Compute exit composition in the liquid and vapor"
   ]
  },
  {
   "cell_type": "code",
   "execution_count": 7,
   "id": "ea1c0387-fd5c-4491-8029-49d0553d810b",
   "metadata": {},
   "outputs": [
    {
     "data": {
      "text/plain": [
       "38.64"
      ]
     },
     "execution_count": 7,
     "metadata": {},
     "output_type": "execute_result"
    }
   ],
   "source": [
    "# Compute the P₁_sat and P₂_sat -\n",
    "# Fill me in ...\n",
    "P1_sat = 85.123\n",
    "P2_sat = 38.64"
   ]
  },
  {
   "cell_type": "code",
   "execution_count": 8,
   "id": "11ab7341-f6b6-4d36-9caa-64c38888996a",
   "metadata": {},
   "outputs": [
    {
     "data": {
      "text/plain": [
       "0.39"
      ]
     },
     "execution_count": 8,
     "metadata": {},
     "output_type": "execute_result"
    }
   ],
   "source": [
    "# Compute x₁ and x₂ -\n",
    "# Fill me in ...\n",
    "x1 = 0.61\n",
    "x2 = 0.39"
   ]
  },
  {
   "cell_type": "code",
   "execution_count": 9,
   "id": "0407986d-33d9-4e7a-b60a-ceebdbf0a43f",
   "metadata": {},
   "outputs": [
    {
     "data": {
      "text/plain": [
       "0.775"
      ]
     },
     "execution_count": 9,
     "metadata": {},
     "output_type": "execute_result"
    }
   ],
   "source": [
    "# Use assumption 4 and x₁ to compute y₁ -\n",
    "# Fill me in ...\n",
    "y1 = 0.775"
   ]
  },
  {
   "cell_type": "markdown",
   "id": "d088f087-35d0-4c74-823d-eaf3720fd716",
   "metadata": {},
   "source": [
    "### b) Compute the fraction of liquid and vapor that exit the unit"
   ]
  },
  {
   "cell_type": "code",
   "execution_count": 10,
   "id": "b8323a81-efa8-4f5d-9c77-da9533b91ca7",
   "metadata": {},
   "outputs": [
    {
     "data": {
      "text/plain": [
       "0.182"
      ]
     },
     "execution_count": 10,
     "metadata": {},
     "output_type": "execute_result"
    }
   ],
   "source": [
    "# Compute L̂ and V̂ using Approach 1 -\n",
    "# Fill me in ...\n",
    "L = 0.818\n",
    "V = 0.182"
   ]
  },
  {
   "cell_type": "code",
   "execution_count": 11,
   "id": "607d47bd-a6fb-4ee1-81ff-8cf8cdc0510f",
   "metadata": {},
   "outputs": [
    {
     "data": {
      "text/plain": [
       "0.182"
      ]
     },
     "execution_count": 11,
     "metadata": {},
     "output_type": "execute_result"
    }
   ],
   "source": [
    "# Compute L̂ and V̂ using Approach2 -\n",
    "# Fill me in ...\n",
    "\n",
    "L = 0.818\n",
    "V = 0.182"
   ]
  },
  {
   "cell_type": "markdown",
   "id": "873ecd49-cc23-46f9-817e-45e2f000a852",
   "metadata": {},
   "source": [
    "### c) What pressure should we choose?\n",
    "The pressure and temperature of the drum are _design variables_, i.e., you get to choose them to achieve some technical or economic objective. Suppose we fix T = 75$^{\\circ}$C. What minimum and maximum pressures can the flash drum operate at and still give two streams at the exit of a Cyclohexane/Water mixture?"
   ]
  },
  {
   "cell_type": "code",
   "execution_count": null,
   "id": "f96da561-379b-44aa-aa2f-abf181abeb12",
   "metadata": {},
   "outputs": [],
   "source": []
  }
 ],
 "metadata": {
  "kernelspec": {
   "display_name": "Julia 1.8.0",
   "language": "julia",
   "name": "julia-1.8"
  },
  "language_info": {
   "file_extension": ".jl",
   "mimetype": "application/julia",
   "name": "julia",
   "version": "1.8.0"
  }
 },
 "nbformat": 4,
 "nbformat_minor": 5
}
