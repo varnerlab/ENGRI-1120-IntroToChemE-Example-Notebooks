{
 "cells": [
  {
   "cell_type": "markdown",
   "id": "ff7248c7-31ab-4fe7-9f10-bbe956e217fa",
   "metadata": {},
   "source": [
    "# ENGRI 1120 Discussion 6: Flash Separation Calculations"
   ]
  },
  {
   "cell_type": "markdown",
   "id": "c6822ba2-c8b1-436f-b288-6af2f0800b63",
   "metadata": {},
   "source": [
    "<img src=\"figs/Fig-Flash-Sep-Schematic.pdf\" style=\"width:35%\">"
   ]
  },
  {
   "cell_type": "markdown",
   "id": "31434412-56ce-4062-8ef2-1558f2aeda45",
   "metadata": {},
   "source": [
    "### Introduction\n",
    "In a Flash separation process, a multicomponent saturated liquid composed of the species set $\\mathcal{M}$ enters the Flash drum (at some temperature and pressure). Inside the drum the pressure is rapidly decreased leading to [flash vaporization](https://en.wikipedia.org/wiki/Flash_evaporation), and a liquid and vapor streams exit the drum.\n",
    "\n",
    "#### Total and Species mole balance Flash drum\n",
    "There are no chemical reactions occuring in the Flash drum, thus, the number of moles is conserved. The total mole balance around the Flash drum is given by:\n",
    "\n",
    "$$\\dot{F} = \\dot{L} + \\dot{V}$$\n",
    "\n",
    "where $\\dot{F}$ denotes the total mole flow into the unit (units: mol/time), $\\dot{L}$ denotes the total mole flow rate of the liquid stream exiting the unit (units: mol/time), and $\\dot{V}$ represents the total mole flow rate of the vapor stream leaving the unit (units: mol/time). \n",
    "\n",
    "Similarly, we can write a species mole balance around all the species in the species set $\\mathcal{M}$:\n",
    "\n",
    "$$\\dot{F}z_{i} = \\dot{L}x_{i} + \\dot{V}y_{i}\\qquad\\forall{i}\\in\\mathcal{M}$$\n",
    "\n",
    "where $z_{i}$ denotes the mole fraction of component $i$ in the input stream (we use $z$ to avoid confusion with the liquid stream exiting the unit), $x_{i}$ denotes the mole fraction of component $i$ in the liquid stream exiting the unit, and $y_{i}$ represents the mole fraction of component $i$ leaving the unit in the vapor stream. "
   ]
  },
  {
   "cell_type": "markdown",
   "id": "449d1c77-7d49-42a7-b6c4-9cc7059f4024",
   "metadata": {},
   "source": [
    "### Problem\n",
    "The teaching team suggests that a liquid feed stream that contains 64% Cyclohexane(1) and 36% Water(2) can be separated in a Flash Drum operating at P = 67.0 kPa and T = 75$^{\\circ}$C. The saturation pressures of pure components A and B can be modeled using the [Antoine equation](https://en.wikipedia.org/wiki/Antoine_equation): \n",
    "\n",
    "$$\n",
    "\\ln\\left(P_{i}^{sat}\\right) = A_{i} -\\frac{B_{i}}{T+C_{i}}\\qquad{i=1,2}$$\n",
    "\n",
    "where $T$ denotes the temperature in units $^{\\circ}$C and $P_{i}^{sat}$ denotes the saturation pressure in units of kPa for component $i$, and $A_{i},B_{i}$ and $C_{i}$ denote the Antoine parameters for compound $i$.\n",
    "\n",
    "__Assumptions__:\n",
    "1. The flash drum is well-mixed\n",
    "1. The contents of the drum are in vapor-liquid equilibrium, and hence, the vapor and liquid streams that exit the drum are in vapor-liquid equilibrium\n",
    "1. Equilibrium is instantaneous inside the drum\n",
    "1. All phases everywhere are ideal\n",
    "\n",
    "\n",
    "__Calculate__:\n",
    " * The fraction of the input stream that exits the drum as liquid\n",
    " * The fraction of the input stream that exits the drum as vapor\n",
    " * The composition of the liquid ($x_{1}$ and $x_{2}$) and vapor ($y_{1}$ and $y_{2}$) in the exit streams"
   ]
  },
  {
   "cell_type": "markdown",
   "id": "45923c0c-4b5f-40cb-b1b8-28efd0736c57",
   "metadata": {},
   "source": [
    "### Lab setup\n",
    "The code block below installs (and loads) [Julia](https://julialang.org) packages that we use to solve the species mass balance equations."
   ]
  },
  {
   "cell_type": "code",
   "execution_count": 1,
   "id": "a82515c6-9465-4702-9e57-010b812ffbc8",
   "metadata": {},
   "outputs": [
    {
     "name": "stderr",
     "output_type": "stream",
     "text": [
      "\u001b[32m\u001b[1m  Activating\u001b[22m\u001b[39m project at `~/Desktop/julia_work/ENGRI-1120-IntroToChemE-Example-Notebooks/labs/lab-6-flash-seperation`\n",
      "\u001b[32m\u001b[1m  No Changes\u001b[22m\u001b[39m to `~/Desktop/julia_work/ENGRI-1120-IntroToChemE-Example-Notebooks/labs/lab-6-flash-seperation/Project.toml`\n",
      "\u001b[32m\u001b[1m  No Changes\u001b[22m\u001b[39m to `~/Desktop/julia_work/ENGRI-1120-IntroToChemE-Example-Notebooks/labs/lab-6-flash-seperation/Manifest.toml`\n"
     ]
    }
   ],
   "source": [
    "import Pkg; Pkg.activate(\".\"); Pkg.resolve(); Pkg.instantiate();"
   ]
  },
  {
   "cell_type": "code",
   "execution_count": 2,
   "id": "118aae65-6480-4e39-9c7d-4b3c319d726e",
   "metadata": {},
   "outputs": [],
   "source": [
    "# Load required packages \n",
    "using LinearAlgebra\n",
    "using CSV\n",
    "using DataFrames\n",
    "\n",
    "# setup paths -\n",
    "const _ROOT = pwd()\n",
    "const _PATH_TO_DATA = joinpath(_ROOT, \"data\");"
   ]
  },
  {
   "cell_type": "markdown",
   "id": "0e0928d9-5a8e-46fb-a1e2-6b4488835a59",
   "metadata": {},
   "source": [
    "#### Load the Lab 6 code library\n",
    "The call to the `include` function loads the `ENGRI-1120-Lab-6-CodeLib.jl` library into the notebook; the library contains functions that we can use during the lab. In particular:\n",
    "\n",
    "#### Types\n",
    "* The `ChemicalCompoundModel` holds information about the chemical compounds in our problem data set. This type is `mutable`, i.e., we can change its values. \n",
    "\n",
    "#### Functions\n",
    "* The `build_compound_dictionary` function takes a [DataFrame](https://dataframes.juliadata.org/stable/) and returns a [Dictionary](https://docs.julialang.org/en/v1/base/collections/#Dictionaries) where the `keys` are the compound names and the values are instances of type `ChemicalCompoundModel`.\n",
    "* The `saturation_pressure` function takes a compound name string, the compound dictionary and the temperature `T` in $^{\\circ}C$ and returns $P_{i}^{sat}$ in units of `kPa`."
   ]
  },
  {
   "cell_type": "code",
   "execution_count": 3,
   "id": "7660f51d-042b-4299-9010-7bbafb5e6a47",
   "metadata": {},
   "outputs": [],
   "source": [
    "include(\"ENGRI-1120-Lab-6-CodeLib.jl\");"
   ]
  },
  {
   "cell_type": "code",
   "execution_count": 4,
   "id": "7a69f94c-758c-4651-b7d2-199015f4b5c3",
   "metadata": {},
   "outputs": [],
   "source": [
    "# Build the compound data dictionary -\n",
    "df = CSV.read(joinpath(_PATH_TO_DATA,\"SVNA-8ed-Table-B2.csv\"), DataFrame)\n",
    "compound_data_dictionary = build_compound_dictionary(df);"
   ]
  },
  {
   "cell_type": "code",
   "execution_count": 5,
   "id": "05fa2e74-fa12-481a-a4b2-871440022f92",
   "metadata": {},
   "outputs": [],
   "source": [
    "# select two compounds from the data set (strings need to match the keys in the compound dict) -\n",
    "c₁ = \"Cyclohexane\";\n",
    "c₂ = \"Water\";"
   ]
  },
  {
   "cell_type": "code",
   "execution_count": 6,
   "id": "c1fc8a07-58cf-41f0-99bc-2c7106892570",
   "metadata": {},
   "outputs": [],
   "source": [
    "# setup problem constants -\n",
    "T = 75.0;  # units C\n",
    "P = 67.0; # units kPa\n",
    "z₁ = 0.64; # fraction of component 1 in the input"
   ]
  },
  {
   "cell_type": "markdown",
   "id": "a882b1da-42d4-4b0e-919d-442e4e058ffe",
   "metadata": {},
   "source": [
    "### a) Compute exit composition in the liquid and vapor"
   ]
  },
  {
   "cell_type": "code",
   "execution_count": 7,
   "id": "ea1c0387-fd5c-4491-8029-49d0553d810b",
   "metadata": {},
   "outputs": [],
   "source": [
    "# Compute the P₁_sat and P₂_sat -\n",
    "# Fill me in ..."
   ]
  },
  {
   "cell_type": "code",
   "execution_count": 8,
   "id": "11ab7341-f6b6-4d36-9caa-64c38888996a",
   "metadata": {},
   "outputs": [],
   "source": [
    "# Compute x₁ and x₂ -\n",
    "# Fill me in ..."
   ]
  },
  {
   "cell_type": "code",
   "execution_count": 9,
   "id": "0407986d-33d9-4e7a-b60a-ceebdbf0a43f",
   "metadata": {},
   "outputs": [],
   "source": [
    "# Use assumption 4 and x₁ to compute y₁ -\n",
    "# Fill me in ..."
   ]
  },
  {
   "cell_type": "markdown",
   "id": "d088f087-35d0-4c74-823d-eaf3720fd716",
   "metadata": {},
   "source": [
    "### b) Compute the fraction of liquid and vapor that exit the unit"
   ]
  },
  {
   "cell_type": "code",
   "execution_count": 10,
   "id": "b8323a81-efa8-4f5d-9c77-da9533b91ca7",
   "metadata": {},
   "outputs": [],
   "source": [
    "# Compute L̂ and V̂ using Approach 1 -\n",
    "# Fill me in ..."
   ]
  },
  {
   "cell_type": "code",
   "execution_count": 11,
   "id": "1131d3a1-7465-4c93-8749-81033a73589c",
   "metadata": {},
   "outputs": [],
   "source": [
    "# Compute L̂ and V̂ using Approach 2 -\n",
    "# Fill me in ..."
   ]
  },
  {
   "cell_type": "markdown",
   "id": "873ecd49-cc23-46f9-817e-45e2f000a852",
   "metadata": {},
   "source": [
    "### c) What pressure should we choose?\n",
    "The pressure and temperature of the drum are _design variables_, i.e., you get to choose them to achieve some technical or economic objective. Suppose we fix T = 75$^{\\circ}$C. What minimum and maximum pressures can the flash drum operate at and still give two streams at the exit of a Cyclohexane/Water mixture?"
   ]
  },
  {
   "cell_type": "code",
   "execution_count": null,
   "id": "f96da561-379b-44aa-aa2f-abf181abeb12",
   "metadata": {},
   "outputs": [],
   "source": []
  }
 ],
 "metadata": {
  "kernelspec": {
   "display_name": "Julia 1.8.0",
   "language": "julia",
   "name": "julia-1.8"
  },
  "language_info": {
   "file_extension": ".jl",
   "mimetype": "application/julia",
   "name": "julia",
   "version": "1.8.2"
  }
 },
 "nbformat": 4,
 "nbformat_minor": 5
}
