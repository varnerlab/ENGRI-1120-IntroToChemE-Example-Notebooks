{
 "cells": [
  {
   "cell_type": "markdown",
   "id": "3fc7e28f-f82e-49ac-8112-33f1951e59ee",
   "metadata": {},
   "source": [
    "## ENGRI 1120 Discussion 4: Rankine Cycle Efficiency Calculation"
   ]
  },
  {
   "cell_type": "markdown",
   "id": "6c5c78ec-3041-46cf-a03a-dc4cbfda3ce3",
   "metadata": {},
   "source": [
    "<img src=\"figs/Fig-RC-Labeled-F22.png\" style=\"width:50%\">"
   ]
  },
  {
   "cell_type": "markdown",
   "id": "992e1cd5-0a5a-44b4-99a5-c2852ed8e7e5",
   "metadata": {},
   "source": [
    "__Fig. 1__: Schematic of the Rankine Cycle for power generation."
   ]
  },
  {
   "cell_type": "markdown",
   "id": "d9f0ac87-4396-49ab-9f0e-e821d8d4e32c",
   "metadata": {},
   "source": [
    "The [Rankine Cycle](https://en.wikipedia.org/wiki/Rankine_cycle) is an open four-step cycle used to produce power (__Fig. 1__). High energy superheated vapor is passed through a turbine, which transforms some of the chemical energy of the working fluid into mechanical energy in terms of shaft work. The remainder of the cycle regenerates the high-energy, super-heated starting state. \n",
    "\n",
    "The steady-state energy and mass balances around each of the four process unit is given by:\n",
    "\n",
    "$$\n",
    "\\begin{eqnarray}\n",
    "\\dot{Q} + \\dot{W} + \\sum_{s\\in\\mathcal{S}}v_{s}\\dot{m}_{s}H_{s} & = & 0\\\\\n",
    "\\sum_{s\\in\\mathcal{S}}v_{s}\\dot{m}_{s} & = & 0\n",
    "\\end{eqnarray}\n",
    "$$\n",
    "\n",
    "where $\\dot{Q}$ denotes the rate of heat transfer to (from) the process unit, $\\dot{W}$ denotes the rate of shaft (mechanical) work done on (or by) the system, and the summation terms denote the rate of energy (or mass) transferred into (or from) the system. Finally, $v_{s}$ denotes the direction parameter; $v_{\\star}$ = +1 input and $v_{\\star}$ = -1 output.\n",
    "\n",
    "For more details on the energy balance and power generation cycles, [consult the ENGRI 1120 course notes](https://varnerlab.github.io/ENGRI-1120-IntroToChemE-Book/chapter-1-dir/energy-balances.html#content-references-rc)."
   ]
  },
  {
   "cell_type": "markdown",
   "id": "02d27a08-fcd1-4e9d-b917-ea8f9af3eecf",
   "metadata": {},
   "source": [
    "### Problem statement"
   ]
  },
  {
   "cell_type": "markdown",
   "id": "cfad7021-985e-4305-9ca8-8a4acf715dbd",
   "metadata": {},
   "source": [
    "The teaching team operates a [Rankine Cycle](https://en.wikipedia.org/wiki/Rankine_cycle) using the refrigerant [R-508B](https://en.wikipedia.org/wiki/List_of_refrigerants); the [R-508B data-sheet is included in the data folder](data/R508B-DataSheet.pdf). The operating table for the cycle is given by:\n",
    "\n",
    "| Operating Point $O_{\\star}$ | Temp ($C^{\\circ}$) | Pressure (MPa) | Enthalpy (kJ/kg) | State |\n",
    "| :--: | :--: | :--: | :--: | :-- |\n",
    "| $O_{1}$    | 30 | 3.60 | ??? (302.4) | Superheated vapor\n",
    "| $O_{2}$    | -80 | 0.158 | ??? (248.5)| Mixed vapor and liquid\n",
    "| $O_{3}$    | -80 | 0.158 | ??? (96.3)| Saturated liquid\n",
    "| $O_{4}$    | -82 | 3.60 | 100.0 | Liquid\n",
    "\n",
    "__Parameters and assumptions:__\n",
    "* The cycle operates at a steady state; all operations are assumed ideal\n",
    "* The mass flow of working fluid is $\\dot{m}$ = 10.0 kg/s\n",
    "* The value of entropy at $O_{1}$ is $S_{1}$ = 1.3556 kJ/kg-K\n",
    "\n",
    "__Compute:__\n",
    "1. Fill in the missing enthalpy values in the state table\n",
    "1. Compute the cycle efficiency $\\eta$ (assuming an ideal cycle)\n",
    "1. Plot the Rankine Cycle in the PH diagram"
   ]
  },
  {
   "cell_type": "markdown",
   "id": "3a3f4510-4c6e-41c8-9c1d-e5ed9d2f1bd1",
   "metadata": {},
   "source": [
    "__Data from the problem__:"
   ]
  },
  {
   "cell_type": "code",
   "execution_count": 10,
   "id": "58d92a0f-324a-43f2-b2f1-0e867c5dc6ef",
   "metadata": {},
   "outputs": [],
   "source": [
    "# parameters -\n",
    "ṁ = 10.0; # units: kg/s\n",
    "H₄ = 100.0;  # units: kJ/kg"
   ]
  },
  {
   "cell_type": "markdown",
   "id": "f04964af-5446-4ba6-af76-eed11bafeafa",
   "metadata": {},
   "source": [
    "### a) Fill in the missing values of the $H_{1}, H_{2}$ and $H_{3}$ in the state table"
   ]
  },
  {
   "cell_type": "code",
   "execution_count": 1,
   "id": "60f20d4b-789f-409c-ac88-31cbdc32b506",
   "metadata": {},
   "outputs": [],
   "source": [
    "# Fill in these values from the data sheet (or PH diagram)\n",
    "H₁ = 302.4; # units: kJ/kg\n",
    "H₃ = 96.3;  # units: kJ/kg"
   ]
  },
  {
   "cell_type": "markdown",
   "id": "b37ce1d0-7149-473e-9c01-e2dbe22baed3",
   "metadata": {},
   "source": [
    "Next, estimate $H_{2}$: compute the quality parameter $\\theta$, and then use linear interpolation to estimate $H_{2}$ "
   ]
  },
  {
   "cell_type": "code",
   "execution_count": 4,
   "id": "07a82fd5-5098-477c-891f-1b0b869aec76",
   "metadata": {},
   "outputs": [
    {
     "data": {
      "text/plain": [
       "0.9565322972316658"
      ]
     },
     "execution_count": 4,
     "metadata": {},
     "output_type": "execute_result"
    }
   ],
   "source": [
    "# compute θ => so we can calculate \n",
    "\n",
    "# Look up data from the saturated T = -80C from data sheet or PH diagram\n",
    "S₁ = 1.3556; # units: kJ/kg-K\n",
    "Sᵥ = 1.3914;    # units: kJ/kg-K\n",
    "Sₗ = 0.5678;     # units: kJ/kg-K\n",
    "\n",
    "# θ -\n",
    "θ = (S₁ - Sₗ)/(Sᵥ - Sₗ);\n",
    "θ"
   ]
  },
  {
   "cell_type": "code",
   "execution_count": 8,
   "id": "b6e2c013-886f-4813-9c72-c1fbda3c9d1d",
   "metadata": {},
   "outputs": [
    {
     "data": {
      "text/plain": [
       "248.48428848955803"
      ]
     },
     "execution_count": 8,
     "metadata": {},
     "output_type": "execute_result"
    }
   ],
   "source": [
    "# compute H₂ -\n",
    "\n",
    "# Estimate the saturation values at T = -80C from the data sheet or PH diagram\n",
    "Hₗ = 96.3;   # units: kJ/kg\n",
    "Hᵥ = 255.4; # units: kK/kg\n",
    "\n",
    "# Estimate H₂ -\n",
    "H₂ = θ*Hᵥ + (1-θ)*Hₗ;\n",
    "H₂"
   ]
  },
  {
   "cell_type": "markdown",
   "id": "904b6c8b-715e-4544-ab30-162966b1daa0",
   "metadata": {},
   "source": [
    "### b) Compute the Rankine cycle efficiency $\\eta$\n",
    "The [Rankine Cycle](https://en.wikipedia.org/wiki/Rankine_cycle) efficiency is defined as the net work produced divided by the required heat input into the boiler:\n",
    "\n",
    "$$\\eta = -\\frac{\\dot{W}_{net}}{\\dot{Q}_{B}}$$"
   ]
  },
  {
   "cell_type": "markdown",
   "id": "1c3239dc-99b7-47ff-8444-bc8321b22cd2",
   "metadata": {},
   "source": [
    "#### 1) Compute Turbine Work $\\dot{W}_{T}$"
   ]
  },
  {
   "cell_type": "code",
   "execution_count": 11,
   "id": "3ba7b139-7801-42ed-9ec1-2058ea814e67",
   "metadata": {},
   "outputs": [
    {
     "data": {
      "text/plain": [
       "-539.1571151044195"
      ]
     },
     "execution_count": 11,
     "metadata": {},
     "output_type": "execute_result"
    }
   ],
   "source": [
    "# Compute the turbine work -\n",
    "Ẇ_T = ṁ*(H₂ - H₁)\n",
    "Ẇ_T"
   ]
  },
  {
   "cell_type": "markdown",
   "id": "a98e3d75-5762-43d6-97ae-730766e34a4e",
   "metadata": {},
   "source": [
    "#### 2) Compute Pump Work $\\dot{W}_{P}$"
   ]
  },
  {
   "cell_type": "code",
   "execution_count": 12,
   "id": "c4304c6a-802c-42d5-a60e-44efef377438",
   "metadata": {},
   "outputs": [
    {
     "data": {
      "text/plain": [
       "37.00000000000003"
      ]
     },
     "execution_count": 12,
     "metadata": {},
     "output_type": "execute_result"
    }
   ],
   "source": [
    "# Compute the pump work -\n",
    "Ẇ_P = ṁ*(H₄ - H₃)\n",
    "Ẇ_P"
   ]
  },
  {
   "cell_type": "markdown",
   "id": "7bc1b695-e62e-4758-a0f8-87bacd4e1978",
   "metadata": {},
   "source": [
    "#### 3) Compute Boiler Heat $\\dot{Q}_{B}$"
   ]
  },
  {
   "cell_type": "code",
   "execution_count": 14,
   "id": "70efbc6f-f803-488c-8d13-0ab9bc316e0d",
   "metadata": {},
   "outputs": [
    {
     "data": {
      "text/plain": [
       "2023.9999999999998"
      ]
     },
     "execution_count": 14,
     "metadata": {},
     "output_type": "execute_result"
    }
   ],
   "source": [
    "# compute the heat -\n",
    "Q̇_B = ṁ*(H₁ - H₄)"
   ]
  },
  {
   "cell_type": "markdown",
   "id": "369b74c6-dd23-4272-b1c6-244890da294c",
   "metadata": {},
   "source": [
    "#### 4) Compute Condenser Heat $\\dot{Q}_{C}$"
   ]
  },
  {
   "cell_type": "code",
   "execution_count": 15,
   "id": "314f2b58-9e53-4000-b714-f7d2627004ca",
   "metadata": {},
   "outputs": [
    {
     "data": {
      "text/plain": [
       "1521.84288489558"
      ]
     },
     "execution_count": 15,
     "metadata": {},
     "output_type": "execute_result"
    }
   ],
   "source": [
    "Q̇_C = ṁ*(H₂ - H₃)"
   ]
  },
  {
   "cell_type": "markdown",
   "id": "949cf581-2cac-4ff4-8461-637b6ebe550f",
   "metadata": {},
   "source": [
    "#### 5) Compute Rankine Efficiency $\\eta$"
   ]
  },
  {
   "cell_type": "code",
   "execution_count": 17,
   "id": "e111948b-de51-436b-95c2-b90f5ff49db2",
   "metadata": {},
   "outputs": [
    {
     "data": {
      "text/plain": [
       "0.28466260627688716"
      ]
     },
     "execution_count": 17,
     "metadata": {},
     "output_type": "execute_result"
    }
   ],
   "source": [
    "η = -(Ẇ_T - Ẇ_P)/(Q̇_B)\n",
    "η"
   ]
  },
  {
   "cell_type": "markdown",
   "id": "25d4f435-da6e-46d8-bb0f-6382375aaa90",
   "metadata": {},
   "source": [
    "### c) Would the Rankine cycle efficiency $\\eta$ increase if we recycled some of $\\dot{Q}_{C}$?"
   ]
  },
  {
   "cell_type": "markdown",
   "id": "ecf30eee-2273-49d0-8a62-d24ab5a69b56",
   "metadata": {},
   "source": [
    "Yes or no? (explain)"
   ]
  },
  {
   "cell_type": "markdown",
   "id": "28a11e0d-3e2e-440c-8f8b-261dfb7c0ac2",
   "metadata": {},
   "source": [
    "Yes, because when we recycle Qc and use it toward the boiler heat, Qb, then less heat will be required for the boiler. So, the value for Qb would decrease, which would increase the value of Rankine cycle efficiency, 𝜂, since η = -(Ẇ_T - Ẇ_P)/(Q̇_B).   "
   ]
  },
  {
   "cell_type": "markdown",
   "id": "823ea956-6730-4194-b4ae-e3b6ff07d8df",
   "metadata": {},
   "source": [
    "### Plot the Rankine Cycle on the PH diagram"
   ]
  },
  {
   "cell_type": "markdown",
   "id": "f7e68b7b-e700-4086-844d-8cdc67be8ff3",
   "metadata": {},
   "source": [
    "Plot the cycle on the PH diagram handout"
   ]
  }
 ],
 "metadata": {
  "kernelspec": {
   "display_name": "Julia 1.8.0",
   "language": "julia",
   "name": "julia-1.8"
  },
  "language_info": {
   "file_extension": ".jl",
   "mimetype": "application/julia",
   "name": "julia",
   "version": "1.8.0"
  }
 },
 "nbformat": 4,
 "nbformat_minor": 5
}
