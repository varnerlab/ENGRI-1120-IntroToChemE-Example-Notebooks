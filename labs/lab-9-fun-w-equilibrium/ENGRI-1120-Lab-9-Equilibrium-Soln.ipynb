{
 "cells": [
  {
   "cell_type": "markdown",
   "id": "0522cfbd-0a79-40b9-9715-f6ee89962f37",
   "metadata": {},
   "source": [
    "# ENGRI 1120 Lab 9: Computation of an Equilibrium Constant"
   ]
  },
  {
   "cell_type": "markdown",
   "id": "719caa4c-c199-40d0-a08b-3dd1af33c6cd",
   "metadata": {},
   "source": [
    "### Introduction\n",
    "One potential strategy to generate clean hydrogen gas $H_{2}(g)$ for use in applications such as transportation is to directly decompose ammonia NH$_{3}(g)$ in the gas phase reaction:\n",
    "\n",
    "$$2NH_{3}(g)~{\\rightleftharpoons}~N_{2}(g)+3H_{2}(g)$$\n",
    "\n",
    "Let's explore the equilibrium behavior of this reaction in a constant volume well-mixed _batch_ reactor (no input or output streams) with $V$ = 100 L operating at T = 900$^{\\circ}$C and an unknown pressure (measured in units of MPa). \n",
    "\n",
    "Initially, there are 100 mol of NH$_{3}(g)$ and no products in the reactor. The teaching team measured the equilibrium extent of reaction $\\epsilon_{1}^{\\star}$ = 34.14 mol.\n",
    "\n",
    "__Assumptions__\n",
    "* The gas phase can be treated as ideal\n",
    "* The ideal gas law can be used to describe the conditions in the reactor\n",
    "* The reference pressure is $P^{\\circ}$ = 100 MPa\n",
    "* R = 0.008314 L MPa mol$^{-1}$ K$^{-1}$ and R = 0.008314 kJ mol$^{-1}$ K$^{-1}$ "
   ]
  },
  {
   "cell_type": "markdown",
   "id": "0cc14203-0a58-4bbb-b82c-dbb821321d96",
   "metadata": {},
   "source": [
    "### Lab setup"
   ]
  },
  {
   "cell_type": "code",
   "execution_count": 1,
   "id": "d99ea894-cbdc-431d-8dd9-a60968b0183e",
   "metadata": {},
   "outputs": [
    {
     "name": "stderr",
     "output_type": "stream",
     "text": [
      "\u001b[32m\u001b[1m  Activating\u001b[22m\u001b[39m project at `C:\\Users\\Sandra\\Desktop\\ENGRI-1120-IntroToChemE-Example-Notebooks\\labs\\lab-9-fun-w-equilibrium`\n",
      "\u001b[32m\u001b[1m   Installed\u001b[22m\u001b[39m PrettyTables ─ v2.2.1\n",
      "\u001b[32m\u001b[1m    Updating\u001b[22m\u001b[39m `C:\\Users\\Sandra\\Desktop\\ENGRI-1120-IntroToChemE-Example-Notebooks\\labs\\lab-9-fun-w-equilibrium\\Project.toml`\n",
      " \u001b[90m [08abe8d2] \u001b[39m\u001b[92m+ PrettyTables v2.2.1\u001b[39m\n",
      "\u001b[32m\u001b[1m    Updating\u001b[22m\u001b[39m `C:\\Users\\Sandra\\Desktop\\ENGRI-1120-IntroToChemE-Example-Notebooks\\labs\\lab-9-fun-w-equilibrium\\Manifest.toml`\n",
      " \u001b[90m [a8cc5b0e] \u001b[39m\u001b[92m+ Crayons v4.1.1\u001b[39m\n",
      " \u001b[90m [9a962f9c] \u001b[39m\u001b[92m+ DataAPI v1.13.0\u001b[39m\n",
      " \u001b[90m [e2d170a0] \u001b[39m\u001b[92m+ DataValueInterfaces v1.0.0\u001b[39m\n",
      " \u001b[90m [59287772] \u001b[39m\u001b[92m+ Formatting v0.4.2\u001b[39m\n",
      " \u001b[90m [82899510] \u001b[39m\u001b[92m+ IteratorInterfaceExtensions v1.0.0\u001b[39m\n",
      " \u001b[90m [b964fa9f] \u001b[39m\u001b[92m+ LaTeXStrings v1.3.0\u001b[39m\n",
      " \u001b[90m [bac558e1] \u001b[39m\u001b[92m+ OrderedCollections v1.4.1\u001b[39m\n",
      " \u001b[90m [08abe8d2] \u001b[39m\u001b[92m+ PrettyTables v2.2.1\u001b[39m\n",
      " \u001b[90m [189a3867] \u001b[39m\u001b[92m+ Reexport v1.2.2\u001b[39m\n",
      " \u001b[90m [892a3eda] \u001b[39m\u001b[92m+ StringManipulation v0.3.0\u001b[39m\n",
      " \u001b[90m [3783bdb8] \u001b[39m\u001b[92m+ TableTraits v1.0.1\u001b[39m\n",
      " \u001b[90m [bd369af6] \u001b[39m\u001b[92m+ Tables v1.10.0\u001b[39m\n",
      " \u001b[90m [56f22d72] \u001b[39m\u001b[92m+ Artifacts\u001b[39m\n",
      " \u001b[90m [2a0f44e3] \u001b[39m\u001b[92m+ Base64\u001b[39m\n",
      " \u001b[90m [b77e0a4c] \u001b[39m\u001b[92m+ InteractiveUtils\u001b[39m\n",
      " \u001b[90m [8f399da3] \u001b[39m\u001b[92m+ Libdl\u001b[39m\n",
      " \u001b[90m [37e2e46d] \u001b[39m\u001b[92m+ LinearAlgebra\u001b[39m\n",
      " \u001b[90m [56ddb016] \u001b[39m\u001b[92m+ Logging\u001b[39m\n",
      " \u001b[90m [d6f4376e] \u001b[39m\u001b[92m+ Markdown\u001b[39m\n",
      " \u001b[90m [de0858da] \u001b[39m\u001b[92m+ Printf\u001b[39m\n",
      " \u001b[90m [9a3f8284] \u001b[39m\u001b[92m+ Random\u001b[39m\n",
      " \u001b[90m [ea8e919c] \u001b[39m\u001b[92m+ SHA v0.7.0\u001b[39m\n",
      " \u001b[90m [9e88b42a] \u001b[39m\u001b[92m+ Serialization\u001b[39m\n",
      " \u001b[90m [8dfed614] \u001b[39m\u001b[92m+ Test\u001b[39m\n",
      " \u001b[90m [4ec0a83e] \u001b[39m\u001b[92m+ Unicode\u001b[39m\n",
      " \u001b[90m [e66e0078] \u001b[39m\u001b[92m+ CompilerSupportLibraries_jll v0.5.2+0\u001b[39m\n",
      " \u001b[90m [4536629a] \u001b[39m\u001b[92m+ OpenBLAS_jll v0.3.20+0\u001b[39m\n",
      " \u001b[90m [8e850b90] \u001b[39m\u001b[92m+ libblastrampoline_jll v5.1.1+0\u001b[39m\n",
      "\u001b[32m\u001b[1mPrecompiling\u001b[22m\u001b[39m project...\n",
      "\u001b[32m  ✓ \u001b[39mPrettyTables\n",
      "  1 dependency successfully precompiled in 5 seconds. 14 already precompiled.\n"
     ]
    }
   ],
   "source": [
    "import Pkg; Pkg.activate(\".\"); Pkg.resolve(); Pkg.instantiate();"
   ]
  },
  {
   "cell_type": "code",
   "execution_count": 2,
   "id": "00c10b12-90bf-4762-8928-2b9890b980a1",
   "metadata": {},
   "outputs": [],
   "source": [
    "# load req packages -\n",
    "using PrettyTables"
   ]
  },
  {
   "cell_type": "code",
   "execution_count": 15,
   "id": "163f2dfc-65ff-4076-814d-327f243b5441",
   "metadata": {},
   "outputs": [],
   "source": [
    "# Setup the problem -\n",
    "T = (900 + 273.15); # units: K\n",
    "V = 100.0; \t\t\t# units: L\n",
    "R = 0.008314 \t\t# units: kJ/mol-K\n",
    "R_MPa = 0.008314 \t# units: L MPa mol^-1 K^-1\n",
    "Pᵒ = 100.0 \t\t\t# units: MPa\n",
    "ϵₑ = 34.14;         # units: mol (given in the problem)\n",
    "\n",
    "\n",
    "# stoichiometry -\n",
    "S = [\n",
    "    -2.0 ; # 1 NH3\n",
    "    1.0  ; # 2 N2\n",
    "    3.0  ; # 3 H2\n",
    "];\n",
    "\n",
    "# setup initial -\n",
    "n_initial = [\n",
    "    100.0 \t; \t# 1 NH3\n",
    "    0.0 \t; \t# 2 N2\n",
    "    0.0 \t; \t# 3 H2\n",
    "]\n",
    "\n",
    "# we looked these up ... for a check later\n",
    "G_array = [\n",
    "    -16.4 \t; \t# 1 NH3 kJ/mol\n",
    "    0.0 \t; \t# 2 N2 kJ/mol\n",
    "    0.0 \t; \t# 3 H2 kJ/mol\n",
    "];\n",
    "\n",
    "# ΔG formation -\n",
    "ΔG_formation = sum(G_array.*S);"
   ]
  },
  {
   "cell_type": "markdown",
   "id": "cbbb3d73-b492-42ee-a9f4-ec91555aee2f",
   "metadata": {},
   "source": [
    "### a) Compute the system state table\n",
    "To compute the missing values in the state table, use the equilibrium extent $\\epsilon_{1}^{\\star}$ and the mole balances to compute the number of mole of component $i$ at equilibrium:\n",
    "\n",
    "$$n_{i} = n_{i}^{\\circ}+\\sigma_{i1}\\epsilon_{1}^{\\star}\\qquad{i=1,2,\\dots,\\mathcal{M}}$$\n",
    "\n",
    "Then compute the mole fractions that are required to estimate $K$. "
   ]
  },
  {
   "cell_type": "code",
   "execution_count": 4,
   "id": "9f8f6a27-b698-4a83-ba8d-fadda3158ef4",
   "metadata": {},
   "outputs": [
    {
     "name": "stdout",
     "output_type": "stream",
     "text": [
      "┌─────────┬──────┬────────────┬──────────┬──────────┐\n",
      "│\u001b[1m Species \u001b[0m│\u001b[1m σ_i1 \u001b[0m│\u001b[1m nᵢ_initial \u001b[0m│\u001b[1m nᵢ_final \u001b[0m│\u001b[1m yᵢ_final \u001b[0m│\n",
      "│\u001b[90m         \u001b[0m│\u001b[90m      \u001b[0m│\u001b[90m        mol \u001b[0m│\u001b[90m      mol \u001b[0m│\u001b[90m          \u001b[0m│\n",
      "├─────────┼──────┼────────────┼──────────┼──────────┤\n",
      "│     NH₃ │ -2.0 │      100.0 │    31.72 │ 0.188495 │\n",
      "│      N₂ │  1.0 │        0.0 │    34.14 │ 0.202876 │\n",
      "│      H₂ │  3.0 │        0.0 │   102.42 │ 0.608628 │\n",
      "│   Total │  2.0 │      100.0 │   168.28 │      1.0 │\n",
      "└─────────┴──────┴────────────┴──────────┴──────────┘\n"
     ]
    }
   ],
   "source": [
    "# compute the final number of mols -\n",
    "n_final_eq = n_initial + S*ϵₑ\n",
    "\n",
    "# compute the mol fraction -\n",
    "n_total = sum(n_final_eq);\n",
    "\n",
    "# compute the mol fraction -\n",
    "y_final_eq = (1/n_total)*n_final_eq\n",
    "\n",
    "# header row -\n",
    "state_table_header_row = ([\"Species\",\"σ_i1\",\"nᵢ_initial\",\"nᵢ_final\",\"yᵢ_final\"],[\"\",\"\",\"mol\", \"mol\", \"\"]);\n",
    "\n",
    "# setup state table data array =\n",
    "state_table_array = Array{Any,2}(undef, 4,5)\n",
    "\n",
    "# NH3 -\n",
    "state_table_array[1,1] = \"NH₃\"\n",
    "state_table_array[1,2] = S[1]\n",
    "state_table_array[1,3] = n_initial[1]\n",
    "state_table_array[1,4] = n_final_eq[1]\n",
    "state_table_array[1,5] = y_final_eq[1]\n",
    "\n",
    "# N2 -\n",
    "state_table_array[2,1] = \"N₂\"\n",
    "state_table_array[2,2] = S[2]\n",
    "state_table_array[2,3] = n_initial[2]\n",
    "state_table_array[2,4] = n_final_eq[2]\n",
    "state_table_array[2,5] = y_final_eq[2]\n",
    "\n",
    "# H2 -\n",
    "state_table_array[3,1] = \"H₂\"\n",
    "state_table_array[3,2] = S[3]\n",
    "state_table_array[3,3] = n_initial[3]\n",
    "state_table_array[3,4] = n_final_eq[3]\n",
    "state_table_array[3,5] = y_final_eq[3]\n",
    "\n",
    "# total -\n",
    "state_table_array[4,1] = \"Total\"\n",
    "state_table_array[4,2] = sum(S)\n",
    "state_table_array[4,3] = sum(n_initial)\n",
    "state_table_array[4,4] = sum(n_final_eq)\n",
    "state_table_array[4,5] = sum(y_final_eq)\n",
    "\n",
    "# write the table -\n",
    "pretty_table(state_table_array; header=state_table_header_row)"
   ]
  },
  {
   "cell_type": "markdown",
   "id": "2f7a97bf-e501-4935-b42f-1e09205c8be0",
   "metadata": {},
   "source": [
    "### b) Compute the missing value for the pressure $P$ in the reactor (units: MPa)"
   ]
  },
  {
   "cell_type": "code",
   "execution_count": 5,
   "id": "9367394f-079a-4439-93d0-18577f00d464",
   "metadata": {},
   "outputs": [
    {
     "data": {
      "text/plain": [
       "16.413306081480002"
      ]
     },
     "execution_count": 5,
     "metadata": {},
     "output_type": "execute_result"
    }
   ],
   "source": [
    "# We have the total number of moles from the state table, use the IG equation of state to estimate \n",
    "# pressure (note: this is an insanely bad idea ... but we do it anyway)\n",
    "P_eq = (n_total)*(R_MPa*T)*(1/V)"
   ]
  },
  {
   "cell_type": "markdown",
   "id": "d46183ab-73c0-49a7-9449-5e6b48ecc6b6",
   "metadata": {},
   "source": [
    "### c) Compute a value for the gas-phase ideal equilibrium constant using your composition and pressure values"
   ]
  },
  {
   "cell_type": "code",
   "execution_count": 6,
   "id": "e856d7f9-966e-425f-8304-aaa82f2d7bba",
   "metadata": {},
   "outputs": [
    {
     "name": "stdout",
     "output_type": "stream",
     "text": [
      "The Keq = 0.034679961303443675 from the extent of reaction\n"
     ]
    }
   ],
   "source": [
    "# compute the K-value from the extent -\n",
    "P_term = (P_eq/Pᵒ)^2\n",
    "K₁ = (y_final_eq[1]^S[1])*(y_final_eq[2]^S[2])*(y_final_eq[3]^S[3])\n",
    "K₂ = P_term*K₁\n",
    "\n",
    "println(\"The Keq = $(K₂) from the extent of reaction\")"
   ]
  },
  {
   "cell_type": "code",
   "execution_count": 7,
   "id": "c78ce2a6-3315-414c-a9d6-b0d7a1acd864",
   "metadata": {},
   "outputs": [
    {
     "name": "stdout",
     "output_type": "stream",
     "text": [
      "Check: Keq = 0.03463565811755417 from the KNOWN ΔG at T = 1173.15 K\n"
     ]
    }
   ],
   "source": [
    "# check: we can also compute the Keq from the ΔG expression -\n",
    "K_problem = exp(-1*ΔG_formation/(R*T));\n",
    "println(\"Check: Keq = $(K_problem) from the KNOWN ΔG at T = $(T) K\")"
   ]
  },
  {
   "cell_type": "markdown",
   "id": "7c988312-9da4-4fc0-b97c-cd70d65c00fd",
   "metadata": {},
   "source": [
    "### d) Compute the $\\Delta{G}^{\\circ}$ of reaction for the decomposition of NH$_{3}$(g). Is this reaction energetically favorable (yes -or- no)?"
   ]
  },
  {
   "cell_type": "code",
   "execution_count": 8,
   "id": "714f0360-d4db-47b8-99df-c9369f6fff83",
   "metadata": {},
   "outputs": [
    {
     "name": "stdout",
     "output_type": "stream",
     "text": [
      "Computed ΔG = 32.787531980601926 kJ mol^{-1} K^{-1} > 0 => NOT favorable\n"
     ]
    }
   ],
   "source": [
    "ΔG_problem = -R*T*log(K₂);\n",
    "println(\"Computed ΔG = $(ΔG_problem) kJ mol^{-1} K^{-1} > 0 => NOT favorable\")"
   ]
  },
  {
   "cell_type": "code",
   "execution_count": null,
   "id": "58645c70-3b49-491a-ba43-96508d17c709",
   "metadata": {},
   "outputs": [],
   "source": []
  }
 ],
 "metadata": {
  "kernelspec": {
   "display_name": "Julia 1.8.5",
   "language": "julia",
   "name": "julia-1.8"
  },
  "language_info": {
   "file_extension": ".jl",
   "mimetype": "application/julia",
   "name": "julia",
   "version": "1.8.5"
  }
 },
 "nbformat": 4,
 "nbformat_minor": 5
}
