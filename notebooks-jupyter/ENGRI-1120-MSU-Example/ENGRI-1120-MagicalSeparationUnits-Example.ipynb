{
 "cells": [
  {
   "cell_type": "markdown",
   "id": "14cdc5b2-aa8b-4e87-890a-835b910a602a",
   "metadata": {},
   "source": [
    "## ENGRI 1120: Magical Separation Units (MSU) calculations"
   ]
  },
  {
   "cell_type": "markdown",
   "id": "18efcc92-60df-4c83-8a31-4c287988a7a9",
   "metadata": {},
   "source": [
    "### Introduction\n",
    "Separations are a massive component of any chemical process. It is rarely the case that a reaction of interest goes to completion, and all we are left with is the desired product itself. Thus, we (as chemical engineers) must develop operations to pull apart (or separate) mixtures into streams that contain selected and undesired chemical components. For more on the general area of Separations (and the various types of tools that we can use), check out the [Separations section in the LearnCheme series](https://learncheme.com/screencasts/separations-mass-transfer/). \n",
    "\n",
    "For the project, let's develop a hypothetical downstream separation that illustrates some of the ideas you'll see in your later courses but without the headache that comes along with reality. \n",
    "\n",
    "### Theory\n",
    "The teaching team invented a magical separation unit or MSU to make this happen. MSUs have one stream in and two streams out (called the top, and bottom, respectively) and a fixed separation ratio for all products (that's what makes them magical), where the desired product is _always_ in the top stream at some ratio $\\theta$.\n",
    "\n",
    "Denote the index for the desired product as $i=\\star$. Then after one pass (stream 1 is the input, stream 2 is the top, and stream 3 is the bottom), we have:\n",
    "\n",
    "$$\\begin{eqnarray}\n",
    "\\dot{n}_{2,\\star} &=& \\theta\\cdot\\dot{n}_{1,\\star}\\\\\n",
    "\\dot{n}_{3,\\star} &=& (1-\\theta)\\cdot\\dot{n}_{1,\\star}\\\\\n",
    "\\end{eqnarray}$$\n",
    "\n",
    "for the product. On the other hand, for _all_ other materials in the input, we have $\\left(1-\\theta_{\\star}\\right)$ in the top, and $\\theta_{\\star}$ in the bottom, i.e.,\n",
    "\n",
    "$$\\begin{eqnarray}\n",
    "\\dot{n}_{2,i} &=& (1-\\theta)\\cdot\\dot{n}_{1,i}\\qquad{\\forall{i}\\neq\\star}\\\\\n",
    "\\dot{n}_{3,i} &=& \\theta\\cdot\\dot{n}_{1,i}\\\\\n",
    "\\end{eqnarray}$$\n",
    "\n",
    "If we chain these units together, we can achieve the desired degree of separation. This arrangement gives rise to a [binary separation tree](https://en.wikipedia.org/wiki/Binary_tree):"
   ]
  },
  {
   "cell_type": "markdown",
   "id": "c4a069bc-94fa-420a-b235-5c0582faff98",
   "metadata": {},
   "source": [
    "<center>\n",
    "    <img src=\"figs/Fig-BTree-v2.pdf\" style=\"align:right; width:35%\">\n",
    "</center>"
   ]
  },
  {
   "cell_type": "markdown",
   "id": "03c7ab03",
   "metadata": {},
   "source": []
  },
  {
   "cell_type": "markdown",
   "id": "00a248ff-99db-4315-b150-07ef135486da",
   "metadata": {},
   "source": [
    "The species mole flow rates at level $L$ of the B-tree, denoted by $\\dot{n}_{\\star,i}$, are given by:\n",
    "\n",
    "$$\\dot{n}_{\\star,i} = \\dot{n}_{s,i}u_{i}^{k}d_{i}^{L-k}\\qquad\\forall{i}\\in\\mathcal{M}$$\n",
    "\n",
    "where $k=0,1,2,\\dots,L$, $\\dot{n}_{s,i}$ denotes the mole flow rate of species $i$ in stream $s$, i.e., the composition of the input stream, $u_{i}$ denotes the up-factor for component $i$ and $d_{i}$ denotes the down-factor for component $i$."
   ]
  },
  {
   "cell_type": "markdown",
   "id": "ddca9541-a17c-4055-aa4d-888f197dc2cb",
   "metadata": {},
   "source": [
    "#### Recover product $P$ from the chip exit stream\n",
    "From the previous example chip example, we have an exit stream that consists of unreacted starting material $A_{1}$, product $P$, and byproduct $C$. Let's build a magical separator tree that achieves a purity of $>99\\%$ at the exit with a split factor $\\theta=0.75$."
   ]
  },
  {
   "cell_type": "markdown",
   "id": "4e59ed8a-82e9-4da1-8fde-0fa999c58eac",
   "metadata": {},
   "source": [
    "### Example setup"
   ]
  },
  {
   "cell_type": "code",
   "execution_count": 1,
   "id": "2508c45f-8325-4ee1-8def-a066440b12ce",
   "metadata": {},
   "outputs": [
    {
     "name": "stderr",
     "output_type": "stream",
     "text": [
      "\u001b[32m\u001b[1m  Activating\u001b[22m\u001b[39m project at `~/Desktop/julia_work/ENGRI-1120-IntroToChemE-Example-Notebooks/notebooks-jupyter/ENGRI-1120-MSU-Example`\n",
      "\u001b[32m\u001b[1m  No Changes\u001b[22m\u001b[39m to `~/Desktop/julia_work/ENGRI-1120-IntroToChemE-Example-Notebooks/notebooks-jupyter/ENGRI-1120-MSU-Example/Project.toml`\n",
      "\u001b[32m\u001b[1m  No Changes\u001b[22m\u001b[39m to `~/Desktop/julia_work/ENGRI-1120-IntroToChemE-Example-Notebooks/notebooks-jupyter/ENGRI-1120-MSU-Example/Manifest.toml`\n"
     ]
    }
   ],
   "source": [
    "import Pkg; Pkg.activate(\".\"); Pkg.resolve(); Pkg.instantiate();"
   ]
  },
  {
   "cell_type": "code",
   "execution_count": 2,
   "id": "2f832f31-2e27-4d3d-bb0c-c2659f4d9d08",
   "metadata": {},
   "outputs": [],
   "source": [
    "# load reqd packages and set paths -\n",
    "using PrettyTables\n",
    "using GLPK\n",
    "using Plots\n",
    "using Colors\n",
    "\n",
    "# setup paths -\n",
    "const _ROOT = pwd();"
   ]
  },
  {
   "cell_type": "code",
   "execution_count": 3,
   "id": "1fbdb477-b118-4725-9ff6-bb8f293f4a2d",
   "metadata": {},
   "outputs": [],
   "source": [
    "include(\"ENGRI-1120-Example-CodeLib.jl\");"
   ]
  },
  {
   "cell_type": "markdown",
   "id": "4102c5b5-d787-4abc-8277-8a3fb20d1cc6",
   "metadata": {},
   "source": [
    "### Constants"
   ]
  },
  {
   "cell_type": "code",
   "execution_count": 4,
   "id": "3877339b-a1a7-421b-a497-e5c091a02aaa",
   "metadata": {},
   "outputs": [],
   "source": [
    "# Constants -\n",
    "θ = 0.75; # what is the split ratio \n",
    "𝒫 = 0.99; # what is my mole fraction purity target\n",
    "number_of_levels = 10; # how many levels in the tree"
   ]
  },
  {
   "cell_type": "code",
   "execution_count": 5,
   "id": "27683af7-6288-46fa-9f01-3ba79bd989d4",
   "metadata": {},
   "outputs": [],
   "source": [
    "# Build network from last time -\n",
    "# Setup a collection of reaction strings -\n",
    "reaction_array = Array{String,1}()\n",
    "\n",
    "# encode the reactions -\n",
    "# internal reactions -\n",
    "push!(reaction_array,\"v₁,A₁+x,B+y,false\")\n",
    "push!(reaction_array,\"v₂,B,P,false\")\n",
    "push!(reaction_array,\"v₃,A₂+y,C+x,false\")\n",
    "\n",
    "# compute the stoichiometric matrix -\n",
    "# the optional expand arguement = should we split reversible reactions? (default: false)\n",
    "(S, species_name_array, reaction_name_array) = build_stoichiometric_matrix(reaction_array; \n",
    "    expand=false);"
   ]
  },
  {
   "cell_type": "code",
   "execution_count": 6,
   "id": "53718840-762c-4c1b-93e4-cace7e253127",
   "metadata": {},
   "outputs": [],
   "source": [
    "(ℳ, ℛ) = size(S);"
   ]
  },
  {
   "cell_type": "code",
   "execution_count": 7,
   "id": "a4be0a26-3145-4987-8903-a6e1ce13745e",
   "metadata": {},
   "outputs": [
    {
     "data": {
      "text/plain": [
       "7-element Vector{String}:\n",
       " \"A₁\"\n",
       " \"A₂\"\n",
       " \"B\"\n",
       " \"C\"\n",
       " \"P\"\n",
       " \"x\"\n",
       " \"y\""
      ]
     },
     "execution_count": 7,
     "metadata": {},
     "output_type": "execute_result"
    }
   ],
   "source": [
    "species_name_array"
   ]
  },
  {
   "cell_type": "code",
   "execution_count": 8,
   "id": "170d4a0f-f5c8-4180-ad1a-c9d74ecb3dba",
   "metadata": {},
   "outputs": [],
   "source": [
    "# from the FBA problen -\n",
    "ṅ₃_out = [\n",
    "    15.0 ; # A₁\n",
    "    0.0  ; # A₂\n",
    "    0.0  ; # B\n",
    "    5.0  ; # C\n",
    "    5.0  ; # P\n",
    "    0.0  ; # x\n",
    "    0.0  ; # y\n",
    "];"
   ]
  },
  {
   "cell_type": "markdown",
   "id": "7c25176d-1478-4b59-a431-ee3ecbe45864",
   "metadata": {},
   "source": [
    "### Build some information about the MSU tree"
   ]
  },
  {
   "cell_type": "code",
   "execution_count": 9,
   "id": "1f5fd395-e366-42be-b94d-bb04aba93c70",
   "metadata": {},
   "outputs": [],
   "source": [
    "# nodes dictionary holds information about the nodes at each level\n",
    "nodes_dictionary = build_nodes_dictionary(number_of_levels); # zero based"
   ]
  },
  {
   "cell_type": "code",
   "execution_count": 10,
   "id": "4fe3accc-d065-4d49-af2f-fccd76edcaa4",
   "metadata": {},
   "outputs": [],
   "source": [
    "# children dictionary gives us what nodes are connected to what -\n",
    "children_dictionary = build_children_dictionary(nodes_dictionary); # zero based"
   ]
  },
  {
   "cell_type": "markdown",
   "id": "60afd0b9-cddd-4578-a379-9da3df711a6e",
   "metadata": {},
   "source": [
    "### Run a sample separation"
   ]
  },
  {
   "cell_type": "code",
   "execution_count": 11,
   "id": "fb8aa5e1-429d-414d-aef6-a0811421ad9e",
   "metadata": {},
   "outputs": [],
   "source": [
    "# build a lattice model -\n",
    "L = 5;\n",
    "msu_lattice_model_P = build(MSULatticeModel; ṅₒ = 5.0, L = L, u = θ, d = (1 - θ));\n",
    "msu_lattice_model_A₁ = build(MSULatticeModel; ṅₒ = 15.0, L = L, u = (1 - θ), d = θ);\n",
    "msu_lattice_model_C = build(MSULatticeModel; ṅₒ = 5.0, L = L, u = (1 - θ), d = θ);\n",
    "\n",
    "# composition array -\n",
    "composition_array = [msu_lattice_model_A₁.data msu_lattice_model_C.data msu_lattice_model_P.data];"
   ]
  },
  {
   "cell_type": "code",
   "execution_count": 12,
   "id": "063a7adf-e671-473f-bc09-361386df148c",
   "metadata": {
    "tags": []
   },
   "outputs": [
    {
     "name": "stdout",
     "output_type": "stream",
     "text": [
      "┌────────┬───────────┬───────────┬───────────┬──────────────────────┐\n",
      "│\u001b[1m node i \u001b[0m│\u001b[1m        A₁ \u001b[0m│\u001b[1m         C \u001b[0m│\u001b[1m         P \u001b[0m│\u001b[1m Mole fraction target \u001b[0m│\n",
      "│\u001b[90m        \u001b[0m│\u001b[90m  mol/time \u001b[0m│\u001b[90m  mol/time \u001b[0m│\u001b[90m  mol/time \u001b[0m│\u001b[90m                      \u001b[0m│\n",
      "├────────┼───────────┼───────────┼───────────┼──────────────────────┤\n",
      "│      1 │      15.0 │       5.0 │       5.0 │                  0.2 │\n",
      "│      2 │      3.75 │      1.25 │      3.75 │             0.428571 │\n",
      "│      3 │     11.25 │      3.75 │      1.25 │            0.0769231 │\n",
      "│      4 │    0.9375 │    0.3125 │    2.8125 │             0.692308 │\n",
      "│      5 │    2.8125 │    0.9375 │    0.9375 │                  0.2 │\n",
      "│      6 │    8.4375 │    2.8125 │    0.3125 │             0.027027 │\n",
      "│      7 │  0.234375 │  0.078125 │   2.10938 │             0.870968 │\n",
      "│      8 │  0.703125 │  0.234375 │  0.703125 │             0.428571 │\n",
      "│      9 │   2.10938 │  0.703125 │  0.234375 │            0.0769231 │\n",
      "│     10 │   6.32812 │   2.10938 │  0.078125 │           0.00917431 │\n",
      "│     11 │ 0.0585938 │ 0.0195312 │   1.58203 │             0.952941 │\n",
      "│     12 │  0.175781 │ 0.0585938 │  0.527344 │             0.692308 │\n",
      "│     13 │  0.527344 │  0.175781 │  0.175781 │                  0.2 │\n",
      "│     14 │   1.58203 │  0.527344 │ 0.0585938 │             0.027027 │\n",
      "│     15 │   4.74609 │   1.58203 │ 0.0195312 │           0.00307692 │\n",
      "└────────┴───────────┴───────────┴───────────┴──────────────────────┘\n"
     ]
    }
   ],
   "source": [
    "# make a pretty table -\n",
    "\n",
    "# get the size of the composition array -\n",
    "(NRC, NCC) = size(composition_array);\n",
    "sep_data_table = Array{Any,2}(undef, NRC, NCC + 2);\n",
    "\n",
    "# species symbol array -\n",
    "local_species_symbol_array = [\"A₁\", \"C\", \"P\"];\n",
    "\n",
    "# main -\n",
    "for row ∈ 1:NRC\n",
    "    sep_data_table[row, 1] = row\n",
    "    for col ∈ 1:NCC\n",
    "        sep_data_table[row, 1+col] = composition_array[row, col]\n",
    "    end\n",
    "end\n",
    "\n",
    "# add a mol fraction col -\n",
    "local_target_index = 3;\n",
    "for row ∈ 1:NRC\n",
    "    mol_total = sum(composition_array[row, :]);\n",
    "    target_mol = composition_array[row, local_target_index]\n",
    "    sep_data_table[row, end] = target_mol/mol_total;\n",
    "end\n",
    "\n",
    "# header -\n",
    "sep_table_header = ([\"node i\", \"A₁\", \"C\", \"P\", \"Mole fraction target\"], [\"\", \"mol/time\", \"mol/time\", \"mol/time\", \"\"])\n",
    "\n",
    "# display\n",
    "pretty_table(sep_data_table; header=sep_table_header)"
   ]
  },
  {
   "cell_type": "code",
   "execution_count": 13,
   "id": "588e1d56-9354-498c-8f0a-5e3f7aea47cc",
   "metadata": {},
   "outputs": [
    {
     "data": {
      "text/plain": [
       "5×5 Matrix{Any}:\n",
       " 11  0.0585938  0.0195312  1.58203    0.952941\n",
       " 12  0.175781   0.0585938  0.527344   0.692308\n",
       " 13  0.527344   0.175781   0.175781   0.2\n",
       " 14  1.58203    0.527344   0.0585938  0.027027\n",
       " 15  4.74609    1.58203    0.0195312  0.00307692"
      ]
     },
     "execution_count": 13,
     "metadata": {},
     "output_type": "execute_result"
    }
   ],
   "source": [
    "[nodes_dictionary[L-1] composition_array[nodes_dictionary[L-1], :] sep_data_table[nodes_dictionary[L-1],end]]"
   ]
  },
  {
   "cell_type": "code",
   "execution_count": null,
   "id": "9d7e3fa7-a4f1-4ffe-897a-8ebe0cbdf14c",
   "metadata": {},
   "outputs": [],
   "source": []
  },
  {
   "cell_type": "markdown",
   "id": "ec181cec-56a0-47d9-b7e9-e0a803825970",
   "metadata": {},
   "source": [
    "### How many levels do we need to achieve a target purity?"
   ]
  },
  {
   "cell_type": "code",
   "execution_count": 14,
   "id": "2c703274-5e97-4306-aa06-393b2558ff7d",
   "metadata": {
    "jupyter": {
     "source_hidden": true
    },
    "tags": []
   },
   "outputs": [],
   "source": [
    "# most of the \"stuff\" has a 1 - θ in the up, and a θ in the down\n",
    "u = (1-θ)*ones(ℳ,1)\n",
    "d = θ*ones(ℳ,1)\n",
    "\n",
    "# However: the desired product has the opposite => correct for my compound of interest -\n",
    "idx_target_compound = 5; # desired product is P -\n",
    "\n",
    "# correct defaults -\n",
    "u[idx_target_compound] = θ\n",
    "d[idx_target_compound] = 1 - θ\n",
    "\n",
    "# let's compute the composition of the *always up* stream -\n",
    "\n",
    "# initialize some storage -\n",
    "species_mole_flow_array_top = zeros(ℳ,number_of_levels)\n",
    "species_mole_flow_array_bottom = zeros(ℳ,number_of_levels)\n",
    "\n",
    "for species_index = 1:ℳ\n",
    "    value = ṅ₃_out[species_index]\n",
    "    species_mole_flow_array_top[species_index,1] = value\n",
    "    species_mole_flow_array_bottom[species_index,1] = value\n",
    "end\n",
    "\n",
    "for level = 2:number_of_levels\n",
    "\n",
    "    # compute the mass flows coming out of the top -\n",
    "    mole_dot_top = ṅ₃_out.*(u.^(level-1))\n",
    "    mole_dot_bottom = ṅ₃_out.*(d.^(level-1))\n",
    "\n",
    "    # update my storage array -\n",
    "    for species_index = 1:ℳ\n",
    "        species_mole_flow_array_top[species_index,level] = mole_dot_top[species_index]\n",
    "        species_mole_flow_array_bottom[species_index,level] = mole_dot_bottom[species_index]\n",
    "    end\n",
    "end\n",
    "\n",
    "# what is the mass fraction in the top stream -\n",
    "species_mole_fraction_array_top = zeros(ℳ,number_of_levels)\n",
    "species_mole_fraction_array_bottom = zeros(ℳ,number_of_levels)\n",
    "\n",
    "# this is a dumb way to do this ... you're better than that JV come on ...\n",
    "T_top = sum(species_mole_flow_array_top,dims=1)\n",
    "T_bottom = sum(species_mole_flow_array_bottom,dims=1)\n",
    "for level = 1:number_of_levels\n",
    "\n",
    "    # get the total for this level -\n",
    "    T_level_top = T_top[level]\n",
    "    T_level_bottom = T_bottom[level]\n",
    "\n",
    "    for species_index = 1:ℳ\n",
    "        species_mole_fraction_array_top[species_index,level] = (1/T_level_top)*(species_mole_flow_array_top[species_index,level])\n",
    "        species_mole_fraction_array_bottom[species_index,level] = (1/T_level_bottom)*(species_mole_flow_array_bottom[species_index,level])\n",
    "    end\n",
    "end"
   ]
  },
  {
   "cell_type": "code",
   "execution_count": 15,
   "id": "36280fa7-4412-4b05-9b8a-74c4f2725d2c",
   "metadata": {
    "tags": []
   },
   "outputs": [
    {
     "data": {
      "image/svg+xml": [
       "<?xml version=\"1.0\" encoding=\"utf-8\"?>\n",
       "<svg xmlns=\"http://www.w3.org/2000/svg\" xmlns:xlink=\"http://www.w3.org/1999/xlink\" width=\"600\" height=\"400\" viewBox=\"0 0 2400 1600\">\n",
       "<defs>\n",
       "  <clipPath id=\"clip760\">\n",
       "    <rect x=\"0\" y=\"0\" width=\"2400\" height=\"1600\"/>\n",
       "  </clipPath>\n",
       "</defs>\n",
       "<path clip-path=\"url(#clip760)\" d=\"\n",
       "M0 1600 L2400 1600 L2400 0 L0 0  Z\n",
       "  \" fill=\"#ffffff\" fill-rule=\"evenodd\" fill-opacity=\"1\"/>\n",
       "<defs>\n",
       "  <clipPath id=\"clip761\">\n",
       "    <rect x=\"480\" y=\"0\" width=\"1681\" height=\"1600\"/>\n",
       "  </clipPath>\n",
       "</defs>\n",
       "<path clip-path=\"url(#clip760)\" d=\"\n",
       "M219.866 1423.18 L2352.76 1423.18 L2352.76 47.2441 L219.866 47.2441  Z\n",
       "  \" fill=\"#ffffff\" fill-rule=\"evenodd\" fill-opacity=\"1\"/>\n",
       "<defs>\n",
       "  <clipPath id=\"clip762\">\n",
       "    <rect x=\"219\" y=\"47\" width=\"2134\" height=\"1377\"/>\n",
       "  </clipPath>\n",
       "</defs>\n",
       "<polyline clip-path=\"url(#clip762)\" style=\"stroke:#000000; stroke-linecap:round; stroke-linejoin:round; stroke-width:2; stroke-opacity:0.1; fill:none\" points=\"\n",
       "  280.231,1423.18 280.231,47.2441 \n",
       "  \"/>\n",
       "<polyline clip-path=\"url(#clip762)\" style=\"stroke:#000000; stroke-linecap:round; stroke-linejoin:round; stroke-width:2; stroke-opacity:0.1; fill:none\" points=\"\n",
       "  727.378,1423.18 727.378,47.2441 \n",
       "  \"/>\n",
       "<polyline clip-path=\"url(#clip762)\" style=\"stroke:#000000; stroke-linecap:round; stroke-linejoin:round; stroke-width:2; stroke-opacity:0.1; fill:none\" points=\"\n",
       "  1174.52,1423.18 1174.52,47.2441 \n",
       "  \"/>\n",
       "<polyline clip-path=\"url(#clip762)\" style=\"stroke:#000000; stroke-linecap:round; stroke-linejoin:round; stroke-width:2; stroke-opacity:0.1; fill:none\" points=\"\n",
       "  1621.67,1423.18 1621.67,47.2441 \n",
       "  \"/>\n",
       "<polyline clip-path=\"url(#clip762)\" style=\"stroke:#000000; stroke-linecap:round; stroke-linejoin:round; stroke-width:2; stroke-opacity:0.1; fill:none\" points=\"\n",
       "  2068.82,1423.18 2068.82,47.2441 \n",
       "  \"/>\n",
       "<polyline clip-path=\"url(#clip760)\" style=\"stroke:#000000; stroke-linecap:round; stroke-linejoin:round; stroke-width:4; stroke-opacity:1; fill:none\" points=\"\n",
       "  219.866,1423.18 2352.76,1423.18 \n",
       "  \"/>\n",
       "<polyline clip-path=\"url(#clip760)\" style=\"stroke:#000000; stroke-linecap:round; stroke-linejoin:round; stroke-width:4; stroke-opacity:1; fill:none\" points=\"\n",
       "  280.231,1423.18 280.231,1404.28 \n",
       "  \"/>\n",
       "<polyline clip-path=\"url(#clip760)\" style=\"stroke:#000000; stroke-linecap:round; stroke-linejoin:round; stroke-width:4; stroke-opacity:1; fill:none\" points=\"\n",
       "  727.378,1423.18 727.378,1404.28 \n",
       "  \"/>\n",
       "<polyline clip-path=\"url(#clip760)\" style=\"stroke:#000000; stroke-linecap:round; stroke-linejoin:round; stroke-width:4; stroke-opacity:1; fill:none\" points=\"\n",
       "  1174.52,1423.18 1174.52,1404.28 \n",
       "  \"/>\n",
       "<polyline clip-path=\"url(#clip760)\" style=\"stroke:#000000; stroke-linecap:round; stroke-linejoin:round; stroke-width:4; stroke-opacity:1; fill:none\" points=\"\n",
       "  1621.67,1423.18 1621.67,1404.28 \n",
       "  \"/>\n",
       "<polyline clip-path=\"url(#clip760)\" style=\"stroke:#000000; stroke-linecap:round; stroke-linejoin:round; stroke-width:4; stroke-opacity:1; fill:none\" points=\"\n",
       "  2068.82,1423.18 2068.82,1404.28 \n",
       "  \"/>\n",
       "<path clip-path=\"url(#clip760)\" d=\"M280.231 1454.1 Q276.62 1454.1 274.791 1457.66 Q272.986 1461.2 272.986 1468.33 Q272.986 1475.44 274.791 1479.01 Q276.62 1482.55 280.231 1482.55 Q283.865 1482.55 285.671 1479.01 Q287.5 1475.44 287.5 1468.33 Q287.5 1461.2 285.671 1457.66 Q283.865 1454.1 280.231 1454.1 M280.231 1450.39 Q286.041 1450.39 289.097 1455 Q292.175 1459.58 292.175 1468.33 Q292.175 1477.06 289.097 1481.67 Q286.041 1486.25 280.231 1486.25 Q274.421 1486.25 271.342 1481.67 Q268.287 1477.06 268.287 1468.33 Q268.287 1459.58 271.342 1455 Q274.421 1450.39 280.231 1450.39 Z\" fill=\"#000000\" fill-rule=\"evenodd\" fill-opacity=\"1\" /><path clip-path=\"url(#clip760)\" d=\"M722.031 1481.64 L738.35 1481.64 L738.35 1485.58 L716.406 1485.58 L716.406 1481.64 Q719.068 1478.89 723.651 1474.26 Q728.257 1469.61 729.438 1468.27 Q731.683 1465.74 732.563 1464.01 Q733.466 1462.25 733.466 1460.56 Q733.466 1457.8 731.521 1456.07 Q729.6 1454.33 726.498 1454.33 Q724.299 1454.33 721.845 1455.09 Q719.415 1455.86 716.637 1457.41 L716.637 1452.69 Q719.461 1451.55 721.915 1450.97 Q724.368 1450.39 726.406 1450.39 Q731.776 1450.39 734.97 1453.08 Q738.165 1455.77 738.165 1460.26 Q738.165 1462.39 737.355 1464.31 Q736.568 1466.2 734.461 1468.8 Q733.882 1469.47 730.781 1472.69 Q727.679 1475.88 722.031 1481.64 Z\" fill=\"#000000\" fill-rule=\"evenodd\" fill-opacity=\"1\" /><path clip-path=\"url(#clip760)\" d=\"M1177.53 1455.09 L1165.73 1473.54 L1177.53 1473.54 L1177.53 1455.09 M1176.31 1451.02 L1182.19 1451.02 L1182.19 1473.54 L1187.12 1473.54 L1187.12 1477.43 L1182.19 1477.43 L1182.19 1485.58 L1177.53 1485.58 L1177.53 1477.43 L1161.93 1477.43 L1161.93 1472.92 L1176.31 1451.02 Z\" fill=\"#000000\" fill-rule=\"evenodd\" fill-opacity=\"1\" /><path clip-path=\"url(#clip760)\" d=\"M1622.08 1466.44 Q1618.93 1466.44 1617.08 1468.59 Q1615.25 1470.74 1615.25 1474.49 Q1615.25 1478.22 1617.08 1480.39 Q1618.93 1482.55 1622.08 1482.55 Q1625.22 1482.55 1627.05 1480.39 Q1628.9 1478.22 1628.9 1474.49 Q1628.9 1470.74 1627.05 1468.59 Q1625.22 1466.44 1622.08 1466.44 M1631.36 1451.78 L1631.36 1456.04 Q1629.6 1455.21 1627.79 1454.77 Q1626.01 1454.33 1624.25 1454.33 Q1619.62 1454.33 1617.17 1457.45 Q1614.74 1460.58 1614.39 1466.9 Q1615.76 1464.89 1617.82 1463.82 Q1619.88 1462.73 1622.35 1462.73 Q1627.56 1462.73 1630.57 1465.9 Q1633.6 1469.05 1633.6 1474.49 Q1633.6 1479.82 1630.46 1483.03 Q1627.31 1486.25 1622.08 1486.25 Q1616.08 1486.25 1612.91 1481.67 Q1609.74 1477.06 1609.74 1468.33 Q1609.74 1460.14 1613.63 1455.28 Q1617.52 1450.39 1624.07 1450.39 Q1625.83 1450.39 1627.61 1450.74 Q1629.41 1451.09 1631.36 1451.78 Z\" fill=\"#000000\" fill-rule=\"evenodd\" fill-opacity=\"1\" /><path clip-path=\"url(#clip760)\" d=\"M2068.82 1469.17 Q2065.48 1469.17 2063.56 1470.95 Q2061.67 1472.73 2061.67 1475.86 Q2061.67 1478.98 2063.56 1480.77 Q2065.48 1482.55 2068.82 1482.55 Q2072.15 1482.55 2074.07 1480.77 Q2075.99 1478.96 2075.99 1475.86 Q2075.99 1472.73 2074.07 1470.95 Q2072.17 1469.17 2068.82 1469.17 M2064.14 1467.18 Q2061.13 1466.44 2059.44 1464.38 Q2057.78 1462.32 2057.78 1459.35 Q2057.78 1455.21 2060.72 1452.8 Q2063.68 1450.39 2068.82 1450.39 Q2073.98 1450.39 2076.92 1452.8 Q2079.86 1455.21 2079.86 1459.35 Q2079.86 1462.32 2078.17 1464.38 Q2076.5 1466.44 2073.52 1467.18 Q2076.9 1467.96 2078.77 1470.26 Q2080.67 1472.55 2080.67 1475.86 Q2080.67 1480.88 2077.59 1483.57 Q2074.54 1486.25 2068.82 1486.25 Q2063.1 1486.25 2060.02 1483.57 Q2056.97 1480.88 2056.97 1475.86 Q2056.97 1472.55 2058.86 1470.26 Q2060.76 1467.96 2064.14 1467.18 M2062.43 1459.79 Q2062.43 1462.48 2064.1 1463.98 Q2065.79 1465.49 2068.82 1465.49 Q2071.83 1465.49 2073.52 1463.98 Q2075.23 1462.48 2075.23 1459.79 Q2075.23 1457.11 2073.52 1455.6 Q2071.83 1454.1 2068.82 1454.1 Q2065.79 1454.1 2064.1 1455.6 Q2062.43 1457.11 2062.43 1459.79 Z\" fill=\"#000000\" fill-rule=\"evenodd\" fill-opacity=\"1\" /><path clip-path=\"url(#clip760)\" d=\"M1108.98 1522.08 L1108.98 1528.35 Q1105.32 1526.6 1102.07 1525.74 Q1098.83 1524.88 1095.8 1524.88 Q1090.55 1524.88 1087.69 1526.92 Q1084.85 1528.96 1084.85 1532.71 Q1084.85 1535.87 1086.73 1537.49 Q1088.64 1539.08 1093.92 1540.07 L1097.81 1540.86 Q1105 1542.23 1108.41 1545.7 Q1111.84 1549.14 1111.84 1554.93 Q1111.84 1561.84 1107.2 1565.4 Q1102.58 1568.97 1093.64 1568.97 Q1090.26 1568.97 1086.44 1568.2 Q1082.66 1567.44 1078.58 1565.94 L1078.58 1559.32 Q1082.5 1561.52 1086.25 1562.63 Q1090.01 1563.75 1093.64 1563.75 Q1099.14 1563.75 1102.14 1561.58 Q1105.13 1559.42 1105.13 1555.41 Q1105.13 1551.91 1102.96 1549.93 Q1100.83 1547.96 1095.93 1546.97 L1092.01 1546.21 Q1084.82 1544.78 1081.61 1541.72 Q1078.39 1538.67 1078.39 1533.22 Q1078.39 1526.92 1082.82 1523.29 Q1087.27 1519.66 1095.07 1519.66 Q1098.41 1519.66 1101.88 1520.27 Q1105.35 1520.87 1108.98 1522.08 Z\" fill=\"#000000\" fill-rule=\"evenodd\" fill-opacity=\"1\" /><path clip-path=\"url(#clip760)\" d=\"M1127.41 1522.27 L1127.41 1532.4 L1139.47 1532.4 L1139.47 1536.95 L1127.41 1536.95 L1127.41 1556.3 Q1127.41 1560.66 1128.58 1561.9 Q1129.79 1563.14 1133.45 1563.14 L1139.47 1563.14 L1139.47 1568.04 L1133.45 1568.04 Q1126.68 1568.04 1124.1 1565.53 Q1121.52 1562.98 1121.52 1556.3 L1121.52 1536.95 L1117.22 1536.95 L1117.22 1532.4 L1121.52 1532.4 L1121.52 1522.27 L1127.41 1522.27 Z\" fill=\"#000000\" fill-rule=\"evenodd\" fill-opacity=\"1\" /><path clip-path=\"url(#clip760)\" d=\"M1163.37 1550.12 Q1156.28 1550.12 1153.54 1551.75 Q1150.8 1553.37 1150.8 1557.29 Q1150.8 1560.4 1152.84 1562.25 Q1154.91 1564.07 1158.44 1564.07 Q1163.31 1564.07 1166.24 1560.63 Q1169.2 1557.16 1169.2 1551.43 L1169.2 1550.12 L1163.37 1550.12 M1175.05 1547.71 L1175.05 1568.04 L1169.2 1568.04 L1169.2 1562.63 Q1167.19 1565.88 1164.2 1567.44 Q1161.21 1568.97 1156.88 1568.97 Q1151.41 1568.97 1148.16 1565.91 Q1144.94 1562.82 1144.94 1557.67 Q1144.94 1551.65 1148.96 1548.6 Q1153 1545.54 1160.99 1545.54 L1169.2 1545.54 L1169.2 1544.97 Q1169.2 1540.93 1166.52 1538.73 Q1163.88 1536.5 1159.08 1536.5 Q1156.02 1536.5 1153.12 1537.23 Q1150.23 1537.97 1147.55 1539.43 L1147.55 1534.02 Q1150.77 1532.78 1153.79 1532.17 Q1156.82 1531.54 1159.68 1531.54 Q1167.42 1531.54 1171.24 1535.55 Q1175.05 1539.56 1175.05 1547.71 Z\" fill=\"#000000\" fill-rule=\"evenodd\" fill-opacity=\"1\" /><path clip-path=\"url(#clip760)\" d=\"M1210.58 1549.81 Q1210.58 1543.44 1207.93 1539.94 Q1205.32 1536.44 1200.58 1536.44 Q1195.87 1536.44 1193.23 1539.94 Q1190.62 1543.44 1190.62 1549.81 Q1190.62 1556.14 1193.23 1559.64 Q1195.87 1563.14 1200.58 1563.14 Q1205.32 1563.14 1207.93 1559.64 Q1210.58 1556.14 1210.58 1549.81 M1216.43 1563.62 Q1216.43 1572.72 1212.39 1577.15 Q1208.35 1581.6 1200.01 1581.6 Q1196.92 1581.6 1194.18 1581.13 Q1191.45 1580.68 1188.87 1579.72 L1188.87 1574.03 Q1191.45 1575.43 1193.96 1576.1 Q1196.48 1576.76 1199.08 1576.76 Q1204.85 1576.76 1207.71 1573.74 Q1210.58 1570.75 1210.58 1564.67 L1210.58 1561.77 Q1208.76 1564.92 1205.93 1566.48 Q1203.1 1568.04 1199.15 1568.04 Q1192.59 1568.04 1188.58 1563.05 Q1184.57 1558.05 1184.57 1549.81 Q1184.57 1541.53 1188.58 1536.53 Q1192.59 1531.54 1199.15 1531.54 Q1203.1 1531.54 1205.93 1533.1 Q1208.76 1534.66 1210.58 1537.81 L1210.58 1532.4 L1216.43 1532.4 L1216.43 1563.62 Z\" fill=\"#000000\" fill-rule=\"evenodd\" fill-opacity=\"1\" /><path clip-path=\"url(#clip760)\" d=\"M1258.99 1548.76 L1258.99 1551.62 L1232.06 1551.62 Q1232.44 1557.67 1235.69 1560.85 Q1238.97 1564 1244.79 1564 Q1248.16 1564 1251.32 1563.17 Q1254.5 1562.35 1257.62 1560.69 L1257.62 1566.23 Q1254.47 1567.57 1251.16 1568.27 Q1247.85 1568.97 1244.44 1568.97 Q1235.91 1568.97 1230.91 1564 Q1225.95 1559.04 1225.95 1550.57 Q1225.95 1541.82 1230.66 1536.69 Q1235.4 1531.54 1243.42 1531.54 Q1250.62 1531.54 1254.78 1536.18 Q1258.99 1540.8 1258.99 1548.76 M1253.13 1547.04 Q1253.07 1542.23 1250.42 1539.37 Q1247.81 1536.5 1243.49 1536.5 Q1238.58 1536.5 1235.62 1539.27 Q1232.7 1542.04 1232.25 1547.07 L1253.13 1547.04 Z\" fill=\"#000000\" fill-rule=\"evenodd\" fill-opacity=\"1\" /><path clip-path=\"url(#clip760)\" d=\"M1289.32 1532.4 L1295.18 1532.4 L1295.18 1568.04 L1289.32 1568.04 L1289.32 1532.4 M1289.32 1518.52 L1295.18 1518.52 L1295.18 1525.93 L1289.32 1525.93 L1289.32 1518.52 Z\" fill=\"#000000\" fill-rule=\"evenodd\" fill-opacity=\"1\" /><path clip-path=\"url(#clip760)\" d=\"M1337.06 1546.53 L1337.06 1568.04 L1331.21 1568.04 L1331.21 1546.72 Q1331.21 1541.66 1329.23 1539.14 Q1327.26 1536.63 1323.31 1536.63 Q1318.57 1536.63 1315.83 1539.65 Q1313.09 1542.68 1313.09 1547.9 L1313.09 1568.04 L1307.21 1568.04 L1307.21 1532.4 L1313.09 1532.4 L1313.09 1537.93 Q1315.2 1534.72 1318.03 1533.13 Q1320.89 1531.54 1324.62 1531.54 Q1330.76 1531.54 1333.91 1535.36 Q1337.06 1539.14 1337.06 1546.53 Z\" fill=\"#000000\" fill-rule=\"evenodd\" fill-opacity=\"1\" /><path clip-path=\"url(#clip760)\" d=\"M1372.2 1537.81 L1372.2 1518.52 L1378.06 1518.52 L1378.06 1568.04 L1372.2 1568.04 L1372.2 1562.7 Q1370.35 1565.88 1367.52 1567.44 Q1364.72 1568.97 1360.77 1568.97 Q1354.31 1568.97 1350.24 1563.81 Q1346.2 1558.65 1346.2 1550.25 Q1346.2 1541.85 1350.24 1536.69 Q1354.31 1531.54 1360.77 1531.54 Q1364.72 1531.54 1367.52 1533.1 Q1370.35 1534.62 1372.2 1537.81 M1352.24 1550.25 Q1352.24 1556.71 1354.89 1560.4 Q1357.56 1564.07 1362.21 1564.07 Q1366.85 1564.07 1369.53 1560.4 Q1372.2 1556.71 1372.2 1550.25 Q1372.2 1543.79 1369.53 1540.13 Q1366.85 1536.44 1362.21 1536.44 Q1357.56 1536.44 1354.89 1540.13 Q1352.24 1543.79 1352.24 1550.25 Z\" fill=\"#000000\" fill-rule=\"evenodd\" fill-opacity=\"1\" /><path clip-path=\"url(#clip760)\" d=\"M1420.61 1548.76 L1420.61 1551.62 L1393.68 1551.62 Q1394.07 1557.67 1397.31 1560.85 Q1400.59 1564 1406.42 1564 Q1409.79 1564 1412.94 1563.17 Q1416.12 1562.35 1419.24 1560.69 L1419.24 1566.23 Q1416.09 1567.57 1412.78 1568.27 Q1409.47 1568.97 1406.07 1568.97 Q1397.54 1568.97 1392.54 1564 Q1387.57 1559.04 1387.57 1550.57 Q1387.57 1541.82 1392.28 1536.69 Q1397.03 1531.54 1405.05 1531.54 Q1412.24 1531.54 1416.41 1536.18 Q1420.61 1540.8 1420.61 1548.76 M1414.76 1547.04 Q1414.69 1542.23 1412.05 1539.37 Q1409.44 1536.5 1405.11 1536.5 Q1400.21 1536.5 1397.25 1539.27 Q1394.32 1542.04 1393.88 1547.07 L1414.76 1547.04 Z\" fill=\"#000000\" fill-rule=\"evenodd\" fill-opacity=\"1\" /><path clip-path=\"url(#clip760)\" d=\"M1458.71 1532.4 L1445.82 1549.74 L1459.38 1568.04 L1452.47 1568.04 L1442.1 1554.04 L1431.72 1568.04 L1424.81 1568.04 L1438.66 1549.39 L1425.99 1532.4 L1432.9 1532.4 L1442.35 1545.1 L1451.8 1532.4 L1458.71 1532.4 Z\" fill=\"#000000\" fill-rule=\"evenodd\" fill-opacity=\"1\" /><path clip-path=\"url(#clip760)\" d=\"M1488.37 1518.52 L1494.23 1518.52 L1494.23 1568.04 L1488.37 1568.04 L1488.37 1518.52 Z\" fill=\"#000000\" fill-rule=\"evenodd\" fill-opacity=\"1\" /><polyline clip-path=\"url(#clip762)\" style=\"stroke:#000000; stroke-linecap:round; stroke-linejoin:round; stroke-width:2; stroke-opacity:0.1; fill:none\" points=\"\n",
       "  219.866,1384.24 2352.76,1384.24 \n",
       "  \"/>\n",
       "<polyline clip-path=\"url(#clip762)\" style=\"stroke:#000000; stroke-linecap:round; stroke-linejoin:round; stroke-width:2; stroke-opacity:0.1; fill:none\" points=\"\n",
       "  219.866,1059.64 2352.76,1059.64 \n",
       "  \"/>\n",
       "<polyline clip-path=\"url(#clip762)\" style=\"stroke:#000000; stroke-linecap:round; stroke-linejoin:round; stroke-width:2; stroke-opacity:0.1; fill:none\" points=\"\n",
       "  219.866,735.047 2352.76,735.047 \n",
       "  \"/>\n",
       "<polyline clip-path=\"url(#clip762)\" style=\"stroke:#000000; stroke-linecap:round; stroke-linejoin:round; stroke-width:2; stroke-opacity:0.1; fill:none\" points=\"\n",
       "  219.866,410.452 2352.76,410.452 \n",
       "  \"/>\n",
       "<polyline clip-path=\"url(#clip762)\" style=\"stroke:#000000; stroke-linecap:round; stroke-linejoin:round; stroke-width:2; stroke-opacity:0.1; fill:none\" points=\"\n",
       "  219.866,85.8559 2352.76,85.8559 \n",
       "  \"/>\n",
       "<polyline clip-path=\"url(#clip760)\" style=\"stroke:#000000; stroke-linecap:round; stroke-linejoin:round; stroke-width:4; stroke-opacity:1; fill:none\" points=\"\n",
       "  219.866,1423.18 219.866,47.2441 \n",
       "  \"/>\n",
       "<polyline clip-path=\"url(#clip760)\" style=\"stroke:#000000; stroke-linecap:round; stroke-linejoin:round; stroke-width:4; stroke-opacity:1; fill:none\" points=\"\n",
       "  219.866,1384.24 238.764,1384.24 \n",
       "  \"/>\n",
       "<polyline clip-path=\"url(#clip760)\" style=\"stroke:#000000; stroke-linecap:round; stroke-linejoin:round; stroke-width:4; stroke-opacity:1; fill:none\" points=\"\n",
       "  219.866,1059.64 238.764,1059.64 \n",
       "  \"/>\n",
       "<polyline clip-path=\"url(#clip760)\" style=\"stroke:#000000; stroke-linecap:round; stroke-linejoin:round; stroke-width:4; stroke-opacity:1; fill:none\" points=\"\n",
       "  219.866,735.047 238.764,735.047 \n",
       "  \"/>\n",
       "<polyline clip-path=\"url(#clip760)\" style=\"stroke:#000000; stroke-linecap:round; stroke-linejoin:round; stroke-width:4; stroke-opacity:1; fill:none\" points=\"\n",
       "  219.866,410.452 238.764,410.452 \n",
       "  \"/>\n",
       "<polyline clip-path=\"url(#clip760)\" style=\"stroke:#000000; stroke-linecap:round; stroke-linejoin:round; stroke-width:4; stroke-opacity:1; fill:none\" points=\"\n",
       "  219.866,85.8559 238.764,85.8559 \n",
       "  \"/>\n",
       "<path clip-path=\"url(#clip760)\" d=\"M128.288 1370.04 Q124.677 1370.04 122.848 1373.6 Q121.043 1377.14 121.043 1384.27 Q121.043 1391.38 122.848 1394.94 Q124.677 1398.49 128.288 1398.49 Q131.922 1398.49 133.728 1394.94 Q135.556 1391.38 135.556 1384.27 Q135.556 1377.14 133.728 1373.6 Q131.922 1370.04 128.288 1370.04 M128.288 1366.33 Q134.098 1366.33 137.154 1370.94 Q140.232 1375.52 140.232 1384.27 Q140.232 1393 137.154 1397.61 Q134.098 1402.19 128.288 1402.19 Q122.478 1402.19 119.399 1397.61 Q116.343 1393 116.343 1384.27 Q116.343 1375.52 119.399 1370.94 Q122.478 1366.33 128.288 1366.33 Z\" fill=\"#000000\" fill-rule=\"evenodd\" fill-opacity=\"1\" /><path clip-path=\"url(#clip760)\" d=\"M148.45 1395.64 L153.334 1395.64 L153.334 1401.52 L148.45 1401.52 L148.45 1395.64 Z\" fill=\"#000000\" fill-rule=\"evenodd\" fill-opacity=\"1\" /><path clip-path=\"url(#clip760)\" d=\"M167.547 1397.58 L183.866 1397.58 L183.866 1401.52 L161.922 1401.52 L161.922 1397.58 Q164.584 1394.83 169.167 1390.2 Q173.774 1385.55 174.954 1384.2 Q177.2 1381.68 178.079 1379.94 Q178.982 1378.19 178.982 1376.5 Q178.982 1373.74 177.038 1372 Q175.116 1370.27 172.014 1370.27 Q169.815 1370.27 167.362 1371.03 Q164.931 1371.8 162.153 1373.35 L162.153 1368.62 Q164.977 1367.49 167.431 1366.91 Q169.885 1366.33 171.922 1366.33 Q177.292 1366.33 180.487 1369.02 Q183.681 1371.7 183.681 1376.19 Q183.681 1378.32 182.871 1380.25 Q182.084 1382.14 179.977 1384.74 Q179.399 1385.41 176.297 1388.62 Q173.195 1391.82 167.547 1397.58 Z\" fill=\"#000000\" fill-rule=\"evenodd\" fill-opacity=\"1\" /><path clip-path=\"url(#clip760)\" d=\"M126.205 1045.44 Q122.593 1045.44 120.765 1049.01 Q118.959 1052.55 118.959 1059.68 Q118.959 1066.78 120.765 1070.35 Q122.593 1073.89 126.205 1073.89 Q129.839 1073.89 131.644 1070.35 Q133.473 1066.78 133.473 1059.68 Q133.473 1052.55 131.644 1049.01 Q129.839 1045.44 126.205 1045.44 M126.205 1041.74 Q132.015 1041.74 135.07 1046.34 Q138.149 1050.93 138.149 1059.68 Q138.149 1068.4 135.07 1073.01 Q132.015 1077.59 126.205 1077.59 Q120.394 1077.59 117.316 1073.01 Q114.26 1068.4 114.26 1059.68 Q114.26 1050.93 117.316 1046.34 Q120.394 1041.74 126.205 1041.74 Z\" fill=\"#000000\" fill-rule=\"evenodd\" fill-opacity=\"1\" /><path clip-path=\"url(#clip760)\" d=\"M146.366 1071.04 L151.251 1071.04 L151.251 1076.92 L146.366 1076.92 L146.366 1071.04 Z\" fill=\"#000000\" fill-rule=\"evenodd\" fill-opacity=\"1\" /><path clip-path=\"url(#clip760)\" d=\"M174.283 1046.44 L162.477 1064.89 L174.283 1064.89 L174.283 1046.44 M173.056 1042.36 L178.936 1042.36 L178.936 1064.89 L183.866 1064.89 L183.866 1068.77 L178.936 1068.77 L178.936 1076.92 L174.283 1076.92 L174.283 1068.77 L158.681 1068.77 L158.681 1064.26 L173.056 1042.36 Z\" fill=\"#000000\" fill-rule=\"evenodd\" fill-opacity=\"1\" /><path clip-path=\"url(#clip760)\" d=\"M126.529 720.846 Q122.918 720.846 121.089 724.411 Q119.283 727.952 119.283 735.082 Q119.283 742.188 121.089 745.753 Q122.918 749.295 126.529 749.295 Q130.163 749.295 131.968 745.753 Q133.797 742.188 133.797 735.082 Q133.797 727.952 131.968 724.411 Q130.163 720.846 126.529 720.846 M126.529 717.142 Q132.339 717.142 135.394 721.749 Q138.473 726.332 138.473 735.082 Q138.473 743.809 135.394 748.415 Q132.339 752.998 126.529 752.998 Q120.718 752.998 117.64 748.415 Q114.584 743.809 114.584 735.082 Q114.584 726.332 117.64 721.749 Q120.718 717.142 126.529 717.142 Z\" fill=\"#000000\" fill-rule=\"evenodd\" fill-opacity=\"1\" /><path clip-path=\"url(#clip760)\" d=\"M146.691 746.447 L151.575 746.447 L151.575 752.327 L146.691 752.327 L146.691 746.447 Z\" fill=\"#000000\" fill-rule=\"evenodd\" fill-opacity=\"1\" /><path clip-path=\"url(#clip760)\" d=\"M172.339 733.184 Q169.19 733.184 167.339 735.336 Q165.51 737.489 165.51 741.239 Q165.51 744.966 167.339 747.142 Q169.19 749.295 172.339 749.295 Q175.487 749.295 177.315 747.142 Q179.167 744.966 179.167 741.239 Q179.167 737.489 177.315 735.336 Q175.487 733.184 172.339 733.184 M181.621 718.531 L181.621 722.79 Q179.862 721.957 178.056 721.517 Q176.274 721.077 174.514 721.077 Q169.885 721.077 167.431 724.202 Q165.001 727.327 164.653 733.647 Q166.019 731.633 168.079 730.568 Q170.139 729.48 172.616 729.48 Q177.825 729.48 180.834 732.651 Q183.866 735.799 183.866 741.239 Q183.866 746.563 180.718 749.781 Q177.57 752.998 172.339 752.998 Q166.343 752.998 163.172 748.415 Q160.001 743.809 160.001 735.082 Q160.001 726.887 163.89 722.026 Q167.778 717.142 174.329 717.142 Q176.089 717.142 177.871 717.489 Q179.676 717.837 181.621 718.531 Z\" fill=\"#000000\" fill-rule=\"evenodd\" fill-opacity=\"1\" /><path clip-path=\"url(#clip760)\" d=\"M126.783 396.25 Q123.172 396.25 121.343 399.815 Q119.538 403.357 119.538 410.486 Q119.538 417.593 121.343 421.157 Q123.172 424.699 126.783 424.699 Q130.417 424.699 132.223 421.157 Q134.052 417.593 134.052 410.486 Q134.052 403.357 132.223 399.815 Q130.417 396.25 126.783 396.25 M126.783 392.547 Q132.593 392.547 135.649 397.153 Q138.728 401.736 138.728 410.486 Q138.728 419.213 135.649 423.819 Q132.593 428.403 126.783 428.403 Q120.973 428.403 117.894 423.819 Q114.839 419.213 114.839 410.486 Q114.839 401.736 117.894 397.153 Q120.973 392.547 126.783 392.547 Z\" fill=\"#000000\" fill-rule=\"evenodd\" fill-opacity=\"1\" /><path clip-path=\"url(#clip760)\" d=\"M146.945 421.852 L151.829 421.852 L151.829 427.732 L146.945 427.732 L146.945 421.852 Z\" fill=\"#000000\" fill-rule=\"evenodd\" fill-opacity=\"1\" /><path clip-path=\"url(#clip760)\" d=\"M172.014 411.32 Q168.681 411.32 166.76 413.102 Q164.862 414.884 164.862 418.009 Q164.862 421.134 166.76 422.917 Q168.681 424.699 172.014 424.699 Q175.348 424.699 177.269 422.917 Q179.19 421.111 179.19 418.009 Q179.19 414.884 177.269 413.102 Q175.371 411.32 172.014 411.32 M167.339 409.329 Q164.329 408.588 162.64 406.528 Q160.973 404.468 160.973 401.505 Q160.973 397.361 163.913 394.954 Q166.876 392.547 172.014 392.547 Q177.176 392.547 180.116 394.954 Q183.056 397.361 183.056 401.505 Q183.056 404.468 181.366 406.528 Q179.7 408.588 176.714 409.329 Q180.093 410.116 181.968 412.408 Q183.866 414.699 183.866 418.009 Q183.866 423.032 180.788 425.718 Q177.732 428.403 172.014 428.403 Q166.297 428.403 163.218 425.718 Q160.163 423.032 160.163 418.009 Q160.163 414.699 162.061 412.408 Q163.959 410.116 167.339 409.329 M165.626 401.945 Q165.626 404.63 167.292 406.134 Q168.982 407.639 172.014 407.639 Q175.024 407.639 176.714 406.134 Q178.426 404.63 178.426 401.945 Q178.426 399.259 176.714 397.755 Q175.024 396.25 172.014 396.25 Q168.982 396.25 167.292 397.755 Q165.626 399.259 165.626 401.945 Z\" fill=\"#000000\" fill-rule=\"evenodd\" fill-opacity=\"1\" /><path clip-path=\"url(#clip760)\" d=\"M117.501 99.2008 L125.14 99.2008 L125.14 72.8352 L116.83 74.5018 L116.83 70.2426 L125.093 68.5759 L129.769 68.5759 L129.769 99.2008 L137.408 99.2008 L137.408 103.136 L117.501 103.136 L117.501 99.2008 Z\" fill=\"#000000\" fill-rule=\"evenodd\" fill-opacity=\"1\" /><path clip-path=\"url(#clip760)\" d=\"M146.853 97.2563 L151.737 97.2563 L151.737 103.136 L146.853 103.136 L146.853 97.2563 Z\" fill=\"#000000\" fill-rule=\"evenodd\" fill-opacity=\"1\" /><path clip-path=\"url(#clip760)\" d=\"M171.922 71.6546 Q168.311 71.6546 166.482 75.2194 Q164.677 78.761 164.677 85.8906 Q164.677 92.9971 166.482 96.5619 Q168.311 100.104 171.922 100.104 Q175.556 100.104 177.362 96.5619 Q179.19 92.9971 179.19 85.8906 Q179.19 78.761 177.362 75.2194 Q175.556 71.6546 171.922 71.6546 M171.922 67.9509 Q177.732 67.9509 180.788 72.5574 Q183.866 77.1407 183.866 85.8906 Q183.866 94.6174 180.788 99.2239 Q177.732 103.807 171.922 103.807 Q166.112 103.807 163.033 99.2239 Q159.978 94.6174 159.978 85.8906 Q159.978 77.1407 163.033 72.5574 Q166.112 67.9509 171.922 67.9509 Z\" fill=\"#000000\" fill-rule=\"evenodd\" fill-opacity=\"1\" /><path clip-path=\"url(#clip760)\" d=\"M16.4842 1334.37 L16.4842 1294.17 L21.895 1294.17 L21.895 1311.04 L64.0042 1311.04 L64.0042 1317.5 L21.895 1317.5 L21.895 1334.37 L16.4842 1334.37 Z\" fill=\"#000000\" fill-rule=\"evenodd\" fill-opacity=\"1\" /><path clip-path=\"url(#clip760)\" d=\"M32.4621 1285.48 Q32.4621 1290.19 36.1542 1292.93 Q39.8145 1295.66 46.212 1295.66 Q52.6095 1295.66 56.3017 1292.96 Q59.9619 1290.22 59.9619 1285.48 Q59.9619 1280.8 56.2698 1278.06 Q52.5777 1275.33 46.212 1275.33 Q39.8781 1275.33 36.186 1278.06 Q32.4621 1280.8 32.4621 1285.48 M27.4968 1285.48 Q27.4968 1277.84 32.4621 1273.48 Q37.4273 1269.12 46.212 1269.12 Q54.9649 1269.12 59.9619 1273.48 Q64.9272 1277.84 64.9272 1285.48 Q64.9272 1293.15 59.9619 1297.51 Q54.9649 1301.84 46.212 1301.84 Q37.4273 1301.84 32.4621 1297.51 Q27.4968 1293.15 27.4968 1285.48 Z\" fill=\"#000000\" fill-rule=\"evenodd\" fill-opacity=\"1\" /><path clip-path=\"url(#clip760)\" d=\"M58.657 1253.75 L77.5631 1253.75 L77.5631 1259.63 L28.3562 1259.63 L28.3562 1253.75 L33.7671 1253.75 Q30.5842 1251.9 29.0564 1249.1 Q27.4968 1246.27 27.4968 1242.35 Q27.4968 1235.86 32.6531 1231.82 Q37.8093 1227.74 46.212 1227.74 Q54.6147 1227.74 59.771 1231.82 Q64.9272 1235.86 64.9272 1242.35 Q64.9272 1246.27 63.3994 1249.1 Q61.8398 1251.9 58.657 1253.75 M46.212 1233.82 Q39.7508 1233.82 36.0905 1236.5 Q32.3984 1239.14 32.3984 1243.78 Q32.3984 1248.43 36.0905 1251.1 Q39.7508 1253.75 46.212 1253.75 Q52.6732 1253.75 56.3653 1251.1 Q60.0256 1248.43 60.0256 1243.78 Q60.0256 1239.14 56.3653 1236.5 Q52.6732 1233.82 46.212 1233.82 Z\" fill=\"#000000\" fill-rule=\"evenodd\" fill-opacity=\"1\" /><path clip-path=\"url(#clip760)\" d=\"M29.4065 1195.31 L34.9447 1195.31 Q33.6716 1197.79 33.035 1200.47 Q32.3984 1203.14 32.3984 1206 Q32.3984 1210.36 33.7352 1212.56 Q35.072 1214.72 37.7456 1214.72 Q39.7826 1214.72 40.9603 1213.17 Q42.1061 1211.61 43.1565 1206.89 L43.6021 1204.89 Q44.9389 1198.65 47.3897 1196.04 Q49.8086 1193.4 54.1691 1193.4 Q59.1344 1193.4 62.0308 1197.35 Q64.9272 1201.26 64.9272 1208.14 Q64.9272 1211 64.3543 1214.12 Q63.8132 1217.21 62.6992 1220.64 L56.6518 1220.64 Q58.3387 1217.4 59.198 1214.25 Q60.0256 1211.1 60.0256 1208.01 Q60.0256 1203.87 58.6251 1201.64 Q57.1929 1199.42 54.6147 1199.42 Q52.2276 1199.42 50.9545 1201.04 Q49.6813 1202.63 48.5037 1208.07 L48.0262 1210.11 Q46.8804 1215.55 44.5251 1217.97 Q42.138 1220.39 38.0002 1220.39 Q32.9713 1220.39 30.2341 1216.83 Q27.4968 1213.26 27.4968 1206.7 Q27.4968 1203.46 27.9743 1200.59 Q28.4517 1197.73 29.4065 1195.31 Z\" fill=\"#000000\" fill-rule=\"evenodd\" fill-opacity=\"1\" /><path clip-path=\"url(#clip760)\" d=\"M35.1993 1135.6 Q31.2526 1133.4 29.3747 1130.35 Q27.4968 1127.29 27.4968 1123.15 Q27.4968 1117.58 31.4117 1114.56 Q35.2948 1111.54 42.4881 1111.54 L64.0042 1111.54 L64.0042 1117.42 L42.679 1117.42 Q37.5546 1117.42 35.072 1119.24 Q32.5894 1121.05 32.5894 1124.78 Q32.5894 1129.33 35.6131 1131.97 Q38.6368 1134.61 43.8567 1134.61 L64.0042 1134.61 L64.0042 1140.5 L42.679 1140.5 Q37.5228 1140.5 35.072 1142.31 Q32.5894 1144.13 32.5894 1147.92 Q32.5894 1152.4 35.6449 1155.05 Q38.6686 1157.69 43.8567 1157.69 L64.0042 1157.69 L64.0042 1163.58 L28.3562 1163.58 L28.3562 1157.69 L33.8944 1157.69 Q30.616 1155.68 29.0564 1152.88 Q27.4968 1150.08 27.4968 1146.23 Q27.4968 1142.35 29.4702 1139.64 Q31.4436 1136.9 35.1993 1135.6 Z\" fill=\"#000000\" fill-rule=\"evenodd\" fill-opacity=\"1\" /><path clip-path=\"url(#clip760)\" d=\"M32.4621 1086.04 Q32.4621 1090.75 36.1542 1093.49 Q39.8145 1096.23 46.212 1096.23 Q52.6095 1096.23 56.3017 1093.52 Q59.9619 1090.78 59.9619 1086.04 Q59.9619 1081.36 56.2698 1078.63 Q52.5777 1075.89 46.212 1075.89 Q39.8781 1075.89 36.186 1078.63 Q32.4621 1081.36 32.4621 1086.04 M27.4968 1086.04 Q27.4968 1078.4 32.4621 1074.04 Q37.4273 1069.68 46.212 1069.68 Q54.9649 1069.68 59.9619 1074.04 Q64.9272 1078.4 64.9272 1086.04 Q64.9272 1093.71 59.9619 1098.07 Q54.9649 1102.4 46.212 1102.4 Q37.4273 1102.4 32.4621 1098.07 Q27.4968 1093.71 27.4968 1086.04 Z\" fill=\"#000000\" fill-rule=\"evenodd\" fill-opacity=\"1\" /><path clip-path=\"url(#clip760)\" d=\"M14.479 1059.97 L14.479 1054.12 L64.0042 1054.12 L64.0042 1059.97 L14.479 1059.97 Z\" fill=\"#000000\" fill-rule=\"evenodd\" fill-opacity=\"1\" /><path clip-path=\"url(#clip760)\" d=\"M44.7161 1011.37 L47.5806 1011.37 L47.5806 1038.3 Q53.6281 1037.92 56.8109 1034.67 Q59.9619 1031.39 59.9619 1025.57 Q59.9619 1022.19 59.1344 1019.04 Q58.3069 1015.86 56.6518 1012.74 L62.1899 1012.74 Q63.5267 1015.89 64.227 1019.2 Q64.9272 1022.51 64.9272 1025.92 Q64.9272 1034.45 59.9619 1039.45 Q54.9967 1044.41 46.5303 1044.41 Q37.7774 1044.41 32.6531 1039.7 Q27.4968 1034.96 27.4968 1026.94 Q27.4968 1019.74 32.1438 1015.57 Q36.7589 1011.37 44.7161 1011.37 M42.9973 1017.23 Q38.1912 1017.29 35.3266 1019.93 Q32.4621 1022.54 32.4621 1026.87 Q32.4621 1031.77 35.2312 1034.73 Q38.0002 1037.66 43.0292 1038.11 L42.9973 1017.23 Z\" fill=\"#000000\" fill-rule=\"evenodd\" fill-opacity=\"1\" /><path clip-path=\"url(#clip760)\" d=\"M14.479 962.993 L19.3487 962.993 L19.3487 968.595 Q19.3487 971.746 20.6219 972.987 Q21.895 974.197 25.2052 974.197 L28.3562 974.197 L28.3562 964.552 L32.9077 964.552 L32.9077 974.197 L64.0042 974.197 L64.0042 980.085 L32.9077 980.085 L32.9077 985.687 L28.3562 985.687 L28.3562 980.085 L25.8736 980.085 Q19.9216 980.085 17.2162 977.316 Q14.479 974.547 14.479 968.531 L14.479 962.993 Z\" fill=\"#000000\" fill-rule=\"evenodd\" fill-opacity=\"1\" /><path clip-path=\"url(#clip760)\" d=\"M33.8307 937.435 Q33.2578 938.421 33.0032 939.599 Q32.7167 940.745 32.7167 942.145 Q32.7167 947.11 35.9632 949.784 Q39.1779 952.426 45.2253 952.426 L64.0042 952.426 L64.0042 958.314 L28.3562 958.314 L28.3562 952.426 L33.8944 952.426 Q30.6479 950.58 29.0883 947.62 Q27.4968 944.66 27.4968 940.426 Q27.4968 939.822 27.5923 939.09 Q27.656 938.358 27.8151 937.466 L33.8307 937.435 Z\" fill=\"#000000\" fill-rule=\"evenodd\" fill-opacity=\"1\" /><path clip-path=\"url(#clip760)\" d=\"M46.0847 915.091 Q46.0847 922.189 47.7079 924.926 Q49.3312 927.663 53.2461 927.663 Q56.3653 927.663 58.2114 925.626 Q60.0256 923.557 60.0256 920.024 Q60.0256 915.155 56.5881 912.226 Q53.1188 909.266 47.3897 909.266 L46.0847 909.266 L46.0847 915.091 M43.6657 903.41 L64.0042 903.41 L64.0042 909.266 L58.5933 909.266 Q61.8398 911.271 63.3994 914.263 Q64.9272 917.255 64.9272 921.584 Q64.9272 927.058 61.8716 930.305 Q58.7843 933.52 53.6281 933.52 Q47.6125 933.52 44.5569 929.509 Q41.5014 925.467 41.5014 917.478 L41.5014 909.266 L40.9285 909.266 Q36.8862 909.266 34.6901 911.94 Q32.4621 914.582 32.4621 919.388 Q32.4621 922.443 33.1941 925.34 Q33.9262 928.236 35.3903 930.91 L29.9795 930.91 Q28.7381 927.695 28.1334 924.671 Q27.4968 921.648 27.4968 918.783 Q27.4968 911.049 31.5072 907.229 Q35.5176 903.41 43.6657 903.41 Z\" fill=\"#000000\" fill-rule=\"evenodd\" fill-opacity=\"1\" /><path clip-path=\"url(#clip760)\" d=\"M29.7248 865.693 L35.1993 865.693 Q33.8307 868.176 33.1623 870.69 Q32.4621 873.173 32.4621 875.719 Q32.4621 881.416 36.0905 884.567 Q39.6872 887.718 46.212 887.718 Q52.7369 887.718 56.3653 884.567 Q59.9619 881.416 59.9619 875.719 Q59.9619 873.173 59.2935 870.69 Q58.5933 868.176 57.2247 865.693 L62.6355 865.693 Q63.7814 868.144 64.3543 870.786 Q64.9272 873.396 64.9272 876.356 Q64.9272 884.408 59.8664 889.151 Q54.8057 893.893 46.212 893.893 Q37.491 893.893 32.4939 889.119 Q27.4968 884.313 27.4968 875.974 Q27.4968 873.268 28.0697 870.69 Q28.6108 868.112 29.7248 865.693 Z\" fill=\"#000000\" fill-rule=\"evenodd\" fill-opacity=\"1\" /><path clip-path=\"url(#clip760)\" d=\"M18.2347 849.715 L28.3562 849.715 L28.3562 837.652 L32.9077 837.652 L32.9077 849.715 L52.2594 849.715 Q56.6199 849.715 57.8613 848.537 Q59.1026 847.328 59.1026 843.668 L59.1026 837.652 L64.0042 837.652 L64.0042 843.668 Q64.0042 850.447 61.4897 853.025 Q58.9434 855.603 52.2594 855.603 L32.9077 855.603 L32.9077 859.9 L28.3562 859.9 L28.3562 855.603 L18.2347 855.603 L18.2347 849.715 Z\" fill=\"#000000\" fill-rule=\"evenodd\" fill-opacity=\"1\" /><path clip-path=\"url(#clip760)\" d=\"M28.3562 829.95 L28.3562 824.093 L64.0042 824.093 L64.0042 829.95 L28.3562 829.95 M14.479 829.95 L14.479 824.093 L21.895 824.093 L21.895 829.95 L14.479 829.95 Z\" fill=\"#000000\" fill-rule=\"evenodd\" fill-opacity=\"1\" /><path clip-path=\"url(#clip760)\" d=\"M32.4621 798.026 Q32.4621 802.736 36.1542 805.473 Q39.8145 808.211 46.212 808.211 Q52.6095 808.211 56.3017 805.505 Q59.9619 802.768 59.9619 798.026 Q59.9619 793.347 56.2698 790.61 Q52.5777 787.872 46.212 787.872 Q39.8781 787.872 36.186 790.61 Q32.4621 793.347 32.4621 798.026 M27.4968 798.026 Q27.4968 790.387 32.4621 786.026 Q37.4273 781.666 46.212 781.666 Q54.9649 781.666 59.9619 786.026 Q64.9272 790.387 64.9272 798.026 Q64.9272 805.696 59.9619 810.057 Q54.9649 814.385 46.212 814.385 Q37.4273 814.385 32.4621 810.057 Q27.4968 805.696 27.4968 798.026 Z\" fill=\"#000000\" fill-rule=\"evenodd\" fill-opacity=\"1\" /><path clip-path=\"url(#clip760)\" d=\"M42.4881 742.326 L64.0042 742.326 L64.0042 748.182 L42.679 748.182 Q37.6183 748.182 35.1038 750.155 Q32.5894 752.129 32.5894 756.076 Q32.5894 760.818 35.6131 763.555 Q38.6368 766.293 43.8567 766.293 L64.0042 766.293 L64.0042 772.181 L28.3562 772.181 L28.3562 766.293 L33.8944 766.293 Q30.6797 764.192 29.0883 761.359 Q27.4968 758.495 27.4968 754.771 Q27.4968 748.628 31.3163 745.477 Q35.1038 742.326 42.4881 742.326 Z\" fill=\"#000000\" fill-rule=\"evenodd\" fill-opacity=\"1\" /><path clip-path=\"url(#clip760)\" d=\"M28.3562 680.292 L45.7028 693.182 L64.0042 679.623 L64.0042 686.53 L49.9996 696.906 L64.0042 707.282 L64.0042 714.189 L45.3526 700.344 L28.3562 713.012 L28.3562 706.105 L41.0558 696.652 L28.3562 687.199 L28.3562 680.292 Z\" fill=\"#000000\" fill-rule=\"evenodd\" fill-opacity=\"1\" /><path clip-path=\"url(#clip760)\" d=\"M44.0477 673.608 L44.0477 669.916 L64.0042 669.916 L64.0042 673.608 L44.0477 673.608 M36.2815 673.608 L36.2815 669.916 L40.4192 669.916 L40.4192 673.608 L36.2815 673.608 Z\" fill=\"#000000\" fill-rule=\"evenodd\" fill-opacity=\"1\" /><path clip-path=\"url(#clip760)\" d=\"M14.5426 624.91 Q21.8632 629.175 29.0246 631.244 Q36.186 633.313 43.5384 633.313 Q50.8908 633.313 58.1159 631.244 Q65.3091 629.143 72.5979 624.91 L72.5979 630.003 Q65.1182 634.777 57.8931 637.164 Q50.668 639.519 43.5384 639.519 Q36.4406 639.519 29.2474 637.164 Q22.0542 634.809 14.5426 630.003 L14.5426 624.91 Z\" fill=\"#000000\" fill-rule=\"evenodd\" fill-opacity=\"1\" /><path clip-path=\"url(#clip760)\" d=\"M33.7671 590.09 L14.479 590.09 L14.479 584.233 L64.0042 584.233 L64.0042 590.09 L58.657 590.09 Q61.8398 591.936 63.3994 594.769 Q64.9272 597.569 64.9272 601.516 Q64.9272 607.977 59.771 612.051 Q54.6147 616.094 46.212 616.094 Q37.8093 616.094 32.6531 612.051 Q27.4968 607.977 27.4968 601.516 Q27.4968 597.569 29.0564 594.769 Q30.5842 591.936 33.7671 590.09 M46.212 610.046 Q52.6732 610.046 56.3653 607.404 Q60.0256 604.731 60.0256 600.084 Q60.0256 595.437 56.3653 592.763 Q52.6732 590.09 46.212 590.09 Q39.7508 590.09 36.0905 592.763 Q32.3984 595.437 32.3984 600.084 Q32.3984 604.731 36.0905 607.404 Q39.7508 610.046 46.212 610.046 Z\" fill=\"#000000\" fill-rule=\"evenodd\" fill-opacity=\"1\" /><path clip-path=\"url(#clip760)\" d=\"M28.3562 572.17 L28.3562 566.314 L64.0042 566.314 L64.0042 572.17 L28.3562 572.17 M14.479 572.17 L14.479 566.314 L21.895 566.314 L21.895 572.17 L14.479 572.17 Z\" fill=\"#000000\" fill-rule=\"evenodd\" fill-opacity=\"1\" /><path clip-path=\"url(#clip760)\" d=\"M35.1993 526.305 Q31.2526 524.109 29.3747 521.054 Q27.4968 517.998 27.4968 513.86 Q27.4968 508.29 31.4117 505.267 Q35.2948 502.243 42.4881 502.243 L64.0042 502.243 L64.0042 508.131 L42.679 508.131 Q37.5546 508.131 35.072 509.946 Q32.5894 511.76 32.5894 515.484 Q32.5894 520.035 35.6131 522.677 Q38.6368 525.319 43.8567 525.319 L64.0042 525.319 L64.0042 531.207 L42.679 531.207 Q37.5228 531.207 35.072 533.021 Q32.5894 534.835 32.5894 538.623 Q32.5894 543.111 35.6449 545.753 Q38.6686 548.394 43.8567 548.394 L64.0042 548.394 L64.0042 554.283 L28.3562 554.283 L28.3562 548.394 L33.8944 548.394 Q30.616 546.389 29.0564 543.588 Q27.4968 540.787 27.4968 536.936 Q27.4968 533.053 29.4702 530.348 Q31.4436 527.61 35.1993 526.305 Z\" fill=\"#000000\" fill-rule=\"evenodd\" fill-opacity=\"1\" /><path clip-path=\"url(#clip760)\" d=\"M44.7161 460.07 L47.5806 460.07 L47.5806 486.997 Q53.6281 486.615 56.8109 483.369 Q59.9619 480.09 59.9619 474.266 Q59.9619 470.892 59.1344 467.741 Q58.3069 464.558 56.6518 461.439 L62.1899 461.439 Q63.5267 464.59 64.227 467.9 Q64.9272 471.21 64.9272 474.616 Q64.9272 483.146 59.9619 488.143 Q54.9967 493.108 46.5303 493.108 Q37.7774 493.108 32.6531 488.398 Q27.4968 483.655 27.4968 475.634 Q27.4968 468.441 32.1438 464.272 Q36.7589 460.07 44.7161 460.07 M42.9973 465.927 Q38.1912 465.99 35.3266 468.632 Q32.4621 471.242 32.4621 475.571 Q32.4621 480.472 35.2312 483.432 Q38.0002 486.361 43.0292 486.806 L42.9973 465.927 Z\" fill=\"#000000\" fill-rule=\"evenodd\" fill-opacity=\"1\" /><path clip-path=\"url(#clip760)\" d=\"M42.4881 420.826 L64.0042 420.826 L64.0042 426.682 L42.679 426.682 Q37.6183 426.682 35.1038 428.655 Q32.5894 430.629 32.5894 434.576 Q32.5894 439.318 35.6131 442.055 Q38.6368 444.793 43.8567 444.793 L64.0042 444.793 L64.0042 450.681 L28.3562 450.681 L28.3562 444.793 L33.8944 444.793 Q30.6797 442.692 29.0883 439.859 Q27.4968 436.995 27.4968 433.271 Q27.4968 427.128 31.3163 423.977 Q35.1038 420.826 42.4881 420.826 Z\" fill=\"#000000\" fill-rule=\"evenodd\" fill-opacity=\"1\" /><path clip-path=\"url(#clip760)\" d=\"M29.4065 386.419 L34.9447 386.419 Q33.6716 388.902 33.035 391.575 Q32.3984 394.249 32.3984 397.113 Q32.3984 401.474 33.7352 403.67 Q35.072 405.834 37.7456 405.834 Q39.7826 405.834 40.9603 404.275 Q42.1061 402.715 43.1565 398.005 L43.6021 395.999 Q44.9389 389.761 47.3897 387.151 Q49.8086 384.509 54.1691 384.509 Q59.1344 384.509 62.0308 388.456 Q64.9272 392.371 64.9272 399.246 Q64.9272 402.11 64.3543 405.23 Q63.8132 408.317 62.6992 411.755 L56.6518 411.755 Q58.3387 408.508 59.198 405.357 Q60.0256 402.206 60.0256 399.119 Q60.0256 394.981 58.6251 392.753 Q57.1929 390.525 54.6147 390.525 Q52.2276 390.525 50.9545 392.148 Q49.6813 393.74 48.5037 399.182 L48.0262 401.219 Q46.8804 406.662 44.5251 409.081 Q42.138 411.5 38.0002 411.5 Q32.9713 411.5 30.2341 407.935 Q27.4968 404.37 27.4968 397.814 Q27.4968 394.567 27.9743 391.703 Q28.4517 388.838 29.4065 386.419 Z\" fill=\"#000000\" fill-rule=\"evenodd\" fill-opacity=\"1\" /><path clip-path=\"url(#clip760)\" d=\"M28.3562 375.184 L28.3562 369.327 L64.0042 369.327 L64.0042 375.184 L28.3562 375.184 M14.479 375.184 L14.479 369.327 L21.895 369.327 L21.895 375.184 L14.479 375.184 Z\" fill=\"#000000\" fill-rule=\"evenodd\" fill-opacity=\"1\" /><path clip-path=\"url(#clip760)\" d=\"M32.4621 343.259 Q32.4621 347.97 36.1542 350.707 Q39.8145 353.445 46.212 353.445 Q52.6095 353.445 56.3017 350.739 Q59.9619 348.002 59.9619 343.259 Q59.9619 338.581 56.2698 335.843 Q52.5777 333.106 46.212 333.106 Q39.8781 333.106 36.186 335.843 Q32.4621 338.581 32.4621 343.259 M27.4968 343.259 Q27.4968 335.621 32.4621 331.26 Q37.4273 326.9 46.212 326.9 Q54.9649 326.9 59.9619 331.26 Q64.9272 335.621 64.9272 343.259 Q64.9272 350.93 59.9619 355.291 Q54.9649 359.619 46.212 359.619 Q37.4273 359.619 32.4621 355.291 Q27.4968 350.93 27.4968 343.259 Z\" fill=\"#000000\" fill-rule=\"evenodd\" fill-opacity=\"1\" /><path clip-path=\"url(#clip760)\" d=\"M42.4881 287.56 L64.0042 287.56 L64.0042 293.416 L42.679 293.416 Q37.6183 293.416 35.1038 295.389 Q32.5894 297.363 32.5894 301.309 Q32.5894 306.052 35.6131 308.789 Q38.6368 311.526 43.8567 311.526 L64.0042 311.526 L64.0042 317.415 L28.3562 317.415 L28.3562 311.526 L33.8944 311.526 Q30.6797 309.426 29.0883 306.593 Q27.4968 303.728 27.4968 300.005 Q27.4968 293.862 31.3163 290.711 Q35.1038 287.56 42.4881 287.56 Z\" fill=\"#000000\" fill-rule=\"evenodd\" fill-opacity=\"1\" /><path clip-path=\"url(#clip760)\" d=\"M14.479 275.878 L14.479 270.022 L64.0042 270.022 L64.0042 275.878 L14.479 275.878 Z\" fill=\"#000000\" fill-rule=\"evenodd\" fill-opacity=\"1\" /><path clip-path=\"url(#clip760)\" d=\"M44.7161 227.276 L47.5806 227.276 L47.5806 254.203 Q53.6281 253.821 56.8109 250.575 Q59.9619 247.296 59.9619 241.472 Q59.9619 238.098 59.1344 234.947 Q58.3069 231.764 56.6518 228.645 L62.1899 228.645 Q63.5267 231.796 64.227 235.106 Q64.9272 238.416 64.9272 241.822 Q64.9272 250.352 59.9619 255.349 Q54.9967 260.314 46.5303 260.314 Q37.7774 260.314 32.6531 255.604 Q27.4968 250.861 27.4968 242.84 Q27.4968 235.647 32.1438 231.478 Q36.7589 227.276 44.7161 227.276 M42.9973 233.133 Q38.1912 233.196 35.3266 235.838 Q32.4621 238.448 32.4621 242.777 Q32.4621 247.678 35.2312 250.638 Q38.0002 253.567 43.0292 254.012 L42.9973 233.133 Z\" fill=\"#000000\" fill-rule=\"evenodd\" fill-opacity=\"1\" /><path clip-path=\"url(#clip760)\" d=\"M29.4065 194.939 L34.9447 194.939 Q33.6716 197.421 33.035 200.095 Q32.3984 202.768 32.3984 205.633 Q32.3984 209.993 33.7352 212.19 Q35.072 214.354 37.7456 214.354 Q39.7826 214.354 40.9603 212.794 Q42.1061 211.235 43.1565 206.524 L43.6021 204.519 Q44.9389 198.281 47.3897 195.671 Q49.8086 193.029 54.1691 193.029 Q59.1344 193.029 62.0308 196.976 Q64.9272 200.89 64.9272 207.765 Q64.9272 210.63 64.3543 213.749 Q63.8132 216.837 62.6992 220.274 L56.6518 220.274 Q58.3387 217.028 59.198 213.877 Q60.0256 210.725 60.0256 207.638 Q60.0256 203.5 58.6251 201.272 Q57.1929 199.044 54.6147 199.044 Q52.2276 199.044 50.9545 200.668 Q49.6813 202.259 48.5037 207.702 L48.0262 209.739 Q46.8804 215.181 44.5251 217.6 Q42.138 220.019 38.0002 220.019 Q32.9713 220.019 30.2341 216.455 Q27.4968 212.89 27.4968 206.333 Q27.4968 203.087 27.9743 200.222 Q28.4517 197.358 29.4065 194.939 Z\" fill=\"#000000\" fill-rule=\"evenodd\" fill-opacity=\"1\" /><path clip-path=\"url(#clip760)\" d=\"M29.4065 160.977 L34.9447 160.977 Q33.6716 163.46 33.035 166.134 Q32.3984 168.807 32.3984 171.672 Q32.3984 176.032 33.7352 178.229 Q35.072 180.393 37.7456 180.393 Q39.7826 180.393 40.9603 178.833 Q42.1061 177.274 43.1565 172.563 L43.6021 170.558 Q44.9389 164.319 47.3897 161.71 Q49.8086 159.068 54.1691 159.068 Q59.1344 159.068 62.0308 163.015 Q64.9272 166.929 64.9272 173.804 Q64.9272 176.669 64.3543 179.788 Q63.8132 182.876 62.6992 186.313 L56.6518 186.313 Q58.3387 183.066 59.198 179.915 Q60.0256 176.764 60.0256 173.677 Q60.0256 169.539 58.6251 167.311 Q57.1929 165.083 54.6147 165.083 Q52.2276 165.083 50.9545 166.707 Q49.6813 168.298 48.5037 173.741 L48.0262 175.778 Q46.8804 181.22 44.5251 183.639 Q42.138 186.058 38.0002 186.058 Q32.9713 186.058 30.2341 182.494 Q27.4968 178.929 27.4968 172.372 Q27.4968 169.126 27.9743 166.261 Q28.4517 163.396 29.4065 160.977 Z\" fill=\"#000000\" fill-rule=\"evenodd\" fill-opacity=\"1\" /><path clip-path=\"url(#clip760)\" d=\"M14.5426 150.665 L14.5426 145.572 Q22.0542 140.798 29.2474 138.443 Q36.4406 136.056 43.5384 136.056 Q50.668 136.056 57.8931 138.443 Q65.1182 140.798 72.5979 145.572 L72.5979 150.665 Q65.3091 146.432 58.1159 144.363 Q50.8908 142.262 43.5384 142.262 Q36.186 142.262 29.0246 144.363 Q21.8632 146.432 14.5426 150.665 Z\" fill=\"#000000\" fill-rule=\"evenodd\" fill-opacity=\"1\" /><circle clip-path=\"url(#clip762)\" cx=\"280.231\" cy=\"1384.24\" r=\"14.4\" fill=\"#000000\" fill-rule=\"evenodd\" fill-opacity=\"1\" stroke=\"none\"/>\n",
       "<circle clip-path=\"url(#clip762)\" cx=\"503.804\" cy=\"1013.27\" r=\"14.4\" fill=\"#000000\" fill-rule=\"evenodd\" fill-opacity=\"1\" stroke=\"none\"/>\n",
       "<circle clip-path=\"url(#clip762)\" cx=\"727.378\" cy=\"585.234\" r=\"14.4\" fill=\"#000000\" fill-rule=\"evenodd\" fill-opacity=\"1\" stroke=\"none\"/>\n",
       "<circle clip-path=\"url(#clip762)\" cx=\"950.951\" cy=\"295.272\" r=\"14.4\" fill=\"#000000\" fill-rule=\"evenodd\" fill-opacity=\"1\" stroke=\"none\"/>\n",
       "<circle clip-path=\"url(#clip762)\" cx=\"1174.52\" cy=\"162.231\" r=\"14.4\" fill=\"#000000\" fill-rule=\"evenodd\" fill-opacity=\"1\" stroke=\"none\"/>\n",
       "<circle clip-path=\"url(#clip762)\" cx=\"1398.1\" cy=\"112.139\" r=\"14.4\" fill=\"#000000\" fill-rule=\"evenodd\" fill-opacity=\"1\" stroke=\"none\"/>\n",
       "<circle clip-path=\"url(#clip762)\" cx=\"1621.67\" cy=\"94.7125\" r=\"14.4\" fill=\"#000000\" fill-rule=\"evenodd\" fill-opacity=\"1\" stroke=\"none\"/>\n",
       "<circle clip-path=\"url(#clip762)\" cx=\"1845.24\" cy=\"88.8189\" r=\"14.4\" fill=\"#000000\" fill-rule=\"evenodd\" fill-opacity=\"1\" stroke=\"none\"/>\n",
       "<circle clip-path=\"url(#clip762)\" cx=\"2068.82\" cy=\"86.8448\" r=\"14.4\" fill=\"#000000\" fill-rule=\"evenodd\" fill-opacity=\"1\" stroke=\"none\"/>\n",
       "<circle clip-path=\"url(#clip762)\" cx=\"2292.39\" cy=\"86.1857\" r=\"14.4\" fill=\"#000000\" fill-rule=\"evenodd\" fill-opacity=\"1\" stroke=\"none\"/>\n",
       "<polyline clip-path=\"url(#clip762)\" style=\"stroke:#000000; stroke-linecap:round; stroke-linejoin:round; stroke-width:8; stroke-opacity:1; fill:none\" points=\"\n",
       "  280.231,1384.24 280.231,1013.27 503.804,1013.27 503.804,585.234 727.378,585.234 727.378,295.272 950.951,295.272 950.951,162.231 1174.52,162.231 1174.52,112.139 \n",
       "  1398.1,112.139 1398.1,94.7125 1621.67,94.7125 1621.67,88.8189 1845.24,88.8189 1845.24,86.8448 2068.82,86.8448 2068.82,86.1857 2292.39,86.1857 \n",
       "  \"/>\n",
       "<polyline clip-path=\"url(#clip762)\" style=\"stroke:#ff0000; stroke-linecap:round; stroke-linejoin:round; stroke-width:8; stroke-opacity:1; fill:none\" stroke-dasharray=\"32, 20\" points=\"\n",
       "  280.231,102.086 503.804,102.086 727.378,102.086 950.951,102.086 1174.52,102.086 1398.1,102.086 1621.67,102.086 1845.24,102.086 2068.82,102.086 2292.39,102.086 \n",
       "  \n",
       "  \"/>\n",
       "<path clip-path=\"url(#clip760)\" d=\"\n",
       "M1521.78 1377.32 L2281.66 1377.32 L2281.66 1221.8 L1521.78 1221.8  Z\n",
       "  \" fill=\"#ffffff\" fill-rule=\"evenodd\" fill-opacity=\"1\"/>\n",
       "<polyline clip-path=\"url(#clip760)\" style=\"stroke:#000000; stroke-linecap:round; stroke-linejoin:round; stroke-width:4; stroke-opacity:1; fill:none\" points=\"\n",
       "  1521.78,1377.32 2281.66,1377.32 2281.66,1221.8 1521.78,1221.8 1521.78,1377.32 \n",
       "  \"/>\n",
       "<polyline clip-path=\"url(#clip760)\" style=\"stroke:#000000; stroke-linecap:round; stroke-linejoin:round; stroke-width:8; stroke-opacity:1; fill:none\" points=\"\n",
       "  1545.48,1273.64 1687.67,1273.64 \n",
       "  \"/>\n",
       "<path clip-path=\"url(#clip760)\" d=\"M1711.37 1256.36 L1718.33 1256.36 L1727.15 1279.87 L1736.02 1256.36 L1742.99 1256.36 L1742.99 1290.92 L1738.43 1290.92 L1738.43 1260.57 L1729.51 1284.27 L1724.82 1284.27 L1715.9 1260.57 L1715.9 1290.92 L1711.37 1290.92 L1711.37 1256.36 Z\" fill=\"#000000\" fill-rule=\"evenodd\" fill-opacity=\"1\" /><path clip-path=\"url(#clip760)\" d=\"M1762.13 1267.98 Q1758.7 1267.98 1756.71 1270.66 Q1754.72 1273.32 1754.72 1277.98 Q1754.72 1282.63 1756.69 1285.31 Q1758.68 1287.98 1762.13 1287.98 Q1765.53 1287.98 1767.52 1285.29 Q1769.51 1282.61 1769.51 1277.98 Q1769.51 1273.37 1767.52 1270.68 Q1765.53 1267.98 1762.13 1267.98 M1762.13 1264.36 Q1767.69 1264.36 1770.86 1267.98 Q1774.03 1271.59 1774.03 1277.98 Q1774.03 1284.34 1770.86 1287.98 Q1767.69 1291.59 1762.13 1291.59 Q1756.55 1291.59 1753.38 1287.98 Q1750.23 1284.34 1750.23 1277.98 Q1750.23 1271.59 1753.38 1267.98 Q1756.55 1264.36 1762.13 1264.36 Z\" fill=\"#000000\" fill-rule=\"evenodd\" fill-opacity=\"1\" /><path clip-path=\"url(#clip760)\" d=\"M1781.09 1254.9 L1785.35 1254.9 L1785.35 1290.92 L1781.09 1290.92 L1781.09 1254.9 Z\" fill=\"#000000\" fill-rule=\"evenodd\" fill-opacity=\"1\" /><path clip-path=\"url(#clip760)\" d=\"M1816.44 1276.89 L1816.44 1278.97 L1796.85 1278.97 Q1797.13 1283.37 1799.49 1285.68 Q1801.88 1287.98 1806.11 1287.98 Q1808.57 1287.98 1810.86 1287.37 Q1813.17 1286.77 1815.44 1285.57 L1815.44 1289.6 Q1813.15 1290.57 1810.74 1291.08 Q1808.33 1291.59 1805.86 1291.59 Q1799.65 1291.59 1796.02 1287.98 Q1792.41 1284.36 1792.41 1278.21 Q1792.41 1271.84 1795.83 1268.11 Q1799.28 1264.36 1805.12 1264.36 Q1810.35 1264.36 1813.38 1267.74 Q1816.44 1271.1 1816.44 1276.89 M1812.18 1275.64 Q1812.13 1272.14 1810.21 1270.06 Q1808.31 1267.98 1805.16 1267.98 Q1801.6 1267.98 1799.44 1269.99 Q1797.32 1272 1796.99 1275.66 L1812.18 1275.64 Z\" fill=\"#000000\" fill-rule=\"evenodd\" fill-opacity=\"1\" /><path clip-path=\"url(#clip760)\" d=\"M1851.62 1254.9 L1851.62 1258.44 L1847.55 1258.44 Q1845.25 1258.44 1844.35 1259.36 Q1843.47 1260.29 1843.47 1262.7 L1843.47 1264.99 L1850.49 1264.99 L1850.49 1268.3 L1843.47 1268.3 L1843.47 1290.92 L1839.19 1290.92 L1839.19 1268.3 L1835.12 1268.3 L1835.12 1264.99 L1839.19 1264.99 L1839.19 1263.18 Q1839.19 1258.86 1841.2 1256.89 Q1843.22 1254.9 1847.59 1254.9 L1851.62 1254.9 Z\" fill=\"#000000\" fill-rule=\"evenodd\" fill-opacity=\"1\" /><path clip-path=\"url(#clip760)\" d=\"M1870.21 1268.97 Q1869.49 1268.55 1868.63 1268.37 Q1867.8 1268.16 1866.78 1268.16 Q1863.17 1268.16 1861.23 1270.52 Q1859.31 1272.86 1859.31 1277.26 L1859.31 1290.92 L1855.02 1290.92 L1855.02 1264.99 L1859.31 1264.99 L1859.31 1269.02 Q1860.65 1266.66 1862.8 1265.52 Q1864.95 1264.36 1868.03 1264.36 Q1868.47 1264.36 1869 1264.43 Q1869.54 1264.48 1870.19 1264.6 L1870.21 1268.97 Z\" fill=\"#000000\" fill-rule=\"evenodd\" fill-opacity=\"1\" /><path clip-path=\"url(#clip760)\" d=\"M1886.46 1277.88 Q1881.3 1277.88 1879.31 1279.06 Q1877.31 1280.24 1877.31 1283.09 Q1877.31 1285.36 1878.8 1286.7 Q1880.3 1288.02 1882.87 1288.02 Q1886.41 1288.02 1888.54 1285.52 Q1890.69 1283 1890.69 1278.83 L1890.69 1277.88 L1886.46 1277.88 M1894.95 1276.12 L1894.95 1290.92 L1890.69 1290.92 L1890.69 1286.98 Q1889.24 1289.34 1887.06 1290.48 Q1884.88 1291.59 1881.74 1291.59 Q1877.75 1291.59 1875.39 1289.36 Q1873.06 1287.12 1873.06 1283.37 Q1873.06 1278.99 1875.97 1276.77 Q1878.91 1274.55 1884.72 1274.55 L1890.69 1274.55 L1890.69 1274.13 Q1890.69 1271.19 1888.75 1269.6 Q1886.83 1267.98 1883.33 1267.98 Q1881.11 1267.98 1879 1268.51 Q1876.9 1269.04 1874.95 1270.11 L1874.95 1266.17 Q1877.29 1265.27 1879.49 1264.83 Q1881.69 1264.36 1883.77 1264.36 Q1889.4 1264.36 1892.18 1267.28 Q1894.95 1270.2 1894.95 1276.12 Z\" fill=\"#000000\" fill-rule=\"evenodd\" fill-opacity=\"1\" /><path clip-path=\"url(#clip760)\" d=\"M1922.38 1265.98 L1922.38 1269.97 Q1920.58 1268.97 1918.75 1268.48 Q1916.94 1267.98 1915.09 1267.98 Q1910.95 1267.98 1908.66 1270.61 Q1906.37 1273.23 1906.37 1277.98 Q1906.37 1282.72 1908.66 1285.36 Q1910.95 1287.98 1915.09 1287.98 Q1916.94 1287.98 1918.75 1287.49 Q1920.58 1286.98 1922.38 1285.98 L1922.38 1289.92 Q1920.6 1290.75 1918.68 1291.17 Q1916.78 1291.59 1914.63 1291.59 Q1908.77 1291.59 1905.32 1287.91 Q1901.87 1284.23 1901.87 1277.98 Q1901.87 1271.63 1905.35 1268 Q1908.84 1264.36 1914.91 1264.36 Q1916.87 1264.36 1918.75 1264.78 Q1920.62 1265.17 1922.38 1265.98 Z\" fill=\"#000000\" fill-rule=\"evenodd\" fill-opacity=\"1\" /><path clip-path=\"url(#clip760)\" d=\"M1934 1257.63 L1934 1264.99 L1942.78 1264.99 L1942.78 1268.3 L1934 1268.3 L1934 1282.37 Q1934 1285.54 1934.86 1286.45 Q1935.74 1287.35 1938.4 1287.35 L1942.78 1287.35 L1942.78 1290.92 L1938.4 1290.92 Q1933.47 1290.92 1931.6 1289.09 Q1929.72 1287.23 1929.72 1282.37 L1929.72 1268.3 L1926.6 1268.3 L1926.6 1264.99 L1929.72 1264.99 L1929.72 1257.63 L1934 1257.63 Z\" fill=\"#000000\" fill-rule=\"evenodd\" fill-opacity=\"1\" /><path clip-path=\"url(#clip760)\" d=\"M1948.38 1264.99 L1952.64 1264.99 L1952.64 1290.92 L1948.38 1290.92 L1948.38 1264.99 M1948.38 1254.9 L1952.64 1254.9 L1952.64 1260.29 L1948.38 1260.29 L1948.38 1254.9 Z\" fill=\"#000000\" fill-rule=\"evenodd\" fill-opacity=\"1\" /><path clip-path=\"url(#clip760)\" d=\"M1971.6 1267.98 Q1968.17 1267.98 1966.18 1270.66 Q1964.19 1273.32 1964.19 1277.98 Q1964.19 1282.63 1966.16 1285.31 Q1968.15 1287.98 1971.6 1287.98 Q1975 1287.98 1976.99 1285.29 Q1978.98 1282.61 1978.98 1277.98 Q1978.98 1273.37 1976.99 1270.68 Q1975 1267.98 1971.6 1267.98 M1971.6 1264.36 Q1977.15 1264.36 1980.32 1267.98 Q1983.49 1271.59 1983.49 1277.98 Q1983.49 1284.34 1980.32 1287.98 Q1977.15 1291.59 1971.6 1291.59 Q1966.02 1291.59 1962.85 1287.98 Q1959.7 1284.34 1959.7 1277.98 Q1959.7 1271.59 1962.85 1267.98 Q1966.02 1264.36 1971.6 1264.36 Z\" fill=\"#000000\" fill-rule=\"evenodd\" fill-opacity=\"1\" /><path clip-path=\"url(#clip760)\" d=\"M2012.11 1275.27 L2012.11 1290.92 L2007.85 1290.92 L2007.85 1275.41 Q2007.85 1271.73 2006.41 1269.9 Q2004.98 1268.07 2002.11 1268.07 Q1998.66 1268.07 1996.67 1270.27 Q1994.68 1272.47 1994.68 1276.26 L1994.68 1290.92 L1990.39 1290.92 L1990.39 1264.99 L1994.68 1264.99 L1994.68 1269.02 Q1996.2 1266.68 1998.26 1265.52 Q2000.35 1264.36 2003.05 1264.36 Q2007.52 1264.36 2009.81 1267.14 Q2012.11 1269.9 2012.11 1275.27 Z\" fill=\"#000000\" fill-rule=\"evenodd\" fill-opacity=\"1\" /><path clip-path=\"url(#clip760)\" d=\"M2035.67 1264.99 L2039.93 1264.99 L2039.93 1290.92 L2035.67 1290.92 L2035.67 1264.99 M2035.67 1254.9 L2039.93 1254.9 L2039.93 1260.29 L2035.67 1260.29 L2035.67 1254.9 Z\" fill=\"#000000\" fill-rule=\"evenodd\" fill-opacity=\"1\" /><path clip-path=\"url(#clip760)\" d=\"M2064.47 1269.39 L2094.14 1269.39 L2094.14 1273.28 L2064.47 1273.28 L2064.47 1269.39 M2064.47 1278.83 L2094.14 1278.83 L2094.14 1282.77 L2064.47 1282.77 L2064.47 1278.83 Z\" fill=\"#000000\" fill-rule=\"evenodd\" fill-opacity=\"1\" /><path clip-path=\"url(#clip760)\" d=\"M2123.56 1260.2 L2123.56 1273.18 L2129.44 1273.18 Q2132.71 1273.18 2134.49 1271.49 Q2136.27 1269.8 2136.27 1266.68 Q2136.27 1263.58 2134.49 1261.89 Q2132.71 1260.2 2129.44 1260.2 L2123.56 1260.2 M2118.89 1256.36 L2129.44 1256.36 Q2135.25 1256.36 2138.22 1258.99 Q2141.2 1261.61 2141.2 1266.68 Q2141.2 1271.8 2138.22 1274.41 Q2135.25 1277.03 2129.44 1277.03 L2123.56 1277.03 L2123.56 1290.92 L2118.89 1290.92 L2118.89 1256.36 Z\" fill=\"#000000\" fill-rule=\"evenodd\" fill-opacity=\"1\" /><path clip-path=\"url(#clip760)\" d=\"M2166.57 1257.63 L2166.57 1264.99 L2175.35 1264.99 L2175.35 1268.3 L2166.57 1268.3 L2166.57 1282.37 Q2166.57 1285.54 2167.43 1286.45 Q2168.31 1287.35 2170.97 1287.35 L2175.35 1287.35 L2175.35 1290.92 L2170.97 1290.92 Q2166.04 1290.92 2164.17 1289.09 Q2162.29 1287.23 2162.29 1282.37 L2162.29 1268.3 L2159.17 1268.3 L2159.17 1264.99 L2162.29 1264.99 L2162.29 1257.63 L2166.57 1257.63 Z\" fill=\"#000000\" fill-rule=\"evenodd\" fill-opacity=\"1\" /><path clip-path=\"url(#clip760)\" d=\"M2190.99 1267.98 Q2187.57 1267.98 2185.58 1270.66 Q2183.59 1273.32 2183.59 1277.98 Q2183.59 1282.63 2185.55 1285.31 Q2187.54 1287.98 2190.99 1287.98 Q2194.4 1287.98 2196.39 1285.29 Q2198.38 1282.61 2198.38 1277.98 Q2198.38 1273.37 2196.39 1270.68 Q2194.4 1267.98 2190.99 1267.98 M2190.99 1264.36 Q2196.55 1264.36 2199.72 1267.98 Q2202.89 1271.59 2202.89 1277.98 Q2202.89 1284.34 2199.72 1287.98 Q2196.55 1291.59 2190.99 1291.59 Q2185.41 1291.59 2182.24 1287.98 Q2179.1 1284.34 2179.1 1277.98 Q2179.1 1271.59 2182.24 1267.98 Q2185.41 1264.36 2190.99 1264.36 Z\" fill=\"#000000\" fill-rule=\"evenodd\" fill-opacity=\"1\" /><path clip-path=\"url(#clip760)\" d=\"M2214.07 1287.03 L2214.07 1300.78 L2209.79 1300.78 L2209.79 1264.99 L2214.07 1264.99 L2214.07 1268.92 Q2215.41 1266.61 2217.45 1265.5 Q2219.51 1264.36 2222.36 1264.36 Q2227.08 1264.36 2230.02 1268.11 Q2232.98 1271.86 2232.98 1277.98 Q2232.98 1284.09 2230.02 1287.84 Q2227.08 1291.59 2222.36 1291.59 Q2219.51 1291.59 2217.45 1290.48 Q2215.41 1289.34 2214.07 1287.03 M2228.56 1277.98 Q2228.56 1273.28 2226.62 1270.61 Q2224.7 1267.93 2221.32 1267.93 Q2217.94 1267.93 2215.99 1270.61 Q2214.07 1273.28 2214.07 1277.98 Q2214.07 1282.67 2215.99 1285.36 Q2217.94 1288.02 2221.32 1288.02 Q2224.7 1288.02 2226.62 1285.36 Q2228.56 1282.67 2228.56 1277.98 Z\" fill=\"#000000\" fill-rule=\"evenodd\" fill-opacity=\"1\" /><path clip-path=\"url(#clip760)\" d=\"M2256.57 1265.75 L2256.57 1269.78 Q2254.77 1268.86 2252.82 1268.39 Q2250.88 1267.93 2248.79 1267.93 Q2245.62 1267.93 2244.03 1268.9 Q2242.45 1269.87 2242.45 1271.82 Q2242.45 1273.3 2243.59 1274.16 Q2244.72 1274.99 2248.15 1275.75 L2249.6 1276.08 Q2254.14 1277.05 2256.04 1278.83 Q2257.96 1280.59 2257.96 1283.76 Q2257.96 1287.37 2255.09 1289.48 Q2252.24 1291.59 2247.24 1291.59 Q2245.16 1291.59 2242.89 1291.17 Q2240.65 1290.78 2238.15 1289.97 L2238.15 1285.57 Q2240.51 1286.79 2242.8 1287.42 Q2245.09 1288.02 2247.34 1288.02 Q2250.35 1288.02 2251.97 1287 Q2253.59 1285.96 2253.59 1284.09 Q2253.59 1282.35 2252.41 1281.42 Q2251.25 1280.5 2247.29 1279.64 L2245.81 1279.3 Q2241.85 1278.46 2240.09 1276.75 Q2238.33 1275.01 2238.33 1272 Q2238.33 1268.35 2240.92 1266.36 Q2243.52 1264.36 2248.28 1264.36 Q2250.65 1264.36 2252.73 1264.71 Q2254.81 1265.06 2256.57 1265.75 Z\" fill=\"#000000\" fill-rule=\"evenodd\" fill-opacity=\"1\" /><polyline clip-path=\"url(#clip760)\" style=\"stroke:#ff0000; stroke-linecap:round; stroke-linejoin:round; stroke-width:8; stroke-opacity:1; fill:none\" stroke-dasharray=\"32, 20\" points=\"\n",
       "  1545.48,1325.48 1687.67,1325.48 \n",
       "  \"/>\n",
       "<path clip-path=\"url(#clip760)\" d=\"M1711.37 1308.2 L1740.6 1308.2 L1740.6 1312.13 L1728.33 1312.13 L1728.33 1342.76 L1723.63 1342.76 L1723.63 1312.13 L1711.37 1312.13 L1711.37 1308.2 Z\" fill=\"#000000\" fill-rule=\"evenodd\" fill-opacity=\"1\" /><path clip-path=\"url(#clip760)\" d=\"M1748.87 1329.72 Q1743.7 1329.72 1741.71 1330.9 Q1739.72 1332.08 1739.72 1334.93 Q1739.72 1337.2 1741.2 1338.54 Q1742.71 1339.86 1745.28 1339.86 Q1748.82 1339.86 1750.95 1337.36 Q1753.1 1334.84 1753.1 1330.67 L1753.1 1329.72 L1748.87 1329.72 M1757.36 1327.96 L1757.36 1342.76 L1753.1 1342.76 L1753.1 1338.82 Q1751.64 1341.18 1749.47 1342.32 Q1747.29 1343.43 1744.14 1343.43 Q1740.16 1343.43 1737.8 1341.2 Q1735.46 1338.96 1735.46 1335.21 Q1735.46 1330.83 1738.38 1328.61 Q1741.32 1326.39 1747.13 1326.39 L1753.1 1326.39 L1753.1 1325.97 Q1753.1 1323.03 1751.16 1321.44 Q1749.24 1319.82 1745.74 1319.82 Q1743.52 1319.82 1741.41 1320.35 Q1739.31 1320.88 1737.36 1321.95 L1737.36 1318.01 Q1739.7 1317.11 1741.9 1316.67 Q1744.1 1316.2 1746.18 1316.2 Q1751.81 1316.2 1754.58 1319.12 Q1757.36 1322.04 1757.36 1327.96 Z\" fill=\"#000000\" fill-rule=\"evenodd\" fill-opacity=\"1\" /><path clip-path=\"url(#clip760)\" d=\"M1781.16 1320.81 Q1780.44 1320.39 1779.58 1320.21 Q1778.75 1320 1777.73 1320 Q1774.12 1320 1772.18 1322.36 Q1770.26 1324.7 1770.26 1329.1 L1770.26 1342.76 L1765.97 1342.76 L1765.97 1316.83 L1770.26 1316.83 L1770.26 1320.86 Q1771.6 1318.5 1773.75 1317.36 Q1775.9 1316.2 1778.98 1316.2 Q1779.42 1316.2 1779.95 1316.27 Q1780.49 1316.32 1781.13 1316.44 L1781.16 1320.81 Z\" fill=\"#000000\" fill-rule=\"evenodd\" fill-opacity=\"1\" /><path clip-path=\"url(#clip760)\" d=\"M1801.85 1329.49 Q1801.85 1324.86 1799.93 1322.32 Q1798.03 1319.77 1794.58 1319.77 Q1791.16 1319.77 1789.24 1322.32 Q1787.34 1324.86 1787.34 1329.49 Q1787.34 1334.1 1789.24 1336.64 Q1791.16 1339.19 1794.58 1339.19 Q1798.03 1339.19 1799.93 1336.64 Q1801.85 1334.1 1801.85 1329.49 M1806.11 1339.54 Q1806.11 1346.16 1803.17 1349.38 Q1800.23 1352.62 1794.17 1352.62 Q1791.92 1352.62 1789.93 1352.27 Q1787.94 1351.95 1786.07 1351.25 L1786.07 1347.11 Q1787.94 1348.13 1789.77 1348.61 Q1791.6 1349.1 1793.5 1349.1 Q1797.69 1349.1 1799.77 1346.9 Q1801.85 1344.72 1801.85 1340.3 L1801.85 1338.2 Q1800.53 1340.49 1798.47 1341.62 Q1796.41 1342.76 1793.54 1342.76 Q1788.77 1342.76 1785.86 1339.12 Q1782.94 1335.49 1782.94 1329.49 Q1782.94 1323.47 1785.86 1319.84 Q1788.77 1316.2 1793.54 1316.2 Q1796.41 1316.2 1798.47 1317.34 Q1800.53 1318.47 1801.85 1320.76 L1801.85 1316.83 L1806.11 1316.83 L1806.11 1339.54 Z\" fill=\"#000000\" fill-rule=\"evenodd\" fill-opacity=\"1\" /><path clip-path=\"url(#clip760)\" d=\"M1837.06 1328.73 L1837.06 1330.81 L1817.48 1330.81 Q1817.75 1335.21 1820.12 1337.52 Q1822.5 1339.82 1826.74 1339.82 Q1829.19 1339.82 1831.48 1339.21 Q1833.8 1338.61 1836.06 1337.41 L1836.06 1341.44 Q1833.77 1342.41 1831.37 1342.92 Q1828.96 1343.43 1826.48 1343.43 Q1820.28 1343.43 1816.64 1339.82 Q1813.03 1336.2 1813.03 1330.05 Q1813.03 1323.68 1816.46 1319.95 Q1819.91 1316.2 1825.74 1316.2 Q1830.97 1316.2 1834 1319.58 Q1837.06 1322.94 1837.06 1328.73 M1832.8 1327.48 Q1832.75 1323.98 1830.83 1321.9 Q1828.94 1319.82 1825.79 1319.82 Q1822.22 1319.82 1820.07 1321.83 Q1817.94 1323.84 1817.62 1327.5 L1832.8 1327.48 Z\" fill=\"#000000\" fill-rule=\"evenodd\" fill-opacity=\"1\" /><path clip-path=\"url(#clip760)\" d=\"M1848.26 1309.47 L1848.26 1316.83 L1857.04 1316.83 L1857.04 1320.14 L1848.26 1320.14 L1848.26 1334.21 Q1848.26 1337.38 1849.12 1338.29 Q1850 1339.19 1852.66 1339.19 L1857.04 1339.19 L1857.04 1342.76 L1852.66 1342.76 Q1847.73 1342.76 1845.86 1340.93 Q1843.98 1339.07 1843.98 1334.21 L1843.98 1320.14 L1840.86 1320.14 L1840.86 1316.83 L1843.98 1316.83 L1843.98 1309.47 L1848.26 1309.47 Z\" fill=\"#000000\" fill-rule=\"evenodd\" fill-opacity=\"1\" /><path clip-path=\"url(#clip760)\" d=\"M1878.45 1342.04 L1878.45 1337.78 Q1880.21 1338.61 1882.01 1339.05 Q1883.82 1339.49 1885.56 1339.49 Q1890.19 1339.49 1892.62 1336.39 Q1895.07 1333.26 1895.42 1326.92 Q1894.07 1328.91 1892.01 1329.98 Q1889.95 1331.04 1887.45 1331.04 Q1882.27 1331.04 1879.24 1327.92 Q1876.23 1324.77 1876.23 1319.33 Q1876.23 1314.01 1879.37 1310.79 Q1882.52 1307.57 1887.75 1307.57 Q1893.75 1307.57 1896.9 1312.18 Q1900.07 1316.76 1900.07 1325.51 Q1900.07 1333.68 1896.18 1338.57 Q1892.31 1343.43 1885.76 1343.43 Q1884 1343.43 1882.2 1343.08 Q1880.39 1342.73 1878.45 1342.04 M1887.75 1327.39 Q1890.9 1327.39 1892.73 1325.23 Q1894.58 1323.08 1894.58 1319.33 Q1894.58 1315.6 1892.73 1313.45 Q1890.9 1311.27 1887.75 1311.27 Q1884.61 1311.27 1882.75 1313.45 Q1880.93 1315.6 1880.93 1319.33 Q1880.93 1323.08 1882.75 1325.23 Q1884.61 1327.39 1887.75 1327.39 Z\" fill=\"#000000\" fill-rule=\"evenodd\" fill-opacity=\"1\" /><path clip-path=\"url(#clip760)\" d=\"M1908.61 1342.04 L1908.61 1337.78 Q1910.37 1338.61 1912.18 1339.05 Q1913.98 1339.49 1915.72 1339.49 Q1920.35 1339.49 1922.78 1336.39 Q1925.23 1333.26 1925.58 1326.92 Q1924.24 1328.91 1922.18 1329.98 Q1920.12 1331.04 1917.62 1331.04 Q1912.43 1331.04 1909.4 1327.92 Q1906.39 1324.77 1906.39 1319.33 Q1906.39 1314.01 1909.54 1310.79 Q1912.68 1307.57 1917.92 1307.57 Q1923.91 1307.57 1927.06 1312.18 Q1930.23 1316.76 1930.23 1325.51 Q1930.23 1333.68 1926.34 1338.57 Q1922.48 1343.43 1915.93 1343.43 Q1914.17 1343.43 1912.36 1343.08 Q1910.56 1342.73 1908.61 1342.04 M1917.92 1327.39 Q1921.06 1327.39 1922.89 1325.23 Q1924.75 1323.08 1924.75 1319.33 Q1924.75 1315.6 1922.89 1313.45 Q1921.06 1311.27 1917.92 1311.27 Q1914.77 1311.27 1912.92 1313.45 Q1911.09 1315.6 1911.09 1319.33 Q1911.09 1323.08 1912.92 1325.23 Q1914.77 1327.39 1917.92 1327.39 Z\" fill=\"#000000\" fill-rule=\"evenodd\" fill-opacity=\"1\" /><path clip-path=\"url(#clip760)\" d=\"M1938.63 1336.88 L1943.52 1336.88 L1943.52 1342.76 L1938.63 1342.76 L1938.63 1336.88 Z\" fill=\"#000000\" fill-rule=\"evenodd\" fill-opacity=\"1\" /><path clip-path=\"url(#clip760)\" d=\"M1963.7 1311.27 Q1960.09 1311.27 1958.26 1314.84 Q1956.46 1318.38 1956.46 1325.51 Q1956.46 1332.62 1958.26 1336.18 Q1960.09 1339.72 1963.7 1339.72 Q1967.34 1339.72 1969.14 1336.18 Q1970.97 1332.62 1970.97 1325.51 Q1970.97 1318.38 1969.14 1314.84 Q1967.34 1311.27 1963.7 1311.27 M1963.7 1307.57 Q1969.51 1307.57 1972.57 1312.18 Q1975.65 1316.76 1975.65 1325.51 Q1975.65 1334.24 1972.57 1338.84 Q1969.51 1343.43 1963.7 1343.43 Q1957.89 1343.43 1954.81 1338.84 Q1951.76 1334.24 1951.76 1325.51 Q1951.76 1316.76 1954.81 1312.18 Q1957.89 1307.57 1963.7 1307.57 Z\" fill=\"#000000\" fill-rule=\"evenodd\" fill-opacity=\"1\" /><path clip-path=\"url(#clip760)\" d=\"M2013.26 1327.55 Q2011.25 1327.55 2010.09 1329.26 Q2008.96 1330.97 2008.96 1334.03 Q2008.96 1337.04 2010.09 1338.77 Q2011.25 1340.49 2013.26 1340.49 Q2015.23 1340.49 2016.36 1338.77 Q2017.52 1337.04 2017.52 1334.03 Q2017.52 1331 2016.36 1329.28 Q2015.23 1327.55 2013.26 1327.55 M2013.26 1324.61 Q2016.92 1324.61 2019.07 1327.15 Q2021.23 1329.7 2021.23 1334.03 Q2021.23 1338.36 2019.05 1340.9 Q2016.9 1343.43 2013.26 1343.43 Q2009.56 1343.43 2007.41 1340.9 Q2005.25 1338.36 2005.25 1334.03 Q2005.25 1329.68 2007.41 1327.15 Q2009.58 1324.61 2013.26 1324.61 M1989.37 1310.51 Q1987.38 1310.51 1986.23 1312.25 Q1985.09 1313.96 1985.09 1316.97 Q1985.09 1320.02 1986.23 1321.74 Q1987.36 1323.45 1989.37 1323.45 Q1991.39 1323.45 1992.52 1321.74 Q1993.68 1320.02 1993.68 1316.97 Q1993.68 1313.98 1992.52 1312.25 Q1991.37 1310.51 1989.37 1310.51 M2010.28 1307.57 L2013.98 1307.57 L1992.36 1343.43 L1988.66 1343.43 L2010.28 1307.57 M1989.37 1307.57 Q1993.03 1307.57 1995.21 1310.12 Q1997.38 1312.64 1997.38 1316.97 Q1997.38 1321.34 1995.21 1323.87 Q1993.05 1326.39 1989.37 1326.39 Q1985.69 1326.39 1983.54 1323.87 Q1981.41 1321.32 1981.41 1316.97 Q1981.41 1312.66 1983.56 1310.12 Q1985.72 1307.57 1989.37 1307.57 Z\" fill=\"#000000\" fill-rule=\"evenodd\" fill-opacity=\"1\" /><path clip-path=\"url(#clip760)\" d=\"M2047.5 1338.87 L2047.5 1352.62 L2043.22 1352.62 L2043.22 1316.83 L2047.5 1316.83 L2047.5 1320.76 Q2048.84 1318.45 2050.88 1317.34 Q2052.94 1316.2 2055.79 1316.2 Q2060.51 1316.2 2063.45 1319.95 Q2066.41 1323.7 2066.41 1329.82 Q2066.41 1335.93 2063.45 1339.68 Q2060.51 1343.43 2055.79 1343.43 Q2052.94 1343.43 2050.88 1342.32 Q2048.84 1341.18 2047.5 1338.87 M2061.99 1329.82 Q2061.99 1325.12 2060.05 1322.45 Q2058.12 1319.77 2054.74 1319.77 Q2051.36 1319.77 2049.42 1322.45 Q2047.5 1325.12 2047.5 1329.82 Q2047.5 1334.51 2049.42 1337.2 Q2051.36 1339.86 2054.74 1339.86 Q2058.12 1339.86 2060.05 1337.2 Q2061.99 1334.51 2061.99 1329.82 Z\" fill=\"#000000\" fill-rule=\"evenodd\" fill-opacity=\"1\" /><path clip-path=\"url(#clip760)\" d=\"M2073.03 1332.52 L2073.03 1316.83 L2077.29 1316.83 L2077.29 1332.36 Q2077.29 1336.04 2078.73 1337.89 Q2080.16 1339.72 2083.03 1339.72 Q2086.48 1339.72 2088.47 1337.52 Q2090.48 1335.32 2090.48 1331.53 L2090.48 1316.83 L2094.74 1316.83 L2094.74 1342.76 L2090.48 1342.76 L2090.48 1338.77 Q2088.93 1341.13 2086.87 1342.29 Q2084.84 1343.43 2082.13 1343.43 Q2077.66 1343.43 2075.35 1340.65 Q2073.03 1337.87 2073.03 1332.52 M2083.75 1316.2 L2083.75 1316.2 Z\" fill=\"#000000\" fill-rule=\"evenodd\" fill-opacity=\"1\" /><path clip-path=\"url(#clip760)\" d=\"M2118.54 1320.81 Q2117.82 1320.39 2116.97 1320.21 Q2116.13 1320 2115.11 1320 Q2111.5 1320 2109.56 1322.36 Q2107.64 1324.7 2107.64 1329.1 L2107.64 1342.76 L2103.36 1342.76 L2103.36 1316.83 L2107.64 1316.83 L2107.64 1320.86 Q2108.98 1318.5 2111.13 1317.36 Q2113.29 1316.2 2116.36 1316.2 Q2116.8 1316.2 2117.34 1316.27 Q2117.87 1316.32 2118.52 1316.44 L2118.54 1320.81 Z\" fill=\"#000000\" fill-rule=\"evenodd\" fill-opacity=\"1\" /><path clip-path=\"url(#clip760)\" d=\"M2123.01 1316.83 L2127.27 1316.83 L2127.27 1342.76 L2123.01 1342.76 L2123.01 1316.83 M2123.01 1306.74 L2127.27 1306.74 L2127.27 1312.13 L2123.01 1312.13 L2123.01 1306.74 Z\" fill=\"#000000\" fill-rule=\"evenodd\" fill-opacity=\"1\" /><path clip-path=\"url(#clip760)\" d=\"M2140.39 1309.47 L2140.39 1316.83 L2149.17 1316.83 L2149.17 1320.14 L2140.39 1320.14 L2140.39 1334.21 Q2140.39 1337.38 2141.25 1338.29 Q2142.13 1339.19 2144.79 1339.19 L2149.17 1339.19 L2149.17 1342.76 L2144.79 1342.76 Q2139.86 1342.76 2137.98 1340.93 Q2136.11 1339.07 2136.11 1334.21 L2136.11 1320.14 L2132.98 1320.14 L2132.98 1316.83 L2136.11 1316.83 L2136.11 1309.47 L2140.39 1309.47 Z\" fill=\"#000000\" fill-rule=\"evenodd\" fill-opacity=\"1\" /><path clip-path=\"url(#clip760)\" d=\"M2165.55 1345.16 Q2163.75 1349.79 2162.04 1351.2 Q2160.32 1352.62 2157.45 1352.62 L2154.05 1352.62 L2154.05 1349.05 L2156.55 1349.05 Q2158.31 1349.05 2159.28 1348.22 Q2160.25 1347.38 2161.43 1344.28 L2162.2 1342.34 L2151.71 1316.83 L2156.23 1316.83 L2164.33 1337.11 L2172.43 1316.83 L2176.94 1316.83 L2165.55 1345.16 Z\" fill=\"#000000\" fill-rule=\"evenodd\" fill-opacity=\"1\" /></svg>\n"
      ]
     },
     "execution_count": 15,
     "metadata": {},
     "output_type": "execute_result"
    }
   ],
   "source": [
    "# visualize -\n",
    "stages = (0:number_of_levels-1) |> collect\n",
    "plot(stages,species_mole_fraction_array_top[idx_target_compound,:], linetype=:steppre,lw=2,legend=:bottomright, \n",
    "\t\tlabel=\"Mole fraction i = P tops\", markershape=:circle, markercolor=:black, linecolor=:black)\n",
    "xlabel!(\"Stage index l\",fontsize=18)\n",
    "ylabel!(\"Tops mole fraction xᵢ (dimensionless)\",fontsize=18)\n",
    "\n",
    "# make a 𝒫 line target line - \n",
    "target_line = 𝒫 *ones(number_of_levels)\n",
    "plot!(stages, target_line, color=\"red\", lw=2,linestyle=:dash, label=\"Target $(𝒫*100)% purity\")"
   ]
  }
 ],
 "metadata": {
  "kernelspec": {
   "display_name": "Julia 1.8.0",
   "language": "julia",
   "name": "julia-1.8"
  },
  "language_info": {
   "file_extension": ".jl",
   "mimetype": "application/julia",
   "name": "julia",
   "version": "1.8.2"
  }
 },
 "nbformat": 4,
 "nbformat_minor": 5
}
